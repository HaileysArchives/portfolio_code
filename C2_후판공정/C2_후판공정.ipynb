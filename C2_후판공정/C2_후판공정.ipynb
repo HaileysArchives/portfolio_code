{
 "cells": [
  {
   "cell_type": "code",
   "execution_count": 1,
   "id": "b36094b3-0425-41b8-aa31-a6f6e4c4e5c7",
   "metadata": {},
   "outputs": [],
   "source": [
    "# path = 'C:/Users/cokr3/OneDrive/바탕 화면/'"
   ]
  },
  {
   "cell_type": "markdown",
   "id": "85191b9b-7fb7-4f2d-a60a-08ce37018f04",
   "metadata": {},
   "source": [
    "#### import module"
   ]
  },
  {
   "cell_type": "code",
   "execution_count": 2,
   "id": "b42c76a3",
   "metadata": {},
   "outputs": [
    {
     "data": {
      "text/plain": [
       "['NanumGothic',\n",
       " 'NanumMyeongjo',\n",
       " 'NanumMyeongjo',\n",
       " 'NanumGothic',\n",
       " 'NanumSquareRound',\n",
       " 'NanumSquare',\n",
       " 'NanumBarunGothic',\n",
       " 'NanumSquareRound',\n",
       " 'NanumBarunGothic',\n",
       " 'NanumSquare']"
      ]
     },
     "execution_count": 2,
     "metadata": {},
     "output_type": "execute_result"
    }
   ],
   "source": [
    "import matplotlib    \n",
    "import matplotlib.font_manager\n",
    "\n",
    "[f.name for f in matplotlib.font_manager.fontManager.ttflist if 'Nanum' in f.name]\n",
    " # ['NanumBarunGothic',\n",
    " # 'NanumMyeongjo',\n",
    " # 'NanumMyeongjo',\n",
    " # 'NanumGothic',\n",
    " # 'NanumBarunGothic',\n",
    " # 'NanumGothic']"
   ]
  },
  {
   "cell_type": "code",
   "execution_count": 3,
   "id": "ca157894",
   "metadata": {},
   "outputs": [],
   "source": [
    "import matplotlib\n",
    "import matplotlib.pyplot as plt\n",
    "# 유니코드 깨짐현상 해결\n",
    "matplotlib.rcParams['axes.unicode_minus'] = False\n",
    "\n",
    "# 나눔고딕 폰트 적용\n",
    "plt.rcParams[\"font.family\"] = 'NanumGothic'"
   ]
  },
  {
   "cell_type": "code",
   "execution_count": 4,
   "id": "373401d2-db6a-4906-8e23-4e9144691fe0",
   "metadata": {},
   "outputs": [],
   "source": [
    "import pandas as pd\n",
    "import numpy as np\n",
    "import matplotlib.pyplot as plt\n",
    "import matplotlib\n",
    "import seaborn as sns\n",
    "import datetime \n",
    "\n",
    "from sklearn.model_selection import train_test_split\n",
    "from sklearn.metrics import accuracy_score, f1_score, precision_score, recall_score, roc_auc_score,confusion_matrix\n",
    "from sklearn.tree import export_graphviz\n",
    "import graphviz\n",
    "from sklearn.preprocessing import OneHotEncoder, StandardScaler\n",
    "from sklearn.ensemble import RandomForestClassifier\n",
    "from xgboost import XGBClassifier\n",
    "from scipy.stats import shapiro\n",
    "import scipy.stats as stats\n",
    "\n",
    "from statsmodels.api import Logit\n",
    "from sklearn.metrics import accuracy_score, f1_score\n",
    "from sklearn.metrics import confusion_matrix, classification_report\n",
    "from sklearn.linear_model import LogisticRegression\n",
    "from sklearn.metrics import accuracy_score, classification_report\n",
    "from scipy.stats import chi2_contingency, spearmanr\n",
    "\n",
    "import warnings\n",
    "warnings.filterwarnings(\"ignore\")\n",
    "\n",
    "# plt.rcParams['font.family'] = 'NanumGothic'\n",
    "# matplotlib.rc(\"axes\", unicode_minus = False)"
   ]
  },
  {
   "cell_type": "code",
   "execution_count": 5,
   "id": "1747ec57",
   "metadata": {},
   "outputs": [],
   "source": [
    "plt.rcParams['font.family'] = 'NanumGothic'\n",
    "matplotlib.rc('axes', unicode_minus=False)"
   ]
  },
  {
   "cell_type": "markdown",
   "id": "3ae1f2c0-ddfa-4650-8da5-c7b5d335a924",
   "metadata": {},
   "source": [
    "- 사용자 지정 함수 생성"
   ]
  },
  {
   "cell_type": "code",
   "execution_count": 6,
   "id": "cf8d18d9",
   "metadata": {},
   "outputs": [],
   "source": [
    "# 분류모델 통합 평가 함수\n",
    "def eval_class_model(y_test, y_pred):\n",
    "    confusion = confusion_matrix(y_test,y_pred)\n",
    "    accuracy = accuracy_score(y_test, y_pred)\n",
    "    precision = precision_score(y_test,y_pred)\n",
    "    recall = f1_score(y_test, y_pred)\n",
    "    f1 = f1_score(y_test,y_pred)\n",
    "    AUC = roc_auc_score(y_test,y_pred)\n",
    "    print('혼돈행렬 : \\n{}'.format(confusion))\n",
    "    print('accuracy : {:.4f}'.format(accuracy))\n",
    "    print('precision : {:.4f}'.format(precision))\n",
    "    print('recall : {:.4f}'.format(recall))\n",
    "    print('f1 : {:.4f}'.format(f1))\n",
    "    print('AUC : {:.4f}'.format(AUC))\n"
   ]
  },
  {
   "cell_type": "markdown",
   "id": "10410647-18e9-460f-a733-87624dcf2877",
   "metadata": {},
   "source": [
    "#### 데이터 불러오기"
   ]
  },
  {
   "cell_type": "code",
   "execution_count": 7,
   "id": "e935d913-62c7-435c-81c5-3df147790d1b",
   "metadata": {
    "scrolled": true
   },
   "outputs": [
    {
     "data": {
      "text/html": [
       "<div>\n",
       "<style scoped>\n",
       "    .dataframe tbody tr th:only-of-type {\n",
       "        vertical-align: middle;\n",
       "    }\n",
       "\n",
       "    .dataframe tbody tr th {\n",
       "        vertical-align: top;\n",
       "    }\n",
       "\n",
       "    .dataframe thead th {\n",
       "        text-align: right;\n",
       "    }\n",
       "</style>\n",
       "<table border=\"1\" class=\"dataframe\">\n",
       "  <thead>\n",
       "    <tr style=\"text-align: right;\">\n",
       "      <th></th>\n",
       "      <th>plate_no</th>\n",
       "      <th>rolling_date</th>\n",
       "      <th>scale</th>\n",
       "      <th>spec_long</th>\n",
       "      <th>spec_country</th>\n",
       "      <th>steel_kind</th>\n",
       "      <th>pt_thick</th>\n",
       "      <th>pt_width</th>\n",
       "      <th>pt_length</th>\n",
       "      <th>hsb</th>\n",
       "      <th>...</th>\n",
       "      <th>fur_heat_temp</th>\n",
       "      <th>fur_heat_time</th>\n",
       "      <th>fur_soak_temp</th>\n",
       "      <th>fur_soak_time</th>\n",
       "      <th>fur_total_time</th>\n",
       "      <th>fur_ex_temp</th>\n",
       "      <th>rolling_method</th>\n",
       "      <th>rolling_temp</th>\n",
       "      <th>descaling_count</th>\n",
       "      <th>work_group</th>\n",
       "    </tr>\n",
       "  </thead>\n",
       "  <tbody>\n",
       "    <tr>\n",
       "      <th>0</th>\n",
       "      <td>PLT_1001</td>\n",
       "      <td>03JAN2023:07:07:53</td>\n",
       "      <td>양품</td>\n",
       "      <td>AB/EH32-TM</td>\n",
       "      <td>미국</td>\n",
       "      <td>T</td>\n",
       "      <td>32</td>\n",
       "      <td>3700</td>\n",
       "      <td>15100</td>\n",
       "      <td>적용</td>\n",
       "      <td>...</td>\n",
       "      <td>1144</td>\n",
       "      <td>116</td>\n",
       "      <td>1133</td>\n",
       "      <td>59</td>\n",
       "      <td>259</td>\n",
       "      <td>1133</td>\n",
       "      <td>TMCP(온도제어)</td>\n",
       "      <td>934</td>\n",
       "      <td>8</td>\n",
       "      <td>1조</td>\n",
       "    </tr>\n",
       "    <tr>\n",
       "      <th>1</th>\n",
       "      <td>PLT_1002</td>\n",
       "      <td>03JAN2023:07:21:22</td>\n",
       "      <td>양품</td>\n",
       "      <td>AB/EH32-TM</td>\n",
       "      <td>미국</td>\n",
       "      <td>T</td>\n",
       "      <td>32</td>\n",
       "      <td>3700</td>\n",
       "      <td>15100</td>\n",
       "      <td>적용</td>\n",
       "      <td>...</td>\n",
       "      <td>1144</td>\n",
       "      <td>122</td>\n",
       "      <td>1135</td>\n",
       "      <td>53</td>\n",
       "      <td>238</td>\n",
       "      <td>1135</td>\n",
       "      <td>TMCP(온도제어)</td>\n",
       "      <td>937</td>\n",
       "      <td>8</td>\n",
       "      <td>1조</td>\n",
       "    </tr>\n",
       "    <tr>\n",
       "      <th>2</th>\n",
       "      <td>PLT_1003</td>\n",
       "      <td>03JAN2023:07:31:15</td>\n",
       "      <td>양품</td>\n",
       "      <td>NV-E36-TM</td>\n",
       "      <td>영국</td>\n",
       "      <td>T</td>\n",
       "      <td>33</td>\n",
       "      <td>3600</td>\n",
       "      <td>19200</td>\n",
       "      <td>적용</td>\n",
       "      <td>...</td>\n",
       "      <td>1129</td>\n",
       "      <td>116</td>\n",
       "      <td>1121</td>\n",
       "      <td>55</td>\n",
       "      <td>258</td>\n",
       "      <td>1121</td>\n",
       "      <td>TMCP(온도제어)</td>\n",
       "      <td>889</td>\n",
       "      <td>8</td>\n",
       "      <td>1조</td>\n",
       "    </tr>\n",
       "    <tr>\n",
       "      <th>3</th>\n",
       "      <td>PLT_1004</td>\n",
       "      <td>03JAN2023:07:41:01</td>\n",
       "      <td>양품</td>\n",
       "      <td>NV-E36-TM</td>\n",
       "      <td>영국</td>\n",
       "      <td>T</td>\n",
       "      <td>33</td>\n",
       "      <td>3600</td>\n",
       "      <td>19200</td>\n",
       "      <td>적용</td>\n",
       "      <td>...</td>\n",
       "      <td>1152</td>\n",
       "      <td>125</td>\n",
       "      <td>1127</td>\n",
       "      <td>68</td>\n",
       "      <td>266</td>\n",
       "      <td>1127</td>\n",
       "      <td>TMCP(온도제어)</td>\n",
       "      <td>885</td>\n",
       "      <td>8</td>\n",
       "      <td>1조</td>\n",
       "    </tr>\n",
       "    <tr>\n",
       "      <th>4</th>\n",
       "      <td>PLT_1005</td>\n",
       "      <td>03JAN2023:07:52:40</td>\n",
       "      <td>양품</td>\n",
       "      <td>BV-EH36-TM</td>\n",
       "      <td>프랑스</td>\n",
       "      <td>T</td>\n",
       "      <td>38</td>\n",
       "      <td>3100</td>\n",
       "      <td>13300</td>\n",
       "      <td>적용</td>\n",
       "      <td>...</td>\n",
       "      <td>1140</td>\n",
       "      <td>134</td>\n",
       "      <td>1128</td>\n",
       "      <td>48</td>\n",
       "      <td>246</td>\n",
       "      <td>1128</td>\n",
       "      <td>TMCP(온도제어)</td>\n",
       "      <td>873</td>\n",
       "      <td>8</td>\n",
       "      <td>1조</td>\n",
       "    </tr>\n",
       "  </tbody>\n",
       "</table>\n",
       "<p>5 rows × 22 columns</p>\n",
       "</div>"
      ],
      "text/plain": [
       "   plate_no        rolling_date scale   spec_long spec_country steel_kind  \\\n",
       "0  PLT_1001  03JAN2023:07:07:53    양품  AB/EH32-TM           미국          T   \n",
       "1  PLT_1002  03JAN2023:07:21:22    양품  AB/EH32-TM           미국          T   \n",
       "2  PLT_1003  03JAN2023:07:31:15    양품   NV-E36-TM           영국          T   \n",
       "3  PLT_1004  03JAN2023:07:41:01    양품   NV-E36-TM           영국          T   \n",
       "4  PLT_1005  03JAN2023:07:52:40    양품  BV-EH36-TM          프랑스          T   \n",
       "\n",
       "   pt_thick  pt_width  pt_length hsb  ... fur_heat_temp fur_heat_time  \\\n",
       "0        32      3700      15100  적용  ...          1144           116   \n",
       "1        32      3700      15100  적용  ...          1144           122   \n",
       "2        33      3600      19200  적용  ...          1129           116   \n",
       "3        33      3600      19200  적용  ...          1152           125   \n",
       "4        38      3100      13300  적용  ...          1140           134   \n",
       "\n",
       "   fur_soak_temp  fur_soak_time  fur_total_time  fur_ex_temp  rolling_method  \\\n",
       "0           1133             59             259         1133      TMCP(온도제어)   \n",
       "1           1135             53             238         1135      TMCP(온도제어)   \n",
       "2           1121             55             258         1121      TMCP(온도제어)   \n",
       "3           1127             68             266         1127      TMCP(온도제어)   \n",
       "4           1128             48             246         1128      TMCP(온도제어)   \n",
       "\n",
       "   rolling_temp descaling_count  work_group  \n",
       "0           934               8          1조  \n",
       "1           937               8          1조  \n",
       "2           889               8          1조  \n",
       "3           885               8          1조  \n",
       "4           873               8          1조  \n",
       "\n",
       "[5 rows x 22 columns]"
      ]
     },
     "execution_count": 7,
     "metadata": {},
     "output_type": "execute_result"
    }
   ],
   "source": [
    "df_raw = pd.read_csv('SCALE불량.csv', encoding = \"euc-kr\")\n",
    "df_raw.head()"
   ]
  },
  {
   "cell_type": "markdown",
   "id": "cb2a70b5-d595-474c-b7b5-6e7e8427abdd",
   "metadata": {},
   "source": [
    "- 데이터 변환  \n",
    "y : 양품(0) 불량(1)    \n",
    "rolling_method 삭제 (나라별 다른 규격)  \n",
    "hsb 미적용시 모두 분량이므로, 미적용행 삭제 시 해당 열 삭제  "
   ]
  },
  {
   "attachments": {
    "6cee1c65-abc1-4f52-8687-3d32f133aede.png": {
     "image/png": "[encoded data removed]"
    }
   },
   "cell_type": "markdown",
   "id": "aae1df74-537d-4997-a088-3e1043738311",
   "metadata": {},
   "source": [
    "![image.png](attachment:6cee1c65-abc1-4f52-8687-3d32f133aede.png)![image.png]\t설명변수\t범주형\t작업조\tNominal\n"
   ]
  },
  {
   "cell_type": "code",
   "execution_count": 8,
   "id": "bfbe98c0-a411-4b4a-9814-9d151fc64099",
   "metadata": {},
   "outputs": [],
   "source": [
    "\"\"\"\n",
    "df_raw : 원본데이터\n",
    "df : 분석을 위한 전처리가 끝난 데이터\n",
    "\"\"\"\n",
    "\n",
    "#0. 목표변수\n",
    "df = df_raw.copy()\n",
    "df.rename({\"scale\" : \"y\"}, axis = 1, inplace = True)\n",
    "\n",
    "#1. plate_no, rolling_data, spec_long, fur_ex_temp 삭제\n",
    "df = df.drop([\"plate_no\", \"rolling_date\", \"spec_long\", \"fur_ex_temp\"], axis = 1)\n",
    "\n",
    "#2. value값 변환\n",
    "df[\"rolling_method\"] = df[\"rolling_method\"].str.replace(\"(온도제어)\", \"\",)\n",
    "df[\"rolling_method\"] = df[\"rolling_method\"].str.replace(\"(제어압연)\", \"\",)\n",
    "\n",
    "#3. hsb 미적용 행 삭제 후 열 삭제\n",
    "df = df[ df['hsb'] == \"적용\"].reset_index(drop = True)\n",
    "df.drop(\"hsb\", axis = 1, inplace = True)\n"
   ]
  },
  {
   "cell_type": "markdown",
   "id": "34efb3b3-1af4-4c2e-892f-0b79ed8988ba",
   "metadata": {},
   "source": [
    "__#1. plate_no, rolling_data, spec_long, fur_ex_temp 삭제__\n",
    "1. plate_no은 제품의 고유번호이므로 분석과 관련이 없어 삭제\n",
    "2. rolling_date와 y의 유의한 관계성 발견 불가\n",
    "3. spec_long은 국가별로 다르기 때문에 국가를 범주로 사용\n",
    "4. fur_ex_temp 동일 변수\n",
    "\n",
    "__#2 .value값 변환__\n",
    "데이터의 가독성을 위해 삭제\n",
    "\n",
    "__#3. hsb__  \n",
    "미적용시 모두 불량품인 것을 확인.  \n",
    "아래 그래프 참조."
   ]
  },
  {
   "cell_type": "markdown",
   "id": "f867a4e5-09c7-4c8c-a26f-a1ae8af3bf6d",
   "metadata": {},
   "source": [
    "- 이상치 제거"
   ]
  },
  {
   "cell_type": "code",
   "execution_count": 9,
   "id": "d8603a39-929b-417d-99f4-b5dff07d3049",
   "metadata": {},
   "outputs": [
    {
     "name": "stdout",
     "output_type": "stream",
     "text": [
      "<class 'pandas.core.frame.DataFrame'>\n",
      "RangeIndex: 947 entries, 0 to 946\n",
      "Data columns (total 17 columns):\n",
      " #   Column           Non-Null Count  Dtype \n",
      "---  ------           --------------  ----- \n",
      " 0   y                947 non-null    object\n",
      " 1   spec_country     947 non-null    object\n",
      " 2   steel_kind       947 non-null    object\n",
      " 3   pt_thick         947 non-null    int64 \n",
      " 4   pt_width         947 non-null    int64 \n",
      " 5   pt_length        947 non-null    int64 \n",
      " 6   fur_no           947 non-null    object\n",
      " 7   fur_input_row    947 non-null    object\n",
      " 8   fur_heat_temp    947 non-null    int64 \n",
      " 9   fur_heat_time    947 non-null    int64 \n",
      " 10  fur_soak_temp    947 non-null    int64 \n",
      " 11  fur_soak_time    947 non-null    int64 \n",
      " 12  fur_total_time   947 non-null    int64 \n",
      " 13  rolling_method   947 non-null    object\n",
      " 14  rolling_temp     947 non-null    int64 \n",
      " 15  descaling_count  947 non-null    int64 \n",
      " 16  work_group       947 non-null    object\n",
      "dtypes: int64(10), object(7)\n",
      "memory usage: 125.9+ KB\n"
     ]
    }
   ],
   "source": [
    "df = df[ df[\"rolling_temp\"] != 0].reset_index(drop = True)\n",
    "df.info()"
   ]
  },
  {
   "cell_type": "markdown",
   "id": "0a002f05-9cc2-49de-a4e2-2608f424e170",
   "metadata": {},
   "source": [
    "압연온도가 0도인 것은 데이터상이나 이론적으로 불가한 데이터이므로 삭제"
   ]
  },
  {
   "cell_type": "markdown",
   "id": "b4404109-8f98-4470-bc2c-9591c1743178",
   "metadata": {},
   "source": [
    "#### EDA"
   ]
  },
  {
   "cell_type": "markdown",
   "id": "d6b89dea-8257-4560-9319-99b2ea400d13",
   "metadata": {},
   "source": [
    "- object variance"
   ]
  },
  {
   "cell_type": "code",
   "execution_count": 10,
   "id": "e1fb978a",
   "metadata": {},
   "outputs": [
    {
     "data": {
      "image/png": "[encoded data removed]",
      "text/plain": [
       "<Figure size 1000x1000 with 4 Axes>"
      ]
     },
     "metadata": {},
     "output_type": "display_data"
    }
   ],
   "source": [
    "cat_cols = ['spec_country','work_group','rolling_method','steel_kind']\n",
    "        \n",
    "fig,axes = plt.subplots(nrows = 2, ncols = 2, figsize = (10,10))\n",
    "\n",
    "for i,col in enumerate(cat_cols):\n",
    "# #     0,0 0,1\n",
    "# #     1,0 1,1\n",
    "# #     2,0 2,1\n",
    "     sns.countplot(x = col,hue = 'y', data = df, ax = axes[i//2][i%2])"
   ]
  },
  {
   "cell_type": "markdown",
   "id": "c10e1f96",
   "metadata": {},
   "source": [
    "- 국가 : 일본이 다른 나라에 비해 불량률이 높다.\n",
    "- 압연방식 : CR방식이 불량수가 많이 나왔다. TMCP 방식은 불량이 거의 없다\n",
    "- 철 종류 : 티타늄강의 불량이 거의 없다. 탄소강은 불량 개수가 티타늄 강에 비해 많다."
   ]
  },
  {
   "cell_type": "markdown",
   "id": "39f3b10e-caf4-4211-a61d-9a993410a56f",
   "metadata": {},
   "source": [
    "- numeric variance"
   ]
  },
  {
   "cell_type": "code",
   "execution_count": 11,
   "id": "33b5324c",
   "metadata": {},
   "outputs": [
    {
     "data": {
      "image/png": "[encoded data removed]",
      "text/plain": [
       "<Figure size 1000x1000 with 3 Axes>"
      ]
     },
     "metadata": {},
     "output_type": "display_data"
    }
   ],
   "source": [
    "cols = ['pt_width','pt_length','pt_thick']\n",
    "\n",
    "fig,axes = plt.subplots(nrows = 3, figsize = (10,10))\n",
    "for i,col in enumerate(cols):\n",
    "    sns.barplot(y =col,x='spec_country',data = df,ax = axes[i])"
   ]
  },
  {
   "cell_type": "markdown",
   "id": "f650dd35",
   "metadata": {},
   "source": [
    "- 지시너비는 영국이 가장 넓고, 한국이 가장 낮은 편이다.\n",
    "- 지시길이는 영국과 일본이 길고 프랑스가 가장 짧게 요구한다.\n",
    "- 영국이 가장 얇은 두께의 후판을 요구한다. "
   ]
  },
  {
   "cell_type": "markdown",
   "id": "b26091ec-4616-4049-848f-83a9dfeb66d5",
   "metadata": {},
   "source": [
    "## 검증"
   ]
  },
  {
   "cell_type": "markdown",
   "id": "f107aa61-27cc-46bc-87e4-13d3e679841f",
   "metadata": {},
   "source": [
    "1. work_group, fur_no, fur_input_row는 Y(scale)과 관련이 없다"
   ]
  },
  {
   "cell_type": "code",
   "execution_count": 12,
   "id": "970f0fa4-3392-497a-b7b5-1a50e4cb5364",
   "metadata": {},
   "outputs": [],
   "source": [
    "df['y'] = df[\"y\"].replace({ \"양품\" : 0 , \"불량\" : 1})"
   ]
  },
  {
   "cell_type": "code",
   "execution_count": 13,
   "id": "877f7c13-0d81-4faa-92d3-8d6305213dbf",
   "metadata": {},
   "outputs": [
    {
     "name": "stdout",
     "output_type": "stream",
     "text": [
      "Spearman Correlation: -0.1261895042252613\n",
      "p-value: 9.871798017002286e-05\n",
      "work_group\n",
      "Variables are not significantly correlated.\n",
      "\n",
      "Spearman Correlation: 0.03512270977910579\n",
      "p-value: 0.28025370844481884\n",
      "fur_no\n",
      "Variables are not significantly correlated.\n",
      "\n",
      "Spearman Correlation: -0.038387142538428155\n",
      "p-value: 0.23793009070477011\n",
      "fur_input_row\n",
      "Variables are not significantly correlated.\n",
      "\n"
     ]
    }
   ],
   "source": [
    "for i in [\"work_group\", \"fur_no\", \"fur_input_row\"] :\n",
    "    correlation, p_value = spearmanr(df['y'], df[i])\n",
    "    \n",
    "    print(\"Spearman Correlation:\", correlation)\n",
    "    print(\"p-value:\", p_value)\n",
    "   \n",
    "    print(i)\n",
    "    if abs(correlation) < 0.5:\n",
    "        print(\"Variables are not significantly correlated.\")\n",
    "    else:\n",
    "        print(\"Variables are significantly correlated.\")\n",
    "    print()"
   ]
  },
  {
   "cell_type": "markdown",
   "id": "a949200b-c0ce-439c-84d9-7e4787f8740b",
   "metadata": {},
   "source": [
    "2. 불량률과 지시길이, 지시폭, 지시두께의 관계성 파악"
   ]
  },
  {
   "cell_type": "code",
   "execution_count": 14,
   "id": "602787f8-dbce-4dff-bb39-93d4f6241b44",
   "metadata": {},
   "outputs": [
    {
     "name": "stdout",
     "output_type": "stream",
     "text": [
      "t_stat:  -1.2557055992748007 \n",
      "p_value:  0.20953311025815502 \n",
      "\n",
      "t_stat:  6.993478738930436 \n",
      "p_value:  5.0692330506082475e-12 \n",
      "\n",
      "t_stat:  3.1336025833588277 \n",
      "p_value:  0.0017799751663510977 \n",
      "\n"
     ]
    }
   ],
   "source": [
    "from scipy.stats import ttest_ind\n",
    "\n",
    "#1. pt_length\n",
    "good_quality = df.query('y == 0')['pt_length']\n",
    "bad_quality = df.query('y == 1')['pt_length']\n",
    "\n",
    "t_stat, p_value = ttest_ind(good_quality, bad_quality)\n",
    "print(\"t_stat: \", t_stat, \"\\np_value: \",p_value, \"\\n\")\n",
    "\n",
    "#2. pt_width\n",
    "good_quality = df.query('y == 0')['pt_width']\n",
    "bad_quality = df.query('y == 1')['pt_width']\n",
    "\n",
    "t_stat, p_value = ttest_ind(good_quality, bad_quality)\n",
    "print(\"t_stat: \", t_stat, \"\\np_value: \",p_value, \"\\n\")\n",
    "\n",
    "#3. pt_thick\n",
    "good_quality = df.query('y == 0')['pt_thick']\n",
    "bad_quality = df.query('y == 1')['pt_thick']\n",
    "\n",
    "t_stat, p_value = ttest_ind(good_quality, bad_quality)\n",
    "print(\"t_stat: \", t_stat, \"\\np_value: \",p_value, \"\\n\")"
   ]
  },
  {
   "cell_type": "markdown",
   "id": "126dac82-8ecf-4a54-95a5-b42ee2b68986",
   "metadata": {},
   "source": [
    "### [결과]"
   ]
  },
  {
   "cell_type": "markdown",
   "id": "27e09378",
   "metadata": {},
   "source": [
    "#1. work_group, fur_no, fur_input_row는 Y(scale)과 관련이 없다\n",
    "- Spearman Correlation의 절대값이 0.5 이하 일 경우 두 변수간의 _상관관계가 없다_\n",
    "\n",
    "1. work_group : -0.126  \n",
    "2. fur_no : 0.035  \n",
    "3. fur_input_row : 0.238  \n",
    "\n",
    "__work_group, fur_no, fur_inpur_row__ 는 Y와 관련성이 없다고 판단 -> 열 삭제 실행"
   ]
  },
  {
   "cell_type": "markdown",
   "id": "8aaab4b0",
   "metadata": {},
   "source": [
    "#2. 불량률과 지시길이, 지시폭, 지시두께의 관계성 파악 \n",
    "\n",
    "1. pt_length => t값이 음수이기에 불량품의 pt_length 평균이 양품보다 작음, p값은 0.05이상이므로 통계적으로 유의미하지 않음\n",
    "2. pt_width => t값이 양수이므로 불량품의 pt_width가 평균이 불량품보다 큼, p값이 0.05이하이므로 통계적으로 유의미함\n",
    "3. pt_thick => t값이 양수이므로 pt_thick 평균이 불량품보다 더 큼, p값이 0.05이하이므로 통계적으로 유의미\n",
    "----------------------------------------------------------------------------------------------------------------------------------"
   ]
  },
  {
   "cell_type": "markdown",
   "id": "bd780596-cd1b-4f2b-a67c-76a93c55ed79",
   "metadata": {},
   "source": [
    "- steel_kind의 __T__ 의 불량률은 __C__ 에 비해 _낮아_ 분석에서 제외한다\n",
    "\n",
    "[불량률]  \n",
    "__T__ :  4%  \n",
    "__C__ :  35%  \n",
    "\n",
    "teel_kind가 C(탄소강)일 경우 method가 CR 하나만 나타남. 따라서 고유값이 하나만 생기는 _steel_kind와 rolling_method를 삭제_"
   ]
  },
  {
   "cell_type": "code",
   "execution_count": 15,
   "id": "1ca646ab-117a-4352-b125-4f4642e82ed0",
   "metadata": {},
   "outputs": [],
   "source": [
    "df = df[ df[\"steel_kind\"] == \"C\" ].reset_index(drop = True)\n",
    "df.drop( [\"steel_kind\", \"rolling_method\"], axis = 1, inplace = True)"
   ]
  },
  {
   "cell_type": "markdown",
   "id": "f86fd729",
   "metadata": {},
   "source": [
    "상관성이 없는 _work_group, fur_no, fur_input_row_ 삭제"
   ]
  },
  {
   "cell_type": "code",
   "execution_count": 16,
   "id": "a540ef2a-8e15-4a91-844d-7c037e4c7a7c",
   "metadata": {},
   "outputs": [
    {
     "data": {
      "text/html": [
       "<div>\n",
       "<style scoped>\n",
       "    .dataframe tbody tr th:only-of-type {\n",
       "        vertical-align: middle;\n",
       "    }\n",
       "\n",
       "    .dataframe tbody tr th {\n",
       "        vertical-align: top;\n",
       "    }\n",
       "\n",
       "    .dataframe thead th {\n",
       "        text-align: right;\n",
       "    }\n",
       "</style>\n",
       "<table border=\"1\" class=\"dataframe\">\n",
       "  <thead>\n",
       "    <tr style=\"text-align: right;\">\n",
       "      <th></th>\n",
       "      <th>y</th>\n",
       "      <th>spec_country</th>\n",
       "      <th>pt_thick</th>\n",
       "      <th>pt_width</th>\n",
       "      <th>pt_length</th>\n",
       "      <th>fur_heat_temp</th>\n",
       "      <th>fur_heat_time</th>\n",
       "      <th>fur_soak_temp</th>\n",
       "      <th>fur_soak_time</th>\n",
       "      <th>fur_total_time</th>\n",
       "      <th>rolling_temp</th>\n",
       "      <th>descaling_count</th>\n",
       "    </tr>\n",
       "  </thead>\n",
       "  <tbody>\n",
       "    <tr>\n",
       "      <th>0</th>\n",
       "      <td>0</td>\n",
       "      <td>프랑스</td>\n",
       "      <td>20</td>\n",
       "      <td>3600</td>\n",
       "      <td>39300</td>\n",
       "      <td>1129</td>\n",
       "      <td>76</td>\n",
       "      <td>1126</td>\n",
       "      <td>118</td>\n",
       "      <td>297</td>\n",
       "      <td>934</td>\n",
       "      <td>8</td>\n",
       "    </tr>\n",
       "    <tr>\n",
       "      <th>1</th>\n",
       "      <td>0</td>\n",
       "      <td>프랑스</td>\n",
       "      <td>20</td>\n",
       "      <td>3600</td>\n",
       "      <td>39500</td>\n",
       "      <td>1140</td>\n",
       "      <td>68</td>\n",
       "      <td>1132</td>\n",
       "      <td>104</td>\n",
       "      <td>235</td>\n",
       "      <td>911</td>\n",
       "      <td>8</td>\n",
       "    </tr>\n",
       "    <tr>\n",
       "      <th>2</th>\n",
       "      <td>0</td>\n",
       "      <td>미국</td>\n",
       "      <td>17</td>\n",
       "      <td>3400</td>\n",
       "      <td>39600</td>\n",
       "      <td>1130</td>\n",
       "      <td>71</td>\n",
       "      <td>1130</td>\n",
       "      <td>112</td>\n",
       "      <td>240</td>\n",
       "      <td>935</td>\n",
       "      <td>10</td>\n",
       "    </tr>\n",
       "    <tr>\n",
       "      <th>3</th>\n",
       "      <td>0</td>\n",
       "      <td>영국</td>\n",
       "      <td>17</td>\n",
       "      <td>3400</td>\n",
       "      <td>39600</td>\n",
       "      <td>1130</td>\n",
       "      <td>71</td>\n",
       "      <td>1130</td>\n",
       "      <td>112</td>\n",
       "      <td>287</td>\n",
       "      <td>935</td>\n",
       "      <td>10</td>\n",
       "    </tr>\n",
       "    <tr>\n",
       "      <th>4</th>\n",
       "      <td>0</td>\n",
       "      <td>일본</td>\n",
       "      <td>14</td>\n",
       "      <td>3300</td>\n",
       "      <td>51200</td>\n",
       "      <td>1140</td>\n",
       "      <td>80</td>\n",
       "      <td>1131</td>\n",
       "      <td>117</td>\n",
       "      <td>286</td>\n",
       "      <td>915</td>\n",
       "      <td>10</td>\n",
       "    </tr>\n",
       "  </tbody>\n",
       "</table>\n",
       "</div>"
      ],
      "text/plain": [
       "   y spec_country  pt_thick  pt_width  pt_length  fur_heat_temp  \\\n",
       "0  0          프랑스        20      3600      39300           1129   \n",
       "1  0          프랑스        20      3600      39500           1140   \n",
       "2  0           미국        17      3400      39600           1130   \n",
       "3  0           영국        17      3400      39600           1130   \n",
       "4  0           일본        14      3300      51200           1140   \n",
       "\n",
       "   fur_heat_time  fur_soak_temp  fur_soak_time  fur_total_time  rolling_temp  \\\n",
       "0             76           1126            118             297           934   \n",
       "1             68           1132            104             235           911   \n",
       "2             71           1130            112             240           935   \n",
       "3             71           1130            112             287           935   \n",
       "4             80           1131            117             286           915   \n",
       "\n",
       "   descaling_count  \n",
       "0                8  \n",
       "1                8  \n",
       "2               10  \n",
       "3               10  \n",
       "4               10  "
      ]
     },
     "execution_count": 16,
     "metadata": {},
     "output_type": "execute_result"
    }
   ],
   "source": [
    "df.drop([\"work_group\", \"fur_no\", \"fur_input_row\"], axis = 1, inplace = True)\n",
    "df.head()"
   ]
  },
  {
   "cell_type": "markdown",
   "id": "98d1f6d6-22ea-48f8-8e47-19861ed7cef6",
   "metadata": {},
   "source": [
    "## Data Set 만들기"
   ]
  },
  {
   "cell_type": "markdown",
   "id": "9c508401-6da3-4eba-b75b-76deee3e998d",
   "metadata": {},
   "source": [
    "- __numeric variance scaling__  \n",
    "standard scaler"
   ]
  },
  {
   "cell_type": "code",
   "execution_count": 17,
   "id": "9f8ca7fd-dd7c-4bcf-92a2-499b8a49c3bd",
   "metadata": {},
   "outputs": [],
   "source": [
    "# y, x 분리\n",
    "df_y = df[[\"y\"]]\n",
    "df_x = df.drop( \"y\", axis = 1 )\n",
    "\n",
    "# scaling\n",
    "df_num = df_x.select_dtypes(exclude = \"object\")\n",
    "scaler = StandardScaler()\n",
    "\n",
    "df_x_scaled = scaler.fit_transform(df_num)\n",
    "df_x_scaled = pd.DataFrame(df_x_scaled, columns= df_num.columns )\n",
    "df_x_scaled = pd.concat([ df_y, df_x_scaled ], axis = 1)"
   ]
  },
  {
   "cell_type": "markdown",
   "id": "31d05257-e7ac-4cf8-a510-64a44aa6660a",
   "metadata": {},
   "source": [
    "- __object variance scaling__  \n",
    "one-hot encoding"
   ]
  },
  {
   "cell_type": "code",
   "execution_count": 18,
   "id": "40ae9679-a3a4-4611-8e5d-90da866590b9",
   "metadata": {},
   "outputs": [],
   "source": [
    "df_chr = df.select_dtypes(include = \"object\")\n",
    "ohe_df_all = pd.DataFrame()\n",
    "\n",
    "for col in df_chr.columns:\n",
    "    ohe = OneHotEncoder(sparse = False)\n",
    "    ohe_data = ohe.fit_transform(df_chr[col].values.reshape(-1,1))\n",
    "    ohe_df = pd.DataFrame(ohe_data, columns = df_chr[col].unique())\n",
    "    ohe_df_all = pd.concat([ohe_df_all,ohe_df],axis=1)\n",
    "    \n",
    "df_x_encoded = pd.concat([df_y,ohe_df_all],axis = 1)"
   ]
  },
  {
   "cell_type": "markdown",
   "id": "f2a1512c-afaa-43ec-ae6a-6bb5abfff64c",
   "metadata": {},
   "source": [
    "- __분석에 따른 DataFrame 생성__  \n",
    "    - DT, RF, XGB => __df_c__  \n",
    "    - 로지스틱 회귀분석 => __df_r__  "
   ]
  },
  {
   "cell_type": "code",
   "execution_count": 19,
   "id": "9b92e40c-b5fd-4a3f-9ec4-6b6338f87774",
   "metadata": {},
   "outputs": [],
   "source": [
    "#1. one-hot encoding + scaling // 로지스틱\n",
    "df_r = pd.concat([df_x_scaled, df_x_encoded.drop(\"y\", axis = 1)], axis = 1)\n",
    "\n",
    "#2. one-hot encoding // DF, RF, XGB\n",
    "df_c = pd.concat( [df_y, df_num,  df_x_encoded.drop(\"y\", axis = 1)], axis = 1)\n",
    "\n",
    "df_c_y = df_c[['y']]\n",
    "df_c_x = df_c.drop('y',axis = 1)"
   ]
  },
  {
   "cell_type": "markdown",
   "id": "ad5a7ed3-7e40-4f6d-ab40-fac74f2916b8",
   "metadata": {},
   "source": [
    "# 모델링"
   ]
  },
  {
   "cell_type": "markdown",
   "id": "e270d41d",
   "metadata": {},
   "source": [
    "- 학습 / 테스트 데이터 분리"
   ]
  },
  {
   "cell_type": "code",
   "execution_count": 20,
   "id": "fef736a8-7090-49f4-909c-713ff9c42e63",
   "metadata": {},
   "outputs": [
    {
     "name": "stdout",
     "output_type": "stream",
     "text": [
      "(572, 16) (144, 16)\n"
     ]
    }
   ],
   "source": [
    "df_c_train,df_c_test = train_test_split(df_c, test_size = 0.2, stratify = df_c['y'],random_state = 2024)\n",
    "df_train_x = df_c_train.drop('y',axis = 1)\n",
    "df_train_y = df_c_train['y']\n",
    "\n",
    "df_test_x = df_c_test.drop('y',axis = 1)\n",
    "df_test_y = df_c_test['y']\n",
    "print(df_train_x.shape,df_test_x.shape)"
   ]
  },
  {
   "cell_type": "markdown",
   "id": "93892c7b-a75e-43d1-bb0a-ee6c019843f8",
   "metadata": {},
   "source": [
    "## 1. Decision Tree"
   ]
  },
  {
   "cell_type": "code",
   "execution_count": 21,
   "id": "eb0cb51b-7b4b-406e-92b5-66d266268d64",
   "metadata": {},
   "outputs": [],
   "source": [
    "from sklearn.tree import DecisionTreeClassifier"
   ]
  },
  {
   "cell_type": "markdown",
   "id": "5a75d738-7bbe-42ac-96cc-07c787ee62b8",
   "metadata": {},
   "source": [
    "- 초기 모델 생성"
   ]
  },
  {
   "cell_type": "code",
   "execution_count": 22,
   "id": "108fdd98-0af3-4bf2-92cc-3e35973fc0e5",
   "metadata": {},
   "outputs": [
    {
     "name": "stdout",
     "output_type": "stream",
     "text": [
      "Score on training set : 1.000\n",
      "Score on test set : 1.000\n"
     ]
    }
   ],
   "source": [
    "tree_uncust = DecisionTreeClassifier(random_state = 2024)\n",
    "tree_uncust.fit(df_train_x,df_train_y)\n",
    "\n",
    "print('Score on training set : {:.3f}'.format(tree_uncust.score(df_train_x,df_train_y)))\n",
    "print('Score on test set : {:.3f}'.format(tree_uncust.score(df_test_x,df_test_y)))"
   ]
  },
  {
   "cell_type": "markdown",
   "id": "5b4f69bb-6599-4743-aa17-02044c326af6",
   "metadata": {},
   "source": [
    "## 파라미터 튜닝"
   ]
  },
  {
   "cell_type": "markdown",
   "id": "e3a97d6e-adc3-4484-9a13-b38bc2336d84",
   "metadata": {},
   "source": [
    "### 잎사귀 노드 최소 자료수 min_samples_leaf"
   ]
  },
  {
   "cell_type": "code",
   "execution_count": 23,
   "id": "02bda385-08bb-43d5-8673-ca3018b739db",
   "metadata": {},
   "outputs": [],
   "source": [
    "train_accuracy = []; test_accuracy = []\n",
    "\n",
    "# min_samples_leaf: 잎사귀 수 제한\n",
    "para_leaf = [n_leaf for n_leaf in range(1, 41)]\n",
    "\n",
    "for v_min_samples_leaf in para_leaf:\n",
    "    dt = DecisionTreeClassifier(min_samples_leaf = v_min_samples_leaf,random_state = 2024)\n",
    "    dt.fit(df_train_x, df_train_y)\n",
    "    train_accuracy.append(dt.score(df_train_x, df_train_y))\n",
    "    test_accuracy.append(dt.score(df_test_x, df_test_y))\n",
    "\n",
    "# 데이터 테이블로 저장\n",
    "df_accuracy_leaf = pd.DataFrame()\n",
    "df_accuracy_leaf[\"MinSamplesLeaf\"] = para_leaf\n",
    "df_accuracy_leaf[\"TrainAccuracy\"] = train_accuracy\n",
    "df_accuracy_leaf[\"TestAccuracy\"] = test_accuracy"
   ]
  },
  {
   "cell_type": "code",
   "execution_count": 24,
   "id": "7a3999ae-97a1-431d-80f6-cb592b4271bd",
   "metadata": {},
   "outputs": [
    {
     "data": {
      "text/html": [
       "<div>\n",
       "<style scoped>\n",
       "    .dataframe tbody tr th:only-of-type {\n",
       "        vertical-align: middle;\n",
       "    }\n",
       "\n",
       "    .dataframe tbody tr th {\n",
       "        vertical-align: top;\n",
       "    }\n",
       "\n",
       "    .dataframe thead th {\n",
       "        text-align: right;\n",
       "    }\n",
       "</style>\n",
       "<table border=\"1\" class=\"dataframe\">\n",
       "  <thead>\n",
       "    <tr style=\"text-align: right;\">\n",
       "      <th></th>\n",
       "      <th>MinSamplesLeaf</th>\n",
       "      <th>TrainAccuracy</th>\n",
       "      <th>TestAccuracy</th>\n",
       "    </tr>\n",
       "  </thead>\n",
       "  <tbody>\n",
       "    <tr>\n",
       "      <th>0</th>\n",
       "      <td>1</td>\n",
       "      <td>1.000000</td>\n",
       "      <td>1.000000</td>\n",
       "    </tr>\n",
       "    <tr>\n",
       "      <th>1</th>\n",
       "      <td>2</td>\n",
       "      <td>0.998252</td>\n",
       "      <td>0.993056</td>\n",
       "    </tr>\n",
       "    <tr>\n",
       "      <th>2</th>\n",
       "      <td>3</td>\n",
       "      <td>0.998252</td>\n",
       "      <td>1.000000</td>\n",
       "    </tr>\n",
       "    <tr>\n",
       "      <th>3</th>\n",
       "      <td>4</td>\n",
       "      <td>0.998252</td>\n",
       "      <td>1.000000</td>\n",
       "    </tr>\n",
       "    <tr>\n",
       "      <th>4</th>\n",
       "      <td>5</td>\n",
       "      <td>0.998252</td>\n",
       "      <td>1.000000</td>\n",
       "    </tr>\n",
       "    <tr>\n",
       "      <th>5</th>\n",
       "      <td>6</td>\n",
       "      <td>0.998252</td>\n",
       "      <td>1.000000</td>\n",
       "    </tr>\n",
       "    <tr>\n",
       "      <th>6</th>\n",
       "      <td>7</td>\n",
       "      <td>0.998252</td>\n",
       "      <td>1.000000</td>\n",
       "    </tr>\n",
       "    <tr>\n",
       "      <th>7</th>\n",
       "      <td>8</td>\n",
       "      <td>0.989510</td>\n",
       "      <td>0.979167</td>\n",
       "    </tr>\n",
       "    <tr>\n",
       "      <th>8</th>\n",
       "      <td>9</td>\n",
       "      <td>0.989510</td>\n",
       "      <td>0.979167</td>\n",
       "    </tr>\n",
       "    <tr>\n",
       "      <th>9</th>\n",
       "      <td>10</td>\n",
       "      <td>0.989510</td>\n",
       "      <td>0.979167</td>\n",
       "    </tr>\n",
       "    <tr>\n",
       "      <th>10</th>\n",
       "      <td>11</td>\n",
       "      <td>0.989510</td>\n",
       "      <td>0.979167</td>\n",
       "    </tr>\n",
       "    <tr>\n",
       "      <th>11</th>\n",
       "      <td>12</td>\n",
       "      <td>0.989510</td>\n",
       "      <td>0.979167</td>\n",
       "    </tr>\n",
       "    <tr>\n",
       "      <th>12</th>\n",
       "      <td>13</td>\n",
       "      <td>0.989510</td>\n",
       "      <td>0.979167</td>\n",
       "    </tr>\n",
       "    <tr>\n",
       "      <th>13</th>\n",
       "      <td>14</td>\n",
       "      <td>0.989510</td>\n",
       "      <td>0.979167</td>\n",
       "    </tr>\n",
       "    <tr>\n",
       "      <th>14</th>\n",
       "      <td>15</td>\n",
       "      <td>0.989510</td>\n",
       "      <td>0.979167</td>\n",
       "    </tr>\n",
       "    <tr>\n",
       "      <th>15</th>\n",
       "      <td>16</td>\n",
       "      <td>0.989510</td>\n",
       "      <td>0.979167</td>\n",
       "    </tr>\n",
       "    <tr>\n",
       "      <th>16</th>\n",
       "      <td>17</td>\n",
       "      <td>0.989510</td>\n",
       "      <td>0.979167</td>\n",
       "    </tr>\n",
       "    <tr>\n",
       "      <th>17</th>\n",
       "      <td>18</td>\n",
       "      <td>0.989510</td>\n",
       "      <td>0.979167</td>\n",
       "    </tr>\n",
       "    <tr>\n",
       "      <th>18</th>\n",
       "      <td>19</td>\n",
       "      <td>0.989510</td>\n",
       "      <td>0.979167</td>\n",
       "    </tr>\n",
       "    <tr>\n",
       "      <th>19</th>\n",
       "      <td>20</td>\n",
       "      <td>0.989510</td>\n",
       "      <td>0.979167</td>\n",
       "    </tr>\n",
       "    <tr>\n",
       "      <th>20</th>\n",
       "      <td>21</td>\n",
       "      <td>0.961538</td>\n",
       "      <td>0.930556</td>\n",
       "    </tr>\n",
       "    <tr>\n",
       "      <th>21</th>\n",
       "      <td>22</td>\n",
       "      <td>0.961538</td>\n",
       "      <td>0.930556</td>\n",
       "    </tr>\n",
       "    <tr>\n",
       "      <th>22</th>\n",
       "      <td>23</td>\n",
       "      <td>0.961538</td>\n",
       "      <td>0.930556</td>\n",
       "    </tr>\n",
       "    <tr>\n",
       "      <th>23</th>\n",
       "      <td>24</td>\n",
       "      <td>0.961538</td>\n",
       "      <td>0.930556</td>\n",
       "    </tr>\n",
       "    <tr>\n",
       "      <th>24</th>\n",
       "      <td>25</td>\n",
       "      <td>0.961538</td>\n",
       "      <td>0.930556</td>\n",
       "    </tr>\n",
       "    <tr>\n",
       "      <th>25</th>\n",
       "      <td>26</td>\n",
       "      <td>0.961538</td>\n",
       "      <td>0.930556</td>\n",
       "    </tr>\n",
       "    <tr>\n",
       "      <th>26</th>\n",
       "      <td>27</td>\n",
       "      <td>0.961538</td>\n",
       "      <td>0.930556</td>\n",
       "    </tr>\n",
       "    <tr>\n",
       "      <th>27</th>\n",
       "      <td>28</td>\n",
       "      <td>0.961538</td>\n",
       "      <td>0.930556</td>\n",
       "    </tr>\n",
       "    <tr>\n",
       "      <th>28</th>\n",
       "      <td>29</td>\n",
       "      <td>0.951049</td>\n",
       "      <td>0.930556</td>\n",
       "    </tr>\n",
       "    <tr>\n",
       "      <th>29</th>\n",
       "      <td>30</td>\n",
       "      <td>0.951049</td>\n",
       "      <td>0.930556</td>\n",
       "    </tr>\n",
       "    <tr>\n",
       "      <th>30</th>\n",
       "      <td>31</td>\n",
       "      <td>0.951049</td>\n",
       "      <td>0.930556</td>\n",
       "    </tr>\n",
       "    <tr>\n",
       "      <th>31</th>\n",
       "      <td>32</td>\n",
       "      <td>0.951049</td>\n",
       "      <td>0.930556</td>\n",
       "    </tr>\n",
       "    <tr>\n",
       "      <th>32</th>\n",
       "      <td>33</td>\n",
       "      <td>0.951049</td>\n",
       "      <td>0.930556</td>\n",
       "    </tr>\n",
       "    <tr>\n",
       "      <th>33</th>\n",
       "      <td>34</td>\n",
       "      <td>0.951049</td>\n",
       "      <td>0.930556</td>\n",
       "    </tr>\n",
       "    <tr>\n",
       "      <th>34</th>\n",
       "      <td>35</td>\n",
       "      <td>0.937063</td>\n",
       "      <td>0.888889</td>\n",
       "    </tr>\n",
       "    <tr>\n",
       "      <th>35</th>\n",
       "      <td>36</td>\n",
       "      <td>0.937063</td>\n",
       "      <td>0.888889</td>\n",
       "    </tr>\n",
       "    <tr>\n",
       "      <th>36</th>\n",
       "      <td>37</td>\n",
       "      <td>0.937063</td>\n",
       "      <td>0.888889</td>\n",
       "    </tr>\n",
       "    <tr>\n",
       "      <th>37</th>\n",
       "      <td>38</td>\n",
       "      <td>0.935315</td>\n",
       "      <td>0.888889</td>\n",
       "    </tr>\n",
       "    <tr>\n",
       "      <th>38</th>\n",
       "      <td>39</td>\n",
       "      <td>0.931818</td>\n",
       "      <td>0.944444</td>\n",
       "    </tr>\n",
       "    <tr>\n",
       "      <th>39</th>\n",
       "      <td>40</td>\n",
       "      <td>0.931818</td>\n",
       "      <td>0.944444</td>\n",
       "    </tr>\n",
       "  </tbody>\n",
       "</table>\n",
       "</div>"
      ],
      "text/plain": [
       "    MinSamplesLeaf  TrainAccuracy  TestAccuracy\n",
       "0                1       1.000000      1.000000\n",
       "1                2       0.998252      0.993056\n",
       "2                3       0.998252      1.000000\n",
       "3                4       0.998252      1.000000\n",
       "4                5       0.998252      1.000000\n",
       "5                6       0.998252      1.000000\n",
       "6                7       0.998252      1.000000\n",
       "7                8       0.989510      0.979167\n",
       "8                9       0.989510      0.979167\n",
       "9               10       0.989510      0.979167\n",
       "10              11       0.989510      0.979167\n",
       "11              12       0.989510      0.979167\n",
       "12              13       0.989510      0.979167\n",
       "13              14       0.989510      0.979167\n",
       "14              15       0.989510      0.979167\n",
       "15              16       0.989510      0.979167\n",
       "16              17       0.989510      0.979167\n",
       "17              18       0.989510      0.979167\n",
       "18              19       0.989510      0.979167\n",
       "19              20       0.989510      0.979167\n",
       "20              21       0.961538      0.930556\n",
       "21              22       0.961538      0.930556\n",
       "22              23       0.961538      0.930556\n",
       "23              24       0.961538      0.930556\n",
       "24              25       0.961538      0.930556\n",
       "25              26       0.961538      0.930556\n",
       "26              27       0.961538      0.930556\n",
       "27              28       0.961538      0.930556\n",
       "28              29       0.951049      0.930556\n",
       "29              30       0.951049      0.930556\n",
       "30              31       0.951049      0.930556\n",
       "31              32       0.951049      0.930556\n",
       "32              33       0.951049      0.930556\n",
       "33              34       0.951049      0.930556\n",
       "34              35       0.937063      0.888889\n",
       "35              36       0.937063      0.888889\n",
       "36              37       0.937063      0.888889\n",
       "37              38       0.935315      0.888889\n",
       "38              39       0.931818      0.944444\n",
       "39              40       0.931818      0.944444"
      ]
     },
     "metadata": {},
     "output_type": "display_data"
    },
    {
     "data": {
      "text/plain": [
       "<matplotlib.legend.Legend at 0x7fe011ef93f0>"
      ]
     },
     "execution_count": 24,
     "metadata": {},
     "output_type": "execute_result"
    },
    {
     "data": {
      "image/png": "[encoded data removed]",
      "text/plain": [
       "<Figure size 640x480 with 1 Axes>"
      ]
     },
     "metadata": {},
     "output_type": "display_data"
    }
   ],
   "source": [
    "# 모델 정확도 그래프 확인\n",
    "display(df_accuracy_leaf)\n",
    "plt.plot(para_leaf, train_accuracy, linestyle = \"-\", label = \"Train Accuracy\")\n",
    "plt.plot(para_leaf, test_accuracy, linestyle = \"--\", label = \"Test Accuracy\")\n",
    "plt.xlabel(\"min_samples_leaf\"); plt.ylabel(\"accuracy\")\n",
    "plt.legend()"
   ]
  },
  {
   "cell_type": "markdown",
   "id": "580ee402",
   "metadata": {},
   "source": [
    "- min_samples_leaf = __30__ 결정"
   ]
  },
  {
   "cell_type": "code",
   "execution_count": 25,
   "id": "7b901ceb-9839-4430-b5e7-98f49bbf9a29",
   "metadata": {},
   "outputs": [],
   "source": [
    "train_accuracy = []; test_accuracy = []\n",
    "\n",
    "# min_samples_leaf: 잎사귀 수 제한\n",
    "para_split = [s*2 for s in range(10, 20)]\n",
    "\n",
    "for split_ in para_split:\n",
    "    dt = DecisionTreeClassifier(min_samples_leaf = 30, min_samples_split = split_,random_state = 2024)\n",
    "    dt.fit(df_train_x, df_train_y)\n",
    "    train_accuracy.append(dt.score(df_train_x, df_train_y))\n",
    "    test_accuracy.append(dt.score(df_test_x, df_test_y))\n",
    "\n",
    "# 데이터 테이블로 저장\n",
    "df_accuracy_leaf = pd.DataFrame()\n",
    "df_accuracy_leaf[\"MinSamplesSplit\"] = para_split\n",
    "df_accuracy_leaf[\"TrainAccuracy\"] = train_accuracy\n",
    "df_accuracy_leaf[\"TestAccuracy\"] = test_accuracy"
   ]
  },
  {
   "cell_type": "code",
   "execution_count": 26,
   "id": "645c012f-2d7e-4c45-b7e2-9fcefb0aadfb",
   "metadata": {},
   "outputs": [
    {
     "data": {
      "text/html": [
       "<div>\n",
       "<style scoped>\n",
       "    .dataframe tbody tr th:only-of-type {\n",
       "        vertical-align: middle;\n",
       "    }\n",
       "\n",
       "    .dataframe tbody tr th {\n",
       "        vertical-align: top;\n",
       "    }\n",
       "\n",
       "    .dataframe thead th {\n",
       "        text-align: right;\n",
       "    }\n",
       "</style>\n",
       "<table border=\"1\" class=\"dataframe\">\n",
       "  <thead>\n",
       "    <tr style=\"text-align: right;\">\n",
       "      <th></th>\n",
       "      <th>MinSamplesSplit</th>\n",
       "      <th>TrainAccuracy</th>\n",
       "      <th>TestAccuracy</th>\n",
       "    </tr>\n",
       "  </thead>\n",
       "  <tbody>\n",
       "    <tr>\n",
       "      <th>0</th>\n",
       "      <td>20</td>\n",
       "      <td>0.951049</td>\n",
       "      <td>0.930556</td>\n",
       "    </tr>\n",
       "    <tr>\n",
       "      <th>1</th>\n",
       "      <td>22</td>\n",
       "      <td>0.951049</td>\n",
       "      <td>0.930556</td>\n",
       "    </tr>\n",
       "    <tr>\n",
       "      <th>2</th>\n",
       "      <td>24</td>\n",
       "      <td>0.951049</td>\n",
       "      <td>0.930556</td>\n",
       "    </tr>\n",
       "    <tr>\n",
       "      <th>3</th>\n",
       "      <td>26</td>\n",
       "      <td>0.951049</td>\n",
       "      <td>0.930556</td>\n",
       "    </tr>\n",
       "    <tr>\n",
       "      <th>4</th>\n",
       "      <td>28</td>\n",
       "      <td>0.951049</td>\n",
       "      <td>0.930556</td>\n",
       "    </tr>\n",
       "    <tr>\n",
       "      <th>5</th>\n",
       "      <td>30</td>\n",
       "      <td>0.951049</td>\n",
       "      <td>0.930556</td>\n",
       "    </tr>\n",
       "    <tr>\n",
       "      <th>6</th>\n",
       "      <td>32</td>\n",
       "      <td>0.951049</td>\n",
       "      <td>0.930556</td>\n",
       "    </tr>\n",
       "    <tr>\n",
       "      <th>7</th>\n",
       "      <td>34</td>\n",
       "      <td>0.951049</td>\n",
       "      <td>0.930556</td>\n",
       "    </tr>\n",
       "    <tr>\n",
       "      <th>8</th>\n",
       "      <td>36</td>\n",
       "      <td>0.951049</td>\n",
       "      <td>0.930556</td>\n",
       "    </tr>\n",
       "    <tr>\n",
       "      <th>9</th>\n",
       "      <td>38</td>\n",
       "      <td>0.951049</td>\n",
       "      <td>0.930556</td>\n",
       "    </tr>\n",
       "  </tbody>\n",
       "</table>\n",
       "</div>"
      ],
      "text/plain": [
       "   MinSamplesSplit  TrainAccuracy  TestAccuracy\n",
       "0               20       0.951049      0.930556\n",
       "1               22       0.951049      0.930556\n",
       "2               24       0.951049      0.930556\n",
       "3               26       0.951049      0.930556\n",
       "4               28       0.951049      0.930556\n",
       "5               30       0.951049      0.930556\n",
       "6               32       0.951049      0.930556\n",
       "7               34       0.951049      0.930556\n",
       "8               36       0.951049      0.930556\n",
       "9               38       0.951049      0.930556"
      ]
     },
     "metadata": {},
     "output_type": "display_data"
    },
    {
     "data": {
      "text/plain": [
       "<matplotlib.legend.Legend at 0x7fe011dde740>"
      ]
     },
     "execution_count": 26,
     "metadata": {},
     "output_type": "execute_result"
    },
    {
     "data": {
      "image/png": "[encoded data removed]",
      "text/plain": [
       "<Figure size 640x480 with 1 Axes>"
      ]
     },
     "metadata": {},
     "output_type": "display_data"
    }
   ],
   "source": [
    "# 모델 정확도 그래프 확인\n",
    "display(df_accuracy_leaf)\n",
    "plt.plot(para_split, train_accuracy, linestyle = \"-\", label = \"Train Accuracy\")\n",
    "plt.plot(para_split, test_accuracy, linestyle = \"--\", label = \"Test Accuracy\")\n",
    "plt.xlabel(\"min_samples_split\"); plt.ylabel(\"accuracy\")\n",
    "plt.legend()"
   ]
  },
  {
   "cell_type": "markdown",
   "id": "27b57f5b-9baf-4b50-af89-ccbdd87f03ef",
   "metadata": {},
   "source": [
    "- 분리 노드 자료수와 성능은 관련이 없는 것으로 보이니 __디폴트 값__ 으로 결정"
   ]
  },
  {
   "cell_type": "markdown",
   "id": "ba09e72f",
   "metadata": {},
   "source": [
    "### 최대깊이"
   ]
  },
  {
   "cell_type": "code",
   "execution_count": 27,
   "id": "bd6441f8",
   "metadata": {},
   "outputs": [],
   "source": [
    "# train 및 test 정확도 결과 저장용\n",
    "train_accuracy = []; test_accuracy = []\n",
    "# min_samples_leaf: 잎사귀 수 제한\n",
    "para_depth = [d for d in range(1, 8)]\n",
    "\n",
    "for d in para_depth:\n",
    "    dt = DecisionTreeClassifier(min_samples_leaf = 30,max_depth = d,random_state = 2024)\n",
    "    dt.fit(df_train_x, df_train_y)\n",
    "    train_accuracy.append(dt.score(df_train_x, df_train_y))\n",
    "    test_accuracy.append(dt.score(df_test_x, df_test_y))\n",
    "\n",
    "# 데이터 테이블로 저장\n",
    "df_accuracy_depth = pd.DataFrame()\n",
    "df_accuracy_depth[\"MaxDepth\"] = para_depth\n",
    "df_accuracy_depth[\"TrainAccuracy\"] = train_accuracy\n",
    "df_accuracy_depth[\"TestAccuracy\"] = test_accuracy"
   ]
  },
  {
   "cell_type": "code",
   "execution_count": 28,
   "id": "a7319417",
   "metadata": {},
   "outputs": [
    {
     "data": {
      "text/html": [
       "<div>\n",
       "<style scoped>\n",
       "    .dataframe tbody tr th:only-of-type {\n",
       "        vertical-align: middle;\n",
       "    }\n",
       "\n",
       "    .dataframe tbody tr th {\n",
       "        vertical-align: top;\n",
       "    }\n",
       "\n",
       "    .dataframe thead th {\n",
       "        text-align: right;\n",
       "    }\n",
       "</style>\n",
       "<table border=\"1\" class=\"dataframe\">\n",
       "  <thead>\n",
       "    <tr style=\"text-align: right;\">\n",
       "      <th></th>\n",
       "      <th>MaxDepth</th>\n",
       "      <th>TrainAccuracy</th>\n",
       "      <th>TestAccuracy</th>\n",
       "    </tr>\n",
       "  </thead>\n",
       "  <tbody>\n",
       "    <tr>\n",
       "      <th>0</th>\n",
       "      <td>1</td>\n",
       "      <td>0.905594</td>\n",
       "      <td>0.895833</td>\n",
       "    </tr>\n",
       "    <tr>\n",
       "      <th>1</th>\n",
       "      <td>2</td>\n",
       "      <td>0.944056</td>\n",
       "      <td>0.958333</td>\n",
       "    </tr>\n",
       "    <tr>\n",
       "      <th>2</th>\n",
       "      <td>3</td>\n",
       "      <td>0.944056</td>\n",
       "      <td>0.958333</td>\n",
       "    </tr>\n",
       "    <tr>\n",
       "      <th>3</th>\n",
       "      <td>4</td>\n",
       "      <td>0.951049</td>\n",
       "      <td>0.930556</td>\n",
       "    </tr>\n",
       "    <tr>\n",
       "      <th>4</th>\n",
       "      <td>5</td>\n",
       "      <td>0.951049</td>\n",
       "      <td>0.930556</td>\n",
       "    </tr>\n",
       "    <tr>\n",
       "      <th>5</th>\n",
       "      <td>6</td>\n",
       "      <td>0.951049</td>\n",
       "      <td>0.930556</td>\n",
       "    </tr>\n",
       "    <tr>\n",
       "      <th>6</th>\n",
       "      <td>7</td>\n",
       "      <td>0.951049</td>\n",
       "      <td>0.930556</td>\n",
       "    </tr>\n",
       "  </tbody>\n",
       "</table>\n",
       "</div>"
      ],
      "text/plain": [
       "   MaxDepth  TrainAccuracy  TestAccuracy\n",
       "0         1       0.905594      0.895833\n",
       "1         2       0.944056      0.958333\n",
       "2         3       0.944056      0.958333\n",
       "3         4       0.951049      0.930556\n",
       "4         5       0.951049      0.930556\n",
       "5         6       0.951049      0.930556\n",
       "6         7       0.951049      0.930556"
      ]
     },
     "metadata": {},
     "output_type": "display_data"
    },
    {
     "data": {
      "text/plain": [
       "<matplotlib.legend.Legend at 0x7fe011352200>"
      ]
     },
     "execution_count": 28,
     "metadata": {},
     "output_type": "execute_result"
    },
    {
     "data": {
      "image/png": "[encoded data removed]",
      "text/plain": [
       "<Figure size 640x480 with 1 Axes>"
      ]
     },
     "metadata": {},
     "output_type": "display_data"
    }
   ],
   "source": [
    "# 모델 정확도 그래프 확인\n",
    "display(df_accuracy_depth)\n",
    "plt.plot(para_depth, train_accuracy, linestyle = \"-\", label = \"Train Accuracy\")\n",
    "plt.plot(para_depth, test_accuracy, linestyle = \"--\", label = \"Test Accuracy\")\n",
    "plt.xlabel(\"max_depth\"); plt.ylabel(\"accuracy\")\n",
    "plt.legend()"
   ]
  },
  {
   "cell_type": "markdown",
   "id": "9c7ecda2",
   "metadata": {},
   "source": [
    "- max_depth = __4__ 결정"
   ]
  },
  {
   "cell_type": "markdown",
   "id": "9c4de8ae",
   "metadata": {},
   "source": [
    "### 의사결정나무 최종 모델\n",
    "- max_depth = 4\n",
    "- min_samples_leaf = 30"
   ]
  },
  {
   "cell_type": "code",
   "execution_count": 29,
   "id": "746a2c74",
   "metadata": {},
   "outputs": [
    {
     "name": "stdout",
     "output_type": "stream",
     "text": [
      "train data Accuray [0.951048951048951]\n",
      "test data Accuray [0.9305555555555556]\n"
     ]
    },
    {
     "data": {
      "text/plain": [
       "0.9305555555555556"
      ]
     },
     "execution_count": 29,
     "metadata": {},
     "output_type": "execute_result"
    }
   ],
   "source": [
    "v_feature_name = df_train_x.columns\n",
    "tree_final = DecisionTreeClassifier(min_samples_leaf = 30,max_depth = 4,random_state = 2024)\n",
    "tree_final.fit(df_train_x,df_train_y)\n",
    "\n",
    "train_score = []\n",
    "test_score = [] \n",
    "\n",
    "# 학습 데이터로 모델 정확도 측정 \n",
    "train_score.append(tree_final.score(df_train_x, df_train_y))\n",
    "print('train data Accuray', train_score)\n",
    "\n",
    "test_score.append(tree_final.score(df_test_x, df_test_y))\n",
    "print('test data Accuray', test_score)\n",
    "\n",
    "pred = tree_final.predict(df_test_x)\n",
    "# 테스트 데이터로 모델 정확도 측정 \n",
    "tree_final.score(df_test_x, df_test_y) \n",
    "accuracy_score(df_test_y, pred) "
   ]
  },
  {
   "cell_type": "code",
   "execution_count": 30,
   "id": "3d082dbe",
   "metadata": {},
   "outputs": [
    {
     "name": "stdout",
     "output_type": "stream",
     "text": [
      "Train 성능\n",
      "혼돈행렬 : \n",
      "[[349  21]\n",
      " [  7 195]]\n",
      "accuracy : 0.9510\n",
      "precision : 0.9028\n",
      "recall : 0.9330\n",
      "f1 : 0.9330\n",
      "AUC : 0.9543\n"
     ]
    }
   ],
   "source": [
    "train_pred = tree_final.predict(df_train_x)\n",
    "test_pred = tree_final.predict(df_test_x)\n",
    "\n",
    "print('Train 성능')\n",
    "eval_class_model(df_train_y,train_pred)\n"
   ]
  },
  {
   "cell_type": "code",
   "execution_count": 31,
   "id": "52ecdf9a",
   "metadata": {},
   "outputs": [
    {
     "name": "stdout",
     "output_type": "stream",
     "text": [
      "Test 성능\n",
      "혼돈행렬 : \n",
      "[[85  8]\n",
      " [ 2 49]]\n",
      "accuracy : 0.9306\n",
      "precision : 0.8596\n",
      "recall : 0.9074\n",
      "f1 : 0.9074\n",
      "AUC : 0.9374\n"
     ]
    }
   ],
   "source": [
    "print('Test 성능')\n",
    "eval_class_model(df_test_y, test_pred)"
   ]
  },
  {
   "cell_type": "markdown",
   "id": "0e990452-690f-426e-a764-86b3ef7a036b",
   "metadata": {},
   "source": [
    "1. test의 accuracy _감소_\n",
    "2. test의 precision _감소_\n",
    "3. test의 reacll _감소_\n",
    "4. test의 F1-score _감소_\n",
    "5. test의 AUC _감소_\n",
    "\n",
    "소폭 감소로 모델 성능에 문제가 없는 것으로 판단된다"
   ]
  },
  {
   "cell_type": "code",
   "execution_count": 32,
   "id": "e3daf9bd",
   "metadata": {},
   "outputs": [
    {
     "data": {
      "text/html": [
       "<div>\n",
       "<style scoped>\n",
       "    .dataframe tbody tr th:only-of-type {\n",
       "        vertical-align: middle;\n",
       "    }\n",
       "\n",
       "    .dataframe tbody tr th {\n",
       "        vertical-align: top;\n",
       "    }\n",
       "\n",
       "    .dataframe thead th {\n",
       "        text-align: right;\n",
       "    }\n",
       "</style>\n",
       "<table border=\"1\" class=\"dataframe\">\n",
       "  <thead>\n",
       "    <tr style=\"text-align: right;\">\n",
       "      <th></th>\n",
       "      <th>Feature</th>\n",
       "      <th>Importance</th>\n",
       "    </tr>\n",
       "  </thead>\n",
       "  <tbody>\n",
       "    <tr>\n",
       "      <th>8</th>\n",
       "      <td>rolling_temp</td>\n",
       "      <td>0.750</td>\n",
       "    </tr>\n",
       "    <tr>\n",
       "      <th>5</th>\n",
       "      <td>fur_soak_temp</td>\n",
       "      <td>0.161</td>\n",
       "    </tr>\n",
       "    <tr>\n",
       "      <th>9</th>\n",
       "      <td>descaling_count</td>\n",
       "      <td>0.058</td>\n",
       "    </tr>\n",
       "    <tr>\n",
       "      <th>2</th>\n",
       "      <td>pt_length</td>\n",
       "      <td>0.031</td>\n",
       "    </tr>\n",
       "    <tr>\n",
       "      <th>0</th>\n",
       "      <td>pt_thick</td>\n",
       "      <td>0.000</td>\n",
       "    </tr>\n",
       "    <tr>\n",
       "      <th>1</th>\n",
       "      <td>pt_width</td>\n",
       "      <td>0.000</td>\n",
       "    </tr>\n",
       "    <tr>\n",
       "      <th>3</th>\n",
       "      <td>fur_heat_temp</td>\n",
       "      <td>0.000</td>\n",
       "    </tr>\n",
       "    <tr>\n",
       "      <th>4</th>\n",
       "      <td>fur_heat_time</td>\n",
       "      <td>0.000</td>\n",
       "    </tr>\n",
       "    <tr>\n",
       "      <th>6</th>\n",
       "      <td>fur_soak_time</td>\n",
       "      <td>0.000</td>\n",
       "    </tr>\n",
       "    <tr>\n",
       "      <th>7</th>\n",
       "      <td>fur_total_time</td>\n",
       "      <td>0.000</td>\n",
       "    </tr>\n",
       "    <tr>\n",
       "      <th>10</th>\n",
       "      <td>프랑스</td>\n",
       "      <td>0.000</td>\n",
       "    </tr>\n",
       "    <tr>\n",
       "      <th>11</th>\n",
       "      <td>미국</td>\n",
       "      <td>0.000</td>\n",
       "    </tr>\n",
       "    <tr>\n",
       "      <th>12</th>\n",
       "      <td>영국</td>\n",
       "      <td>0.000</td>\n",
       "    </tr>\n",
       "    <tr>\n",
       "      <th>13</th>\n",
       "      <td>일본</td>\n",
       "      <td>0.000</td>\n",
       "    </tr>\n",
       "    <tr>\n",
       "      <th>14</th>\n",
       "      <td>한국</td>\n",
       "      <td>0.000</td>\n",
       "    </tr>\n",
       "    <tr>\n",
       "      <th>15</th>\n",
       "      <td>독일</td>\n",
       "      <td>0.000</td>\n",
       "    </tr>\n",
       "  </tbody>\n",
       "</table>\n",
       "</div>"
      ],
      "text/plain": [
       "            Feature  Importance\n",
       "8      rolling_temp       0.750\n",
       "5     fur_soak_temp       0.161\n",
       "9   descaling_count       0.058\n",
       "2         pt_length       0.031\n",
       "0          pt_thick       0.000\n",
       "1          pt_width       0.000\n",
       "3     fur_heat_temp       0.000\n",
       "4     fur_heat_time       0.000\n",
       "6     fur_soak_time       0.000\n",
       "7    fur_total_time       0.000\n",
       "10              프랑스       0.000\n",
       "11               미국       0.000\n",
       "12               영국       0.000\n",
       "13               일본       0.000\n",
       "14               한국       0.000\n",
       "15               독일       0.000"
      ]
     },
     "execution_count": 32,
     "metadata": {},
     "output_type": "execute_result"
    }
   ],
   "source": [
    "v_feature_name = df_train_x.columns\n",
    "\n",
    "df_importance = pd.DataFrame()\n",
    "df_importance['Feature'] = v_feature_name\n",
    "df_importance['Importance'] = tree_final.feature_importances_\n",
    "\n",
    "df_importance.sort_values('Importance', ascending = False, inplace = True)\n",
    "df_importance.round(3)"
   ]
  },
  {
   "cell_type": "code",
   "execution_count": 33,
   "id": "a47a777e",
   "metadata": {},
   "outputs": [
    {
     "data": {
      "text/plain": [
       "Text(0, 0.5, 'feature')"
      ]
     },
     "execution_count": 33,
     "metadata": {},
     "output_type": "execute_result"
    },
    {
     "data": {
      "image/png": "[encoded data removed]",
      "text/plain": [
       "<Figure size 640x480 with 1 Axes>"
      ]
     },
     "metadata": {},
     "output_type": "display_data"
    }
   ],
   "source": [
    "# 설명변수 중요도 그래프\n",
    "df_importance = df_importance[df_importance[\"Importance\"] > 0.005]\n",
    "df_importance.sort_values('Importance', ascending = True, inplace = True)\n",
    "coordinates = range(len(df_importance))\n",
    "plt.barh(y = coordinates, width = df_importance['Importance'])\n",
    "plt.yticks(coordinates, df_importance['Feature'])\n",
    "plt.xlabel('feature_importance')\n",
    "plt.ylabel('feature')"
   ]
  },
  {
   "cell_type": "markdown",
   "id": "64cd0ec8",
   "metadata": {},
   "source": [
    "- 스케일 불량에 영향을 주는 변수는 압연 온도, 균열대 온도, 지시 두께, 압연(디스케일링) 횟수이다."
   ]
  },
  {
   "cell_type": "code",
   "execution_count": 34,
   "id": "704d6f2f",
   "metadata": {},
   "outputs": [
    {
     "data": {
      "image/svg+xml": [
       "<?xml version=\"1.0\" encoding=\"UTF-8\" standalone=\"no\"?>\n",
       "<!DOCTYPE svg PUBLIC \"-//W3C//DTD SVG 1.1//EN\"\n",
       " \"http://www.w3.org/Graphics/SVG/1.1/DTD/svg11.dtd\">\n",
       "<!-- Generated by graphviz version 2.40.1 (20161225.0304)\n",
       " -->\n",
       "<!-- Title: Tree Pages: 1 -->\n",
       "<svg width=\"482pt\" height=\"477pt\"\n",
       " viewBox=\"0.00 0.00 482.00 477.00\" xmlns=\"http://www.w3.org/2000/svg\" xmlns:xlink=\"http://www.w3.org/1999/xlink\">\n",
       "<g id=\"graph0\" class=\"graph\" transform=\"scale(1 1) rotate(0) translate(4 473)\">\n",
       "<title>Tree</title>\n",
       "<polygon fill=\"#ffffff\" stroke=\"transparent\" points=\"-4,4 -4,-473 478,-473 478,4 -4,4\"/>\n",
       "<!-- 0 -->\n",
       "<g id=\"node1\" class=\"node\">\n",
       "<title>0</title>\n",
       "<polygon fill=\"#f3c6a5\" stroke=\"#000000\" points=\"417,-469 261,-469 261,-401 417,-401 417,-469\"/>\n",
       "<text text-anchor=\"middle\" x=\"339\" y=\"-453.8\" font-family=\"Helvetica,sans-Serif\" font-size=\"14.00\" fill=\"#000000\">rolling_temp &lt;= 1000.5</text>\n",
       "<text text-anchor=\"middle\" x=\"339\" y=\"-438.8\" font-family=\"Helvetica,sans-Serif\" font-size=\"14.00\" fill=\"#000000\">gini = 0.457</text>\n",
       "<text text-anchor=\"middle\" x=\"339\" y=\"-423.8\" font-family=\"Helvetica,sans-Serif\" font-size=\"14.00\" fill=\"#000000\">samples = 572</text>\n",
       "<text text-anchor=\"middle\" x=\"339\" y=\"-408.8\" font-family=\"Helvetica,sans-Serif\" font-size=\"14.00\" fill=\"#000000\">value = [370, 202]</text>\n",
       "</g>\n",
       "<!-- 1 -->\n",
       "<g id=\"node2\" class=\"node\">\n",
       "<title>1</title>\n",
       "<polygon fill=\"#e99356\" stroke=\"#000000\" points=\"346,-365 174,-365 174,-297 346,-297 346,-365\"/>\n",
       "<text text-anchor=\"middle\" x=\"260\" y=\"-349.8\" font-family=\"Helvetica,sans-Serif\" font-size=\"14.00\" fill=\"#000000\">fur_soak_temp &lt;= 1174.5</text>\n",
       "<text text-anchor=\"middle\" x=\"260\" y=\"-334.8\" font-family=\"Helvetica,sans-Serif\" font-size=\"14.00\" fill=\"#000000\">gini = 0.222</text>\n",
       "<text text-anchor=\"middle\" x=\"260\" y=\"-319.8\" font-family=\"Helvetica,sans-Serif\" font-size=\"14.00\" fill=\"#000000\">samples = 424</text>\n",
       "<text text-anchor=\"middle\" x=\"260\" y=\"-304.8\" font-family=\"Helvetica,sans-Serif\" font-size=\"14.00\" fill=\"#000000\">value = [370, 54]</text>\n",
       "</g>\n",
       "<!-- 0&#45;&gt;1 -->\n",
       "<g id=\"edge1\" class=\"edge\">\n",
       "<title>0&#45;&gt;1</title>\n",
       "<path fill=\"none\" stroke=\"#000000\" d=\"M313.1324,-400.9465C306.3804,-392.0578 299.0226,-382.3716 291.9941,-373.1188\"/>\n",
       "<polygon fill=\"#000000\" stroke=\"#000000\" points=\"294.7617,-370.976 285.9257,-365.13 289.1875,-375.2102 294.7617,-370.976\"/>\n",
       "<text text-anchor=\"middle\" x=\"282.5418\" y=\"-386.1999\" font-family=\"Helvetica,sans-Serif\" font-size=\"14.00\" fill=\"#000000\">True</text>\n",
       "</g>\n",
       "<!-- 8 -->\n",
       "<g id=\"node9\" class=\"node\">\n",
       "<title>8</title>\n",
       "<polygon fill=\"#399de5\" stroke=\"#000000\" points=\"474,-357.5 364,-357.5 364,-304.5 474,-304.5 474,-357.5\"/>\n",
       "<text text-anchor=\"middle\" x=\"419\" y=\"-342.3\" font-family=\"Helvetica,sans-Serif\" font-size=\"14.00\" fill=\"#000000\">gini = 0.0</text>\n",
       "<text text-anchor=\"middle\" x=\"419\" y=\"-327.3\" font-family=\"Helvetica,sans-Serif\" font-size=\"14.00\" fill=\"#000000\">samples = 148</text>\n",
       "<text text-anchor=\"middle\" x=\"419\" y=\"-312.3\" font-family=\"Helvetica,sans-Serif\" font-size=\"14.00\" fill=\"#000000\">value = [0, 148]</text>\n",
       "</g>\n",
       "<!-- 0&#45;&gt;8 -->\n",
       "<g id=\"edge8\" class=\"edge\">\n",
       "<title>0&#45;&gt;8</title>\n",
       "<path fill=\"none\" stroke=\"#000000\" d=\"M365.195,-400.9465C373.9222,-389.6012 383.6487,-376.9567 392.4059,-365.5724\"/>\n",
       "<polygon fill=\"#000000\" stroke=\"#000000\" points=\"395.26,-367.6024 398.583,-357.5422 389.7116,-363.3344 395.26,-367.6024\"/>\n",
       "<text text-anchor=\"middle\" x=\"401.8164\" y=\"-378.6322\" font-family=\"Helvetica,sans-Serif\" font-size=\"14.00\" fill=\"#000000\">False</text>\n",
       "</g>\n",
       "<!-- 2 -->\n",
       "<g id=\"node3\" class=\"node\">\n",
       "<title>2</title>\n",
       "<polygon fill=\"#e78a47\" stroke=\"#000000\" points=\"264.5,-261 107.5,-261 107.5,-193 264.5,-193 264.5,-261\"/>\n",
       "<text text-anchor=\"middle\" x=\"186\" y=\"-245.8\" font-family=\"Helvetica,sans-Serif\" font-size=\"14.00\" fill=\"#000000\">descaling_count &lt;= 9.5</text>\n",
       "<text text-anchor=\"middle\" x=\"186\" y=\"-230.8\" font-family=\"Helvetica,sans-Serif\" font-size=\"14.00\" fill=\"#000000\">gini = 0.124</text>\n",
       "<text text-anchor=\"middle\" x=\"186\" y=\"-215.8\" font-family=\"Helvetica,sans-Serif\" font-size=\"14.00\" fill=\"#000000\">samples = 390</text>\n",
       "<text text-anchor=\"middle\" x=\"186\" y=\"-200.8\" font-family=\"Helvetica,sans-Serif\" font-size=\"14.00\" fill=\"#000000\">value = [364, 26]</text>\n",
       "</g>\n",
       "<!-- 1&#45;&gt;2 -->\n",
       "<g id=\"edge2\" class=\"edge\">\n",
       "<title>1&#45;&gt;2</title>\n",
       "<path fill=\"none\" stroke=\"#000000\" d=\"M235.7696,-296.9465C229.5088,-288.1475 222.692,-278.5672 216.1687,-269.3993\"/>\n",
       "<polygon fill=\"#000000\" stroke=\"#000000\" points=\"218.9342,-267.2488 210.2848,-261.13 213.2306,-271.3071 218.9342,-267.2488\"/>\n",
       "</g>\n",
       "<!-- 7 -->\n",
       "<g id=\"node8\" class=\"node\">\n",
       "<title>7</title>\n",
       "<polygon fill=\"#63b2eb\" stroke=\"#000000\" points=\"385,-253.5 283,-253.5 283,-200.5 385,-200.5 385,-253.5\"/>\n",
       "<text text-anchor=\"middle\" x=\"334\" y=\"-238.3\" font-family=\"Helvetica,sans-Serif\" font-size=\"14.00\" fill=\"#000000\">gini = 0.291</text>\n",
       "<text text-anchor=\"middle\" x=\"334\" y=\"-223.3\" font-family=\"Helvetica,sans-Serif\" font-size=\"14.00\" fill=\"#000000\">samples = 34</text>\n",
       "<text text-anchor=\"middle\" x=\"334\" y=\"-208.3\" font-family=\"Helvetica,sans-Serif\" font-size=\"14.00\" fill=\"#000000\">value = [6, 28]</text>\n",
       "</g>\n",
       "<!-- 1&#45;&gt;7 -->\n",
       "<g id=\"edge7\" class=\"edge\">\n",
       "<title>1&#45;&gt;7</title>\n",
       "<path fill=\"none\" stroke=\"#000000\" d=\"M284.2304,-296.9465C292.2246,-285.7113 301.1254,-273.2021 309.1642,-261.9043\"/>\n",
       "<polygon fill=\"#000000\" stroke=\"#000000\" points=\"312.1684,-263.7192 315.1142,-253.5422 306.4649,-259.6609 312.1684,-263.7192\"/>\n",
       "</g>\n",
       "<!-- 3 -->\n",
       "<g id=\"node4\" class=\"node\">\n",
       "<title>3</title>\n",
       "<polygon fill=\"#f1ba93\" stroke=\"#000000\" points=\"185.5,-157 40.5,-157 40.5,-89 185.5,-89 185.5,-157\"/>\n",
       "<text text-anchor=\"middle\" x=\"113\" y=\"-141.8\" font-family=\"Helvetica,sans-Serif\" font-size=\"14.00\" fill=\"#000000\">pt_length &lt;= 41100.0</text>\n",
       "<text text-anchor=\"middle\" x=\"113\" y=\"-126.8\" font-family=\"Helvetica,sans-Serif\" font-size=\"14.00\" fill=\"#000000\">gini = 0.43</text>\n",
       "<text text-anchor=\"middle\" x=\"113\" y=\"-111.8\" font-family=\"Helvetica,sans-Serif\" font-size=\"14.00\" fill=\"#000000\">samples = 83</text>\n",
       "<text text-anchor=\"middle\" x=\"113\" y=\"-96.8\" font-family=\"Helvetica,sans-Serif\" font-size=\"14.00\" fill=\"#000000\">value = [57, 26]</text>\n",
       "</g>\n",
       "<!-- 2&#45;&gt;3 -->\n",
       "<g id=\"edge3\" class=\"edge\">\n",
       "<title>2&#45;&gt;3</title>\n",
       "<path fill=\"none\" stroke=\"#000000\" d=\"M162.0971,-192.9465C155.9209,-184.1475 149.1962,-174.5672 142.761,-165.3993\"/>\n",
       "<polygon fill=\"#000000\" stroke=\"#000000\" points=\"145.5666,-163.3041 136.9566,-157.13 139.8371,-167.3258 145.5666,-163.3041\"/>\n",
       "</g>\n",
       "<!-- 6 -->\n",
       "<g id=\"node7\" class=\"node\">\n",
       "<title>6</title>\n",
       "<polygon fill=\"#e58139\" stroke=\"#000000\" points=\"314,-149.5 204,-149.5 204,-96.5 314,-96.5 314,-149.5\"/>\n",
       "<text text-anchor=\"middle\" x=\"259\" y=\"-134.3\" font-family=\"Helvetica,sans-Serif\" font-size=\"14.00\" fill=\"#000000\">gini = 0.0</text>\n",
       "<text text-anchor=\"middle\" x=\"259\" y=\"-119.3\" font-family=\"Helvetica,sans-Serif\" font-size=\"14.00\" fill=\"#000000\">samples = 307</text>\n",
       "<text text-anchor=\"middle\" x=\"259\" y=\"-104.3\" font-family=\"Helvetica,sans-Serif\" font-size=\"14.00\" fill=\"#000000\">value = [307, 0]</text>\n",
       "</g>\n",
       "<!-- 2&#45;&gt;6 -->\n",
       "<g id=\"edge6\" class=\"edge\">\n",
       "<title>2&#45;&gt;6</title>\n",
       "<path fill=\"none\" stroke=\"#000000\" d=\"M209.9029,-192.9465C217.7892,-181.7113 226.5697,-169.2021 234.4998,-157.9043\"/>\n",
       "<polygon fill=\"#000000\" stroke=\"#000000\" points=\"237.4889,-159.7379 240.3694,-149.5422 231.7595,-155.7163 237.4889,-159.7379\"/>\n",
       "</g>\n",
       "<!-- 4 -->\n",
       "<g id=\"node5\" class=\"node\">\n",
       "<title>4</title>\n",
       "<polygon fill=\"#e9965a\" stroke=\"#000000\" points=\"102,-53 0,-53 0,0 102,0 102,-53\"/>\n",
       "<text text-anchor=\"middle\" x=\"51\" y=\"-37.8\" font-family=\"Helvetica,sans-Serif\" font-size=\"14.00\" fill=\"#000000\">gini = 0.245</text>\n",
       "<text text-anchor=\"middle\" x=\"51\" y=\"-22.8\" font-family=\"Helvetica,sans-Serif\" font-size=\"14.00\" fill=\"#000000\">samples = 49</text>\n",
       "<text text-anchor=\"middle\" x=\"51\" y=\"-7.8\" font-family=\"Helvetica,sans-Serif\" font-size=\"14.00\" fill=\"#000000\">value = [42, 7]</text>\n",
       "</g>\n",
       "<!-- 3&#45;&gt;4 -->\n",
       "<g id=\"edge4\" class=\"edge\">\n",
       "<title>3&#45;&gt;4</title>\n",
       "<path fill=\"none\" stroke=\"#000000\" d=\"M91.1411,-88.9777C85.4932,-80.187 79.4007,-70.7044 73.7104,-61.8477\"/>\n",
       "<polygon fill=\"#000000\" stroke=\"#000000\" points=\"76.5356,-59.7698 68.1856,-53.2485 70.6463,-63.5536 76.5356,-59.7698\"/>\n",
       "</g>\n",
       "<!-- 5 -->\n",
       "<g id=\"node6\" class=\"node\">\n",
       "<title>5</title>\n",
       "<polygon fill=\"#d5eafa\" stroke=\"#000000\" points=\"230,-53 120,-53 120,0 230,0 230,-53\"/>\n",
       "<text text-anchor=\"middle\" x=\"175\" y=\"-37.8\" font-family=\"Helvetica,sans-Serif\" font-size=\"14.00\" fill=\"#000000\">gini = 0.493</text>\n",
       "<text text-anchor=\"middle\" x=\"175\" y=\"-22.8\" font-family=\"Helvetica,sans-Serif\" font-size=\"14.00\" fill=\"#000000\">samples = 34</text>\n",
       "<text text-anchor=\"middle\" x=\"175\" y=\"-7.8\" font-family=\"Helvetica,sans-Serif\" font-size=\"14.00\" fill=\"#000000\">value = [15, 19]</text>\n",
       "</g>\n",
       "<!-- 3&#45;&gt;5 -->\n",
       "<g id=\"edge5\" class=\"edge\">\n",
       "<title>3&#45;&gt;5</title>\n",
       "<path fill=\"none\" stroke=\"#000000\" d=\"M134.8589,-88.9777C140.5068,-80.187 146.5993,-70.7044 152.2896,-61.8477\"/>\n",
       "<polygon fill=\"#000000\" stroke=\"#000000\" points=\"155.3537,-63.5536 157.8144,-53.2485 149.4644,-59.7698 155.3537,-63.5536\"/>\n",
       "</g>\n",
       "</g>\n",
       "</svg>\n"
      ],
      "text/plain": [
       "<graphviz.sources.Source at 0x7fe0113e8c70>"
      ]
     },
     "metadata": {},
     "output_type": "display_data"
    }
   ],
   "source": [
    "export_graphviz(tree_final, out_file = 'posco_tree_final2.dot',\n",
    "               feature_names = v_feature_name, impurity = True, filled = True)\n",
    "\n",
    "with open('posco_tree_final2.dot') as f:\n",
    "    dot_graph = f.read()\n",
    "display(graphviz.Source(dot_graph))"
   ]
  },
  {
   "cell_type": "code",
   "execution_count": 35,
   "id": "bacb1122",
   "metadata": {},
   "outputs": [
    {
     "name": "stdout",
     "output_type": "stream",
     "text": [
      "0.9607843137254902\n"
     ]
    }
   ],
   "source": [
    "y_test_pred = tree_final.predict(df_test_x)\n",
    "cf_tree = confusion_matrix(df_test_y,y_test_pred)\n",
    "\n",
    "tpr = cf_tree[1][0] /(cf_tree[1][0] + cf_tree[1][1])\n",
    "tpr\n",
    "print(1-tpr)"
   ]
  },
  {
   "cell_type": "code",
   "execution_count": 36,
   "id": "a38ab759",
   "metadata": {},
   "outputs": [],
   "source": [
    "models = ['DecisionTree','RandomForest','XGBoost','LogisticRegressor']\n",
    "\n",
    "accuracy = []\n",
    "f1 = []\n",
    "recall = []\n",
    "precision = []\n",
    "speci = []\n",
    "\n",
    "tree_pred = tree_final.predict(df_test_x)\n",
    "\n",
    "accuracy.append(accuracy_score(df_test_y,tree_pred))\n",
    "f1.append(f1_score(df_test_y,tree_pred))\n",
    "recall.append(recall_score(df_test_y, tree_pred))\n",
    "precision.append(precision_score(df_test_y,tree_pred))\n",
    "speci.append(1-tpr)"
   ]
  },
  {
   "cell_type": "markdown",
   "id": "e9e9faff",
   "metadata": {},
   "source": [
    "## 2. RandomForest"
   ]
  },
  {
   "cell_type": "markdown",
   "id": "499bba8b-d33d-4fe0-a0ab-ad42830f1b42",
   "metadata": {},
   "source": [
    "- 초기 모델 생성"
   ]
  },
  {
   "cell_type": "code",
   "execution_count": 37,
   "id": "5f34743c",
   "metadata": {},
   "outputs": [
    {
     "name": "stdout",
     "output_type": "stream",
     "text": [
      "Score on training set : 1.000\n",
      "Score on test set : 0.986\n"
     ]
    }
   ],
   "source": [
    "# 기본 모델\n",
    "rfr = RandomForestClassifier(random_state = 2024)\n",
    "rfr.fit(df_train_x, df_train_y)\n",
    "print('Score on training set : {:.3f}'.format(rfr.score(df_train_x,df_train_y)))\n",
    "print('Score on test set : {:.3f}'.format(rfr.score(df_test_x,df_test_y)))"
   ]
  },
  {
   "cell_type": "markdown",
   "id": "6a4ca3eb-aa17-4fc6-b379-5e5077b83e57",
   "metadata": {},
   "source": [
    "## 파라미터 튜닝"
   ]
  },
  {
   "cell_type": "markdown",
   "id": "05067ec5",
   "metadata": {},
   "source": [
    "#### n_estimators 트리수"
   ]
  },
  {
   "cell_type": "code",
   "execution_count": 38,
   "id": "5f06b6b4",
   "metadata": {},
   "outputs": [],
   "source": [
    "# train 및 test 정확도 결과 저장용\n",
    "train_accuracy = []; test_accuracy = []\n",
    "# n_estimatos: 트리 수 변경\n",
    "para_n_tree = [n_tree * 10 for n_tree in range(1, 16)]\n",
    "\n",
    "for v_n_estimators in para_n_tree:\n",
    "    rf = RandomForestClassifier(n_estimators = v_n_estimators,random_state = 2024)\n",
    "    rf.fit(df_train_x, df_train_y)\n",
    "    train_accuracy.append(rf.score(df_train_x, df_train_y))\n",
    "    test_accuracy.append(rf.score(df_test_x, df_test_y))\n",
    "\n",
    "# 데이터 테이블로 저장\n",
    "df_accuracy_n = pd.DataFrame()\n",
    "df_accuracy_n[\"n_estimators\"] = para_n_tree\n",
    "df_accuracy_n[\"TrainAccuracy\"] = train_accuracy\n",
    "df_accuracy_n[\"TestAccuracy\"] = test_accuracy"
   ]
  },
  {
   "cell_type": "code",
   "execution_count": 39,
   "id": "b2b36dac",
   "metadata": {},
   "outputs": [
    {
     "data": {
      "text/html": [
       "<div>\n",
       "<style scoped>\n",
       "    .dataframe tbody tr th:only-of-type {\n",
       "        vertical-align: middle;\n",
       "    }\n",
       "\n",
       "    .dataframe tbody tr th {\n",
       "        vertical-align: top;\n",
       "    }\n",
       "\n",
       "    .dataframe thead th {\n",
       "        text-align: right;\n",
       "    }\n",
       "</style>\n",
       "<table border=\"1\" class=\"dataframe\">\n",
       "  <thead>\n",
       "    <tr style=\"text-align: right;\">\n",
       "      <th></th>\n",
       "      <th>n_estimators</th>\n",
       "      <th>TrainAccuracy</th>\n",
       "      <th>TestAccuracy</th>\n",
       "    </tr>\n",
       "  </thead>\n",
       "  <tbody>\n",
       "    <tr>\n",
       "      <th>0</th>\n",
       "      <td>10</td>\n",
       "      <td>1.0</td>\n",
       "      <td>0.979167</td>\n",
       "    </tr>\n",
       "    <tr>\n",
       "      <th>1</th>\n",
       "      <td>20</td>\n",
       "      <td>1.0</td>\n",
       "      <td>0.979167</td>\n",
       "    </tr>\n",
       "    <tr>\n",
       "      <th>2</th>\n",
       "      <td>30</td>\n",
       "      <td>1.0</td>\n",
       "      <td>0.986111</td>\n",
       "    </tr>\n",
       "    <tr>\n",
       "      <th>3</th>\n",
       "      <td>40</td>\n",
       "      <td>1.0</td>\n",
       "      <td>0.979167</td>\n",
       "    </tr>\n",
       "    <tr>\n",
       "      <th>4</th>\n",
       "      <td>50</td>\n",
       "      <td>1.0</td>\n",
       "      <td>0.979167</td>\n",
       "    </tr>\n",
       "    <tr>\n",
       "      <th>5</th>\n",
       "      <td>60</td>\n",
       "      <td>1.0</td>\n",
       "      <td>0.986111</td>\n",
       "    </tr>\n",
       "    <tr>\n",
       "      <th>6</th>\n",
       "      <td>70</td>\n",
       "      <td>1.0</td>\n",
       "      <td>0.986111</td>\n",
       "    </tr>\n",
       "    <tr>\n",
       "      <th>7</th>\n",
       "      <td>80</td>\n",
       "      <td>1.0</td>\n",
       "      <td>0.993056</td>\n",
       "    </tr>\n",
       "    <tr>\n",
       "      <th>8</th>\n",
       "      <td>90</td>\n",
       "      <td>1.0</td>\n",
       "      <td>0.993056</td>\n",
       "    </tr>\n",
       "    <tr>\n",
       "      <th>9</th>\n",
       "      <td>100</td>\n",
       "      <td>1.0</td>\n",
       "      <td>0.986111</td>\n",
       "    </tr>\n",
       "    <tr>\n",
       "      <th>10</th>\n",
       "      <td>110</td>\n",
       "      <td>1.0</td>\n",
       "      <td>0.986111</td>\n",
       "    </tr>\n",
       "    <tr>\n",
       "      <th>11</th>\n",
       "      <td>120</td>\n",
       "      <td>1.0</td>\n",
       "      <td>0.993056</td>\n",
       "    </tr>\n",
       "    <tr>\n",
       "      <th>12</th>\n",
       "      <td>130</td>\n",
       "      <td>1.0</td>\n",
       "      <td>0.986111</td>\n",
       "    </tr>\n",
       "    <tr>\n",
       "      <th>13</th>\n",
       "      <td>140</td>\n",
       "      <td>1.0</td>\n",
       "      <td>0.993056</td>\n",
       "    </tr>\n",
       "    <tr>\n",
       "      <th>14</th>\n",
       "      <td>150</td>\n",
       "      <td>1.0</td>\n",
       "      <td>0.993056</td>\n",
       "    </tr>\n",
       "  </tbody>\n",
       "</table>\n",
       "</div>"
      ],
      "text/plain": [
       "    n_estimators  TrainAccuracy  TestAccuracy\n",
       "0             10            1.0      0.979167\n",
       "1             20            1.0      0.979167\n",
       "2             30            1.0      0.986111\n",
       "3             40            1.0      0.979167\n",
       "4             50            1.0      0.979167\n",
       "5             60            1.0      0.986111\n",
       "6             70            1.0      0.986111\n",
       "7             80            1.0      0.993056\n",
       "8             90            1.0      0.993056\n",
       "9            100            1.0      0.986111\n",
       "10           110            1.0      0.986111\n",
       "11           120            1.0      0.993056\n",
       "12           130            1.0      0.986111\n",
       "13           140            1.0      0.993056\n",
       "14           150            1.0      0.993056"
      ]
     },
     "metadata": {},
     "output_type": "display_data"
    },
    {
     "data": {
      "text/plain": [
       "<matplotlib.legend.Legend at 0x7fe011285390>"
      ]
     },
     "execution_count": 39,
     "metadata": {},
     "output_type": "execute_result"
    },
    {
     "data": {
      "image/png": "[encoded data removed]",
      "text/plain": [
       "<Figure size 640x480 with 1 Axes>"
      ]
     },
     "metadata": {},
     "output_type": "display_data"
    }
   ],
   "source": [
    "# 모델 정확도 그래프 확인\n",
    "display(df_accuracy_n)\n",
    "plt.plot(para_n_tree, train_accuracy, linestyle = \"-\", label = \"Train Accuracy\")\n",
    "plt.plot(para_n_tree, test_accuracy, linestyle = \"--\", label = \"Test Accuracy\")\n",
    "plt.xlabel(\"n_estimators\"); plt.ylabel(\"accuracy\")\n",
    "plt.legend()"
   ]
  },
  {
   "cell_type": "markdown",
   "id": "42e81c3b",
   "metadata": {},
   "source": [
    "- n_estimators = __20__"
   ]
  },
  {
   "cell_type": "markdown",
   "id": "7001b771",
   "metadata": {},
   "source": [
    "- 분리 노드 최소 자료수"
   ]
  },
  {
   "cell_type": "code",
   "execution_count": 40,
   "id": "288ee70f",
   "metadata": {},
   "outputs": [],
   "source": [
    "# train 및 test 정확도 결과 저장용\n",
    "train_accuracy = []; test_accuracy = []\n",
    "# min_samples_split: 분할하기 위한 노드의 최소 샘플 수.\n",
    "para_split = [n_split * 2 for n_split in range(15, 42)]\n",
    "\n",
    "for v_min_samples_split in para_split:\n",
    "    rf = RandomForestClassifier(min_samples_split = v_min_samples_split,n_estimators = 20,random_state = 2024)\n",
    "    rf.fit(df_train_x, df_train_y)\n",
    "    train_accuracy.append(rf.score(df_train_x, df_train_y))\n",
    "    test_accuracy.append(rf.score(df_test_x, df_test_y))\n",
    "\n",
    "# 데이터 테이블로 저장\n",
    "df_accuracy_split = pd.DataFrame()\n",
    "df_accuracy_split[\"MinSamplesSplit\"] = para_split\n",
    "df_accuracy_split[\"TrainAccuracy\"] = train_accuracy\n",
    "df_accuracy_split[\"TestAccuracy\"] = test_accuracy"
   ]
  },
  {
   "cell_type": "code",
   "execution_count": 41,
   "id": "cb96e009",
   "metadata": {},
   "outputs": [
    {
     "data": {
      "text/html": [
       "<div>\n",
       "<style scoped>\n",
       "    .dataframe tbody tr th:only-of-type {\n",
       "        vertical-align: middle;\n",
       "    }\n",
       "\n",
       "    .dataframe tbody tr th {\n",
       "        vertical-align: top;\n",
       "    }\n",
       "\n",
       "    .dataframe thead th {\n",
       "        text-align: right;\n",
       "    }\n",
       "</style>\n",
       "<table border=\"1\" class=\"dataframe\">\n",
       "  <thead>\n",
       "    <tr style=\"text-align: right;\">\n",
       "      <th></th>\n",
       "      <th>MinSamplesSplit</th>\n",
       "      <th>TrainAccuracy</th>\n",
       "      <th>TestAccuracy</th>\n",
       "    </tr>\n",
       "  </thead>\n",
       "  <tbody>\n",
       "    <tr>\n",
       "      <th>0</th>\n",
       "      <td>30</td>\n",
       "      <td>0.989510</td>\n",
       "      <td>0.979167</td>\n",
       "    </tr>\n",
       "    <tr>\n",
       "      <th>1</th>\n",
       "      <td>32</td>\n",
       "      <td>0.991259</td>\n",
       "      <td>0.979167</td>\n",
       "    </tr>\n",
       "    <tr>\n",
       "      <th>2</th>\n",
       "      <td>34</td>\n",
       "      <td>0.991259</td>\n",
       "      <td>0.979167</td>\n",
       "    </tr>\n",
       "    <tr>\n",
       "      <th>3</th>\n",
       "      <td>36</td>\n",
       "      <td>0.984266</td>\n",
       "      <td>0.979167</td>\n",
       "    </tr>\n",
       "    <tr>\n",
       "      <th>4</th>\n",
       "      <td>38</td>\n",
       "      <td>0.980769</td>\n",
       "      <td>0.979167</td>\n",
       "    </tr>\n",
       "    <tr>\n",
       "      <th>5</th>\n",
       "      <td>40</td>\n",
       "      <td>0.979021</td>\n",
       "      <td>0.979167</td>\n",
       "    </tr>\n",
       "    <tr>\n",
       "      <th>6</th>\n",
       "      <td>42</td>\n",
       "      <td>0.975524</td>\n",
       "      <td>0.979167</td>\n",
       "    </tr>\n",
       "    <tr>\n",
       "      <th>7</th>\n",
       "      <td>44</td>\n",
       "      <td>0.975524</td>\n",
       "      <td>0.972222</td>\n",
       "    </tr>\n",
       "    <tr>\n",
       "      <th>8</th>\n",
       "      <td>46</td>\n",
       "      <td>0.972028</td>\n",
       "      <td>0.965278</td>\n",
       "    </tr>\n",
       "    <tr>\n",
       "      <th>9</th>\n",
       "      <td>48</td>\n",
       "      <td>0.975524</td>\n",
       "      <td>0.965278</td>\n",
       "    </tr>\n",
       "    <tr>\n",
       "      <th>10</th>\n",
       "      <td>50</td>\n",
       "      <td>0.965035</td>\n",
       "      <td>0.958333</td>\n",
       "    </tr>\n",
       "    <tr>\n",
       "      <th>11</th>\n",
       "      <td>52</td>\n",
       "      <td>0.959790</td>\n",
       "      <td>0.958333</td>\n",
       "    </tr>\n",
       "    <tr>\n",
       "      <th>12</th>\n",
       "      <td>54</td>\n",
       "      <td>0.963287</td>\n",
       "      <td>0.965278</td>\n",
       "    </tr>\n",
       "    <tr>\n",
       "      <th>13</th>\n",
       "      <td>56</td>\n",
       "      <td>0.961538</td>\n",
       "      <td>0.958333</td>\n",
       "    </tr>\n",
       "    <tr>\n",
       "      <th>14</th>\n",
       "      <td>58</td>\n",
       "      <td>0.961538</td>\n",
       "      <td>0.958333</td>\n",
       "    </tr>\n",
       "    <tr>\n",
       "      <th>15</th>\n",
       "      <td>60</td>\n",
       "      <td>0.961538</td>\n",
       "      <td>0.958333</td>\n",
       "    </tr>\n",
       "    <tr>\n",
       "      <th>16</th>\n",
       "      <td>62</td>\n",
       "      <td>0.954545</td>\n",
       "      <td>0.958333</td>\n",
       "    </tr>\n",
       "    <tr>\n",
       "      <th>17</th>\n",
       "      <td>64</td>\n",
       "      <td>0.954545</td>\n",
       "      <td>0.958333</td>\n",
       "    </tr>\n",
       "    <tr>\n",
       "      <th>18</th>\n",
       "      <td>66</td>\n",
       "      <td>0.956294</td>\n",
       "      <td>0.958333</td>\n",
       "    </tr>\n",
       "    <tr>\n",
       "      <th>19</th>\n",
       "      <td>68</td>\n",
       "      <td>0.956294</td>\n",
       "      <td>0.958333</td>\n",
       "    </tr>\n",
       "    <tr>\n",
       "      <th>20</th>\n",
       "      <td>70</td>\n",
       "      <td>0.952797</td>\n",
       "      <td>0.958333</td>\n",
       "    </tr>\n",
       "    <tr>\n",
       "      <th>21</th>\n",
       "      <td>72</td>\n",
       "      <td>0.947552</td>\n",
       "      <td>0.958333</td>\n",
       "    </tr>\n",
       "    <tr>\n",
       "      <th>22</th>\n",
       "      <td>74</td>\n",
       "      <td>0.947552</td>\n",
       "      <td>0.958333</td>\n",
       "    </tr>\n",
       "    <tr>\n",
       "      <th>23</th>\n",
       "      <td>76</td>\n",
       "      <td>0.945804</td>\n",
       "      <td>0.958333</td>\n",
       "    </tr>\n",
       "    <tr>\n",
       "      <th>24</th>\n",
       "      <td>78</td>\n",
       "      <td>0.944056</td>\n",
       "      <td>0.958333</td>\n",
       "    </tr>\n",
       "    <tr>\n",
       "      <th>25</th>\n",
       "      <td>80</td>\n",
       "      <td>0.940559</td>\n",
       "      <td>0.965278</td>\n",
       "    </tr>\n",
       "    <tr>\n",
       "      <th>26</th>\n",
       "      <td>82</td>\n",
       "      <td>0.940559</td>\n",
       "      <td>0.965278</td>\n",
       "    </tr>\n",
       "  </tbody>\n",
       "</table>\n",
       "</div>"
      ],
      "text/plain": [
       "    MinSamplesSplit  TrainAccuracy  TestAccuracy\n",
       "0                30       0.989510      0.979167\n",
       "1                32       0.991259      0.979167\n",
       "2                34       0.991259      0.979167\n",
       "3                36       0.984266      0.979167\n",
       "4                38       0.980769      0.979167\n",
       "5                40       0.979021      0.979167\n",
       "6                42       0.975524      0.979167\n",
       "7                44       0.975524      0.972222\n",
       "8                46       0.972028      0.965278\n",
       "9                48       0.975524      0.965278\n",
       "10               50       0.965035      0.958333\n",
       "11               52       0.959790      0.958333\n",
       "12               54       0.963287      0.965278\n",
       "13               56       0.961538      0.958333\n",
       "14               58       0.961538      0.958333\n",
       "15               60       0.961538      0.958333\n",
       "16               62       0.954545      0.958333\n",
       "17               64       0.954545      0.958333\n",
       "18               66       0.956294      0.958333\n",
       "19               68       0.956294      0.958333\n",
       "20               70       0.952797      0.958333\n",
       "21               72       0.947552      0.958333\n",
       "22               74       0.947552      0.958333\n",
       "23               76       0.945804      0.958333\n",
       "24               78       0.944056      0.958333\n",
       "25               80       0.940559      0.965278\n",
       "26               82       0.940559      0.965278"
      ]
     },
     "metadata": {},
     "output_type": "display_data"
    },
    {
     "data": {
      "text/plain": [
       "<matplotlib.legend.Legend at 0x7fe0112f2920>"
      ]
     },
     "execution_count": 41,
     "metadata": {},
     "output_type": "execute_result"
    },
    {
     "data": {
      "image/png": "[encoded data removed]",
      "text/plain": [
       "<Figure size 640x480 with 1 Axes>"
      ]
     },
     "metadata": {},
     "output_type": "display_data"
    }
   ],
   "source": [
    "# 모델 정확도 그래프 확인\n",
    "display(df_accuracy_split)\n",
    "plt.plot(para_split, train_accuracy, linestyle = \"-\", label = \"Train Accuracy\")\n",
    "plt.plot(para_split, test_accuracy, linestyle = \"--\", label = \"Test Accuracy\")\n",
    "plt.xlabel(\"min_samples_split\"); plt.ylabel(\"accuracy\")\n",
    "plt.legend()"
   ]
  },
  {
   "cell_type": "markdown",
   "id": "fe0e0637",
   "metadata": {},
   "source": [
    "- 분리 노드 최소 자료수 __50__ 결정"
   ]
  },
  {
   "cell_type": "markdown",
   "id": "3cb94b22",
   "metadata": {},
   "source": [
    "#### 최대 깊이 조정"
   ]
  },
  {
   "cell_type": "code",
   "execution_count": 42,
   "id": "1ca61fa9",
   "metadata": {},
   "outputs": [],
   "source": [
    "# train 및 test 정확도 결과 저장용\n",
    "train_accuracy = []; test_accuracy = []\n",
    "# min_samples_split: 분할하기 위한 노드의 최소 샘플 수.\n",
    "m_depth = [m for m in range(1, 11)]\n",
    "\n",
    "for m in m_depth:\n",
    "    rf = RandomForestClassifier(max_depth = m, n_estimators = 20,min_samples_split = 50, random_state = 2024)\n",
    "    rf.fit(df_train_x, df_train_y)\n",
    "    train_accuracy.append(rf.score(df_train_x, df_train_y))\n",
    "    test_accuracy.append(rf.score(df_test_x, df_test_y))\n",
    "\n",
    "# 데이터 테이블로 저장\n",
    "df_accuracy_depth = pd.DataFrame()\n",
    "df_accuracy_depth[\"MaxDepth\"] = m_depth\n",
    "df_accuracy_depth[\"TrainAccuracy\"] = train_accuracy\n",
    "df_accuracy_depth[\"TestAccuracy\"] = test_accuracy"
   ]
  },
  {
   "cell_type": "code",
   "execution_count": 43,
   "id": "ddd5e6cf",
   "metadata": {},
   "outputs": [
    {
     "data": {
      "text/html": [
       "<div>\n",
       "<style scoped>\n",
       "    .dataframe tbody tr th:only-of-type {\n",
       "        vertical-align: middle;\n",
       "    }\n",
       "\n",
       "    .dataframe tbody tr th {\n",
       "        vertical-align: top;\n",
       "    }\n",
       "\n",
       "    .dataframe thead th {\n",
       "        text-align: right;\n",
       "    }\n",
       "</style>\n",
       "<table border=\"1\" class=\"dataframe\">\n",
       "  <thead>\n",
       "    <tr style=\"text-align: right;\">\n",
       "      <th></th>\n",
       "      <th>MaxDepth</th>\n",
       "      <th>TrainAccuracy</th>\n",
       "      <th>TestAccuracy</th>\n",
       "    </tr>\n",
       "  </thead>\n",
       "  <tbody>\n",
       "    <tr>\n",
       "      <th>0</th>\n",
       "      <td>1</td>\n",
       "      <td>0.905594</td>\n",
       "      <td>0.895833</td>\n",
       "    </tr>\n",
       "    <tr>\n",
       "      <th>1</th>\n",
       "      <td>2</td>\n",
       "      <td>0.907343</td>\n",
       "      <td>0.902778</td>\n",
       "    </tr>\n",
       "    <tr>\n",
       "      <th>2</th>\n",
       "      <td>3</td>\n",
       "      <td>0.937063</td>\n",
       "      <td>0.944444</td>\n",
       "    </tr>\n",
       "    <tr>\n",
       "      <th>3</th>\n",
       "      <td>4</td>\n",
       "      <td>0.947552</td>\n",
       "      <td>0.951389</td>\n",
       "    </tr>\n",
       "    <tr>\n",
       "      <th>4</th>\n",
       "      <td>5</td>\n",
       "      <td>0.952797</td>\n",
       "      <td>0.958333</td>\n",
       "    </tr>\n",
       "    <tr>\n",
       "      <th>5</th>\n",
       "      <td>6</td>\n",
       "      <td>0.958042</td>\n",
       "      <td>0.958333</td>\n",
       "    </tr>\n",
       "    <tr>\n",
       "      <th>6</th>\n",
       "      <td>7</td>\n",
       "      <td>0.958042</td>\n",
       "      <td>0.958333</td>\n",
       "    </tr>\n",
       "    <tr>\n",
       "      <th>7</th>\n",
       "      <td>8</td>\n",
       "      <td>0.963287</td>\n",
       "      <td>0.958333</td>\n",
       "    </tr>\n",
       "    <tr>\n",
       "      <th>8</th>\n",
       "      <td>9</td>\n",
       "      <td>0.963287</td>\n",
       "      <td>0.958333</td>\n",
       "    </tr>\n",
       "    <tr>\n",
       "      <th>9</th>\n",
       "      <td>10</td>\n",
       "      <td>0.965035</td>\n",
       "      <td>0.958333</td>\n",
       "    </tr>\n",
       "  </tbody>\n",
       "</table>\n",
       "</div>"
      ],
      "text/plain": [
       "   MaxDepth  TrainAccuracy  TestAccuracy\n",
       "0         1       0.905594      0.895833\n",
       "1         2       0.907343      0.902778\n",
       "2         3       0.937063      0.944444\n",
       "3         4       0.947552      0.951389\n",
       "4         5       0.952797      0.958333\n",
       "5         6       0.958042      0.958333\n",
       "6         7       0.958042      0.958333\n",
       "7         8       0.963287      0.958333\n",
       "8         9       0.963287      0.958333\n",
       "9        10       0.965035      0.958333"
      ]
     },
     "metadata": {},
     "output_type": "display_data"
    },
    {
     "data": {
      "text/plain": [
       "<matplotlib.legend.Legend at 0x7fe01125d420>"
      ]
     },
     "execution_count": 43,
     "metadata": {},
     "output_type": "execute_result"
    },
    {
     "data": {
      "image/png": "[encoded data removed]",
      "text/plain": [
       "<Figure size 640x480 with 1 Axes>"
      ]
     },
     "metadata": {},
     "output_type": "display_data"
    }
   ],
   "source": [
    "# 모델 정확도 그래프 확인\n",
    "display(df_accuracy_depth)\n",
    "plt.plot(m_depth, train_accuracy, linestyle = \"-\", label = \"Train Accuracy\")\n",
    "plt.plot(m_depth, test_accuracy, linestyle = \"--\", label = \"Test Accuracy\")\n",
    "plt.xlabel(\"max_depth\"); plt.ylabel(\"accuracy\")\n",
    "plt.legend()"
   ]
  },
  {
   "cell_type": "markdown",
   "id": "0c44eb0e",
   "metadata": {},
   "source": [
    "- 최대 깊이 __2__ 로 결정"
   ]
  },
  {
   "cell_type": "markdown",
   "id": "f3a67077",
   "metadata": {},
   "source": [
    "### 최종모델\n",
    "- max_depth = 2\n",
    "- n_estimators = 20\n",
    "- min_samples_split = 50"
   ]
  },
  {
   "cell_type": "code",
   "execution_count": 44,
   "id": "9f862270",
   "metadata": {},
   "outputs": [],
   "source": [
    "# rfr = RandomForestClassifier(max_depth=3, n_estimators=20,min_samples_split = 50, random_state = 2024)\n",
    "# rfr.fit(df_train_x, df_train_y)"
   ]
  },
  {
   "cell_type": "code",
   "execution_count": 45,
   "id": "b1404c8c",
   "metadata": {},
   "outputs": [
    {
     "name": "stdout",
     "output_type": "stream",
     "text": [
      "train data Accuray [0.9073426573426573]\n",
      "test data Accuray [0.9027777777777778]\n"
     ]
    }
   ],
   "source": [
    "v_feature_name = df_train_x.columns\n",
    "\n",
    "rfr = RandomForestClassifier(max_depth=2, n_estimators=20,min_samples_split = 50, random_state = 2024)\n",
    "rfr.fit(df_train_x, df_train_y)\n",
    "\n",
    "train_score = []\n",
    "test_score = [] \n",
    "\n",
    "# 학습 데이터로 모델 정확도 측정 \n",
    "train_score.append(rfr.score(df_train_x, df_train_y))\n",
    "print('train data Accuray', train_score)\n",
    "\n",
    "test_score.append(rfr.score(df_test_x, df_test_y))\n",
    "print('test data Accuray', test_score)\n",
    "\n",
    "pred = rfr.predict(df_test_x)\n",
    "# 테스트 데이터로 모델 정확도 측정 \n",
    "# rfr.score(df_test_x, df_test_y) \n",
    "# accuracy_score(df_test_y, pred)"
   ]
  },
  {
   "cell_type": "code",
   "execution_count": 46,
   "id": "abdcad3a",
   "metadata": {},
   "outputs": [
    {
     "name": "stdout",
     "output_type": "stream",
     "text": [
      "Train 성능\n",
      "\n",
      "혼돈행렬 : \n",
      "[[370   0]\n",
      " [ 53 149]]\n",
      "accuracy : 0.9073\n",
      "precision : 1.0000\n",
      "recall : 0.8490\n",
      "f1 : 0.8490\n",
      "AUC : 0.8688\n",
      "None\n",
      "Test 성능\n",
      "\n",
      "혼돈행렬 : \n",
      "[[93  0]\n",
      " [14 37]]\n",
      "accuracy : 0.9028\n",
      "precision : 1.0000\n",
      "recall : 0.8409\n",
      "f1 : 0.8409\n",
      "AUC : 0.8627\n",
      "None\n"
     ]
    }
   ],
   "source": [
    "y_train_pred = rfr.predict(df_train_x)\n",
    "print('Train 성능\\n')\n",
    "print(eval_class_model(df_train_y,y_train_pred))\n",
    "\n",
    "y_test_pred = rfr.predict(df_test_x)\n",
    "print('Test 성능\\n')\n",
    "print(eval_class_model(df_test_y,y_test_pred))"
   ]
  },
  {
   "cell_type": "markdown",
   "id": "e7c9658b-4bc3-422d-96c0-02ce6466ec1d",
   "metadata": {},
   "source": [
    "1. test의 accuracy _감소_\n",
    "2. test의 precision _유지_\n",
    "3. test의 reacll _감소_\n",
    "4. test의 F1-score _감소_\n",
    "5. test의 AUC _감소_\n",
    "\n",
    "소폭 감소로 모델 성능에 문제가 없는 것으로 판단된다"
   ]
  },
  {
   "cell_type": "code",
   "execution_count": 47,
   "id": "39c495fc",
   "metadata": {},
   "outputs": [
    {
     "name": "stdout",
     "output_type": "stream",
     "text": [
      "0.7254901960784313\n"
     ]
    }
   ],
   "source": [
    "# 실제 불량으로 판명된 제품을 정확하게 불량으로 예측할 확률\n",
    "y_test_pred = rfr.predict(df_test_x)\n",
    "cf_rfr = confusion_matrix(df_test_y,y_test_pred)\n",
    "\n",
    "tpr = cf_rfr[1][0] /(cf_rfr[1][0] + cf_rfr[1][1])\n",
    "tpr\n",
    "print(1-tpr)"
   ]
  },
  {
   "cell_type": "markdown",
   "id": "c5bc6a02",
   "metadata": {},
   "source": [
    "### 피처 중요도"
   ]
  },
  {
   "cell_type": "code",
   "execution_count": 48,
   "id": "5caf6662",
   "metadata": {},
   "outputs": [
    {
     "data": {
      "text/html": [
       "<div>\n",
       "<style scoped>\n",
       "    .dataframe tbody tr th:only-of-type {\n",
       "        vertical-align: middle;\n",
       "    }\n",
       "\n",
       "    .dataframe tbody tr th {\n",
       "        vertical-align: top;\n",
       "    }\n",
       "\n",
       "    .dataframe thead th {\n",
       "        text-align: right;\n",
       "    }\n",
       "</style>\n",
       "<table border=\"1\" class=\"dataframe\">\n",
       "  <thead>\n",
       "    <tr style=\"text-align: right;\">\n",
       "      <th></th>\n",
       "      <th>Feature</th>\n",
       "      <th>Importance</th>\n",
       "    </tr>\n",
       "  </thead>\n",
       "  <tbody>\n",
       "    <tr>\n",
       "      <th>8</th>\n",
       "      <td>rolling_temp</td>\n",
       "      <td>0.549</td>\n",
       "    </tr>\n",
       "    <tr>\n",
       "      <th>9</th>\n",
       "      <td>descaling_count</td>\n",
       "      <td>0.236</td>\n",
       "    </tr>\n",
       "    <tr>\n",
       "      <th>0</th>\n",
       "      <td>pt_thick</td>\n",
       "      <td>0.111</td>\n",
       "    </tr>\n",
       "    <tr>\n",
       "      <th>3</th>\n",
       "      <td>fur_heat_temp</td>\n",
       "      <td>0.042</td>\n",
       "    </tr>\n",
       "    <tr>\n",
       "      <th>2</th>\n",
       "      <td>pt_length</td>\n",
       "      <td>0.025</td>\n",
       "    </tr>\n",
       "    <tr>\n",
       "      <th>1</th>\n",
       "      <td>pt_width</td>\n",
       "      <td>0.020</td>\n",
       "    </tr>\n",
       "    <tr>\n",
       "      <th>6</th>\n",
       "      <td>fur_soak_time</td>\n",
       "      <td>0.007</td>\n",
       "    </tr>\n",
       "    <tr>\n",
       "      <th>14</th>\n",
       "      <td>한국</td>\n",
       "      <td>0.006</td>\n",
       "    </tr>\n",
       "    <tr>\n",
       "      <th>5</th>\n",
       "      <td>fur_soak_temp</td>\n",
       "      <td>0.003</td>\n",
       "    </tr>\n",
       "    <tr>\n",
       "      <th>7</th>\n",
       "      <td>fur_total_time</td>\n",
       "      <td>0.001</td>\n",
       "    </tr>\n",
       "    <tr>\n",
       "      <th>10</th>\n",
       "      <td>프랑스</td>\n",
       "      <td>0.000</td>\n",
       "    </tr>\n",
       "    <tr>\n",
       "      <th>4</th>\n",
       "      <td>fur_heat_time</td>\n",
       "      <td>0.000</td>\n",
       "    </tr>\n",
       "    <tr>\n",
       "      <th>11</th>\n",
       "      <td>미국</td>\n",
       "      <td>0.000</td>\n",
       "    </tr>\n",
       "    <tr>\n",
       "      <th>12</th>\n",
       "      <td>영국</td>\n",
       "      <td>0.000</td>\n",
       "    </tr>\n",
       "    <tr>\n",
       "      <th>13</th>\n",
       "      <td>일본</td>\n",
       "      <td>0.000</td>\n",
       "    </tr>\n",
       "    <tr>\n",
       "      <th>15</th>\n",
       "      <td>독일</td>\n",
       "      <td>0.000</td>\n",
       "    </tr>\n",
       "  </tbody>\n",
       "</table>\n",
       "</div>"
      ],
      "text/plain": [
       "            Feature  Importance\n",
       "8      rolling_temp       0.549\n",
       "9   descaling_count       0.236\n",
       "0          pt_thick       0.111\n",
       "3     fur_heat_temp       0.042\n",
       "2         pt_length       0.025\n",
       "1          pt_width       0.020\n",
       "6     fur_soak_time       0.007\n",
       "14               한국       0.006\n",
       "5     fur_soak_temp       0.003\n",
       "7    fur_total_time       0.001\n",
       "10              프랑스       0.000\n",
       "4     fur_heat_time       0.000\n",
       "11               미국       0.000\n",
       "12               영국       0.000\n",
       "13               일본       0.000\n",
       "15               독일       0.000"
      ]
     },
     "execution_count": 48,
     "metadata": {},
     "output_type": "execute_result"
    }
   ],
   "source": [
    "v_feature_name = df_train_x.columns\n",
    "df_importance = pd.DataFrame()\n",
    "df_importance['Feature'] = v_feature_name\n",
    "df_importance['Importance'] = rfr.feature_importances_\n",
    "\n",
    "df_importance.sort_values('Importance', ascending = False, inplace = True)\n",
    "df_importance.round(3)"
   ]
  },
  {
   "cell_type": "code",
   "execution_count": 49,
   "id": "4138041c",
   "metadata": {},
   "outputs": [
    {
     "data": {
      "text/plain": [
       "Text(0, 0.5, 'feature')"
      ]
     },
     "execution_count": 49,
     "metadata": {},
     "output_type": "execute_result"
    },
    {
     "data": {
      "image/png": "[encoded data removed]",
      "text/plain": [
       "<Figure size 640x480 with 1 Axes>"
      ]
     },
     "metadata": {},
     "output_type": "display_data"
    }
   ],
   "source": [
    "# 설명변수 중요도 그래프\n",
    "df_importance = df_importance[df_importance[\"Importance\"] > 0.005]\n",
    "df_importance.sort_values('Importance', ascending = True, inplace = True)\n",
    "coordinates = range(len(df_importance))\n",
    "plt.barh(y = coordinates, width = df_importance['Importance'])\n",
    "plt.yticks(coordinates, df_importance['Feature'])\n",
    "plt.xlabel('feature_importance')\n",
    "plt.ylabel('feature')"
   ]
  },
  {
   "cell_type": "markdown",
   "id": "41ab5d0b",
   "metadata": {},
   "source": [
    "- 불량 여부에 압연 온도, 압연 횟수, 지시 두께가 가장 중요하다는 결론이 나왔다.\n",
    "- 의사결정나무와 동일하게 압연 온도가 가장 불량에 영향을 많이 주는 변수라는 예측을 하였다."
   ]
  },
  {
   "cell_type": "code",
   "execution_count": 50,
   "id": "00a67898",
   "metadata": {},
   "outputs": [],
   "source": [
    "rfr_pred = rfr.predict(df_test_x)\n",
    "\n",
    "accuracy.append(accuracy_score(df_test_y,rfr_pred))\n",
    "f1.append(f1_score(df_test_y,rfr_pred))\n",
    "recall.append(recall_score(df_test_y, rfr_pred))\n",
    "precision.append(precision_score(df_test_y,rfr_pred))\n",
    "speci.append(1-tpr)"
   ]
  },
  {
   "cell_type": "markdown",
   "id": "98ed4a22",
   "metadata": {},
   "source": [
    "## 3. XGBoostClassifier"
   ]
  },
  {
   "cell_type": "markdown",
   "id": "33168a11-ac7d-4c6e-be6c-d0ce8a247acc",
   "metadata": {},
   "source": [
    "- 초기 모델 생성"
   ]
  },
  {
   "cell_type": "code",
   "execution_count": 51,
   "id": "80a89b4a",
   "metadata": {},
   "outputs": [
    {
     "name": "stdout",
     "output_type": "stream",
     "text": [
      "\n",
      ">>>> train <<<<\n",
      "\n",
      "혼돈행렬 : \n",
      "[[370   0]\n",
      " [  0 202]]\n",
      "accuracy : 1.0000\n",
      "precision : 1.0000\n",
      "recall : 1.0000\n",
      "f1 : 1.0000\n",
      "AUC : 1.0000\n",
      "\n",
      ">>>> test <<<<\n",
      "\n",
      "혼돈행렬 : \n",
      "[[93  0]\n",
      " [ 0 51]]\n",
      "accuracy : 1.0000\n",
      "precision : 1.0000\n",
      "recall : 1.0000\n",
      "f1 : 1.0000\n",
      "AUC : 1.0000\n"
     ]
    }
   ],
   "source": [
    "xgb_uncust = XGBClassifier(random_state = 2024)\n",
    "xgb_uncust.fit(df_train_x,df_train_y)\n",
    "\n",
    "print('\\n>>>> train <<<<\\n')\n",
    "xgb_train_pred = xgb_uncust.predict(df_train_x)\n",
    "eval_class_model(df_train_y, xgb_train_pred)\n",
    "\n",
    "print('\\n>>>> test <<<<\\n')\n",
    "xgb_test_pred = xgb_uncust.predict(df_test_x)\n",
    "eval_class_model(df_test_y,xgb_test_pred)"
   ]
  },
  {
   "cell_type": "markdown",
   "id": "17f3bedd",
   "metadata": {},
   "source": [
    "#### n_estimators 트리수"
   ]
  },
  {
   "cell_type": "code",
   "execution_count": 52,
   "id": "59f90a76",
   "metadata": {},
   "outputs": [
    {
     "data": {
      "text/html": [
       "<div>\n",
       "<style scoped>\n",
       "    .dataframe tbody tr th:only-of-type {\n",
       "        vertical-align: middle;\n",
       "    }\n",
       "\n",
       "    .dataframe tbody tr th {\n",
       "        vertical-align: top;\n",
       "    }\n",
       "\n",
       "    .dataframe thead th {\n",
       "        text-align: right;\n",
       "    }\n",
       "</style>\n",
       "<table border=\"1\" class=\"dataframe\">\n",
       "  <thead>\n",
       "    <tr style=\"text-align: right;\">\n",
       "      <th></th>\n",
       "      <th>n_estimators</th>\n",
       "      <th>Train score</th>\n",
       "      <th>Test score</th>\n",
       "    </tr>\n",
       "  </thead>\n",
       "  <tbody>\n",
       "    <tr>\n",
       "      <th>0</th>\n",
       "      <td>10</td>\n",
       "      <td>0.998</td>\n",
       "      <td>1.000</td>\n",
       "    </tr>\n",
       "    <tr>\n",
       "      <th>1</th>\n",
       "      <td>20</td>\n",
       "      <td>0.998</td>\n",
       "      <td>1.000</td>\n",
       "    </tr>\n",
       "    <tr>\n",
       "      <th>2</th>\n",
       "      <td>30</td>\n",
       "      <td>1.000</td>\n",
       "      <td>1.000</td>\n",
       "    </tr>\n",
       "    <tr>\n",
       "      <th>3</th>\n",
       "      <td>40</td>\n",
       "      <td>1.000</td>\n",
       "      <td>1.000</td>\n",
       "    </tr>\n",
       "    <tr>\n",
       "      <th>4</th>\n",
       "      <td>50</td>\n",
       "      <td>1.000</td>\n",
       "      <td>1.000</td>\n",
       "    </tr>\n",
       "    <tr>\n",
       "      <th>5</th>\n",
       "      <td>60</td>\n",
       "      <td>1.000</td>\n",
       "      <td>1.000</td>\n",
       "    </tr>\n",
       "    <tr>\n",
       "      <th>6</th>\n",
       "      <td>70</td>\n",
       "      <td>1.000</td>\n",
       "      <td>1.000</td>\n",
       "    </tr>\n",
       "    <tr>\n",
       "      <th>7</th>\n",
       "      <td>80</td>\n",
       "      <td>1.000</td>\n",
       "      <td>1.000</td>\n",
       "    </tr>\n",
       "    <tr>\n",
       "      <th>8</th>\n",
       "      <td>90</td>\n",
       "      <td>1.000</td>\n",
       "      <td>1.000</td>\n",
       "    </tr>\n",
       "    <tr>\n",
       "      <th>9</th>\n",
       "      <td>100</td>\n",
       "      <td>1.000</td>\n",
       "      <td>1.000</td>\n",
       "    </tr>\n",
       "    <tr>\n",
       "      <th>10</th>\n",
       "      <td>110</td>\n",
       "      <td>1.000</td>\n",
       "      <td>1.000</td>\n",
       "    </tr>\n",
       "    <tr>\n",
       "      <th>11</th>\n",
       "      <td>120</td>\n",
       "      <td>1.000</td>\n",
       "      <td>1.000</td>\n",
       "    </tr>\n",
       "    <tr>\n",
       "      <th>12</th>\n",
       "      <td>130</td>\n",
       "      <td>1.000</td>\n",
       "      <td>0.993</td>\n",
       "    </tr>\n",
       "    <tr>\n",
       "      <th>13</th>\n",
       "      <td>140</td>\n",
       "      <td>1.000</td>\n",
       "      <td>0.993</td>\n",
       "    </tr>\n",
       "    <tr>\n",
       "      <th>14</th>\n",
       "      <td>150</td>\n",
       "      <td>1.000</td>\n",
       "      <td>0.993</td>\n",
       "    </tr>\n",
       "    <tr>\n",
       "      <th>15</th>\n",
       "      <td>160</td>\n",
       "      <td>1.000</td>\n",
       "      <td>0.993</td>\n",
       "    </tr>\n",
       "    <tr>\n",
       "      <th>16</th>\n",
       "      <td>170</td>\n",
       "      <td>1.000</td>\n",
       "      <td>0.993</td>\n",
       "    </tr>\n",
       "    <tr>\n",
       "      <th>17</th>\n",
       "      <td>180</td>\n",
       "      <td>1.000</td>\n",
       "      <td>0.993</td>\n",
       "    </tr>\n",
       "    <tr>\n",
       "      <th>18</th>\n",
       "      <td>190</td>\n",
       "      <td>1.000</td>\n",
       "      <td>0.993</td>\n",
       "    </tr>\n",
       "  </tbody>\n",
       "</table>\n",
       "</div>"
      ],
      "text/plain": [
       "    n_estimators  Train score  Test score\n",
       "0             10        0.998       1.000\n",
       "1             20        0.998       1.000\n",
       "2             30        1.000       1.000\n",
       "3             40        1.000       1.000\n",
       "4             50        1.000       1.000\n",
       "5             60        1.000       1.000\n",
       "6             70        1.000       1.000\n",
       "7             80        1.000       1.000\n",
       "8             90        1.000       1.000\n",
       "9            100        1.000       1.000\n",
       "10           110        1.000       1.000\n",
       "11           120        1.000       1.000\n",
       "12           130        1.000       0.993\n",
       "13           140        1.000       0.993\n",
       "14           150        1.000       0.993\n",
       "15           160        1.000       0.993\n",
       "16           170        1.000       0.993\n",
       "17           180        1.000       0.993\n",
       "18           190        1.000       0.993"
      ]
     },
     "metadata": {},
     "output_type": "display_data"
    },
    {
     "data": {
      "text/plain": [
       "<matplotlib.legend.Legend at 0x7fe011e41630>"
      ]
     },
     "execution_count": 52,
     "metadata": {},
     "output_type": "execute_result"
    },
    {
     "data": {
      "image/png": "[encoded data removed]",
      "text/plain": [
       "<Figure size 640x480 with 1 Axes>"
      ]
     },
     "metadata": {},
     "output_type": "display_data"
    }
   ],
   "source": [
    "train_score = []\n",
    "test_score = []\n",
    "\n",
    "n_est = [n_tree * 10 for n_tree in range(1,20)]\n",
    "\n",
    "for n in n_est:\n",
    "    xgb_model = XGBClassifier(n_estimators = n,random_state = 2024)\n",
    "    xgb_model.fit(df_train_x, df_train_y)\n",
    "    train_score.append(xgb_model.score(df_train_x,df_train_y))\n",
    "    test_score.append(xgb_model.score(df_test_x,df_test_y))\n",
    "\n",
    "df_score_trees = pd.DataFrame()    \n",
    "df_score_trees['n_estimators'] = n_est\n",
    "df_score_trees['Train score'] = train_score\n",
    "df_score_trees['Test score'] = test_score\n",
    "\n",
    "display(df_score_trees.round(3))\n",
    "\n",
    "plt.plot(n_est, train_score, linestyle = '-', label = 'Train Score')\n",
    "plt.plot(n_est, test_score, linestyle = '--', label = 'Test Score')\n",
    "plt.ylabel('score')\n",
    "plt.xlabel('n_estimators')\n",
    "plt.legend()"
   ]
  },
  {
   "cell_type": "markdown",
   "id": "2f4cfcb1",
   "metadata": {},
   "source": [
    "n_estimators는 모델 성능에 영향을 주지 않는 것으로 보이므로 디폴트 값 결정"
   ]
  },
  {
   "cell_type": "markdown",
   "id": "80774907",
   "metadata": {},
   "source": [
    "#### 세부적으로 분석"
   ]
  },
  {
   "cell_type": "code",
   "execution_count": 53,
   "id": "d6a01238",
   "metadata": {},
   "outputs": [],
   "source": [
    "# train_score = []\n",
    "# test_score = []\n",
    "\n",
    "# n_est = [n_tree for n_tree in range(1,20)]\n",
    "\n",
    "# for n in n_est:\n",
    "#     xgb_model = XGBClassifier(n_estimators = n,random_state = 2024)\n",
    "#     xgb_model.fit(df_train_x, df_train_y)\n",
    "#     train_score.append(xgb_model.score(df_train_x,df_train_y))\n",
    "#     test_score.append(xgb_model.score(df_test_x,df_test_y))\n",
    "\n",
    "# df_score_trees = pd.DataFrame()    \n",
    "# df_score_trees['n_estimators'] = n_est\n",
    "# df_score_trees['Train score'] = train_score\n",
    "# df_score_trees['Test score'] = test_score\n",
    "\n",
    "# display(df_score_trees.round(3))\n",
    "\n",
    "# plt.plot(n_est, train_score, linestyle = '-', label = 'Train Score')\n",
    "# plt.plot(n_est, test_score, linestyle = '--', label = 'Test Score')\n",
    "# plt.ylabel('score')\n",
    "# plt.xlabel('n_estimators')\n",
    "# plt.legend()"
   ]
  },
  {
   "cell_type": "markdown",
   "id": "e14ffe18",
   "metadata": {},
   "source": [
    "- n_estimators 디폴트 결정"
   ]
  },
  {
   "cell_type": "markdown",
   "id": "289ce423",
   "metadata": {},
   "source": [
    "#### 잎사귀 노드 최소 자료수 조정"
   ]
  },
  {
   "cell_type": "code",
   "execution_count": 54,
   "id": "f76211f6",
   "metadata": {},
   "outputs": [
    {
     "data": {
      "text/html": [
       "<div>\n",
       "<style scoped>\n",
       "    .dataframe tbody tr th:only-of-type {\n",
       "        vertical-align: middle;\n",
       "    }\n",
       "\n",
       "    .dataframe tbody tr th {\n",
       "        vertical-align: top;\n",
       "    }\n",
       "\n",
       "    .dataframe thead th {\n",
       "        text-align: right;\n",
       "    }\n",
       "</style>\n",
       "<table border=\"1\" class=\"dataframe\">\n",
       "  <thead>\n",
       "    <tr style=\"text-align: right;\">\n",
       "      <th></th>\n",
       "      <th>m_split</th>\n",
       "      <th>Train score</th>\n",
       "      <th>Test score</th>\n",
       "    </tr>\n",
       "  </thead>\n",
       "  <tbody>\n",
       "    <tr>\n",
       "      <th>0</th>\n",
       "      <td>2</td>\n",
       "      <td>1.0</td>\n",
       "      <td>1.0</td>\n",
       "    </tr>\n",
       "    <tr>\n",
       "      <th>1</th>\n",
       "      <td>4</td>\n",
       "      <td>1.0</td>\n",
       "      <td>1.0</td>\n",
       "    </tr>\n",
       "    <tr>\n",
       "      <th>2</th>\n",
       "      <td>6</td>\n",
       "      <td>1.0</td>\n",
       "      <td>1.0</td>\n",
       "    </tr>\n",
       "    <tr>\n",
       "      <th>3</th>\n",
       "      <td>8</td>\n",
       "      <td>1.0</td>\n",
       "      <td>1.0</td>\n",
       "    </tr>\n",
       "    <tr>\n",
       "      <th>4</th>\n",
       "      <td>10</td>\n",
       "      <td>1.0</td>\n",
       "      <td>1.0</td>\n",
       "    </tr>\n",
       "    <tr>\n",
       "      <th>5</th>\n",
       "      <td>12</td>\n",
       "      <td>1.0</td>\n",
       "      <td>1.0</td>\n",
       "    </tr>\n",
       "    <tr>\n",
       "      <th>6</th>\n",
       "      <td>14</td>\n",
       "      <td>1.0</td>\n",
       "      <td>1.0</td>\n",
       "    </tr>\n",
       "    <tr>\n",
       "      <th>7</th>\n",
       "      <td>16</td>\n",
       "      <td>1.0</td>\n",
       "      <td>1.0</td>\n",
       "    </tr>\n",
       "    <tr>\n",
       "      <th>8</th>\n",
       "      <td>18</td>\n",
       "      <td>1.0</td>\n",
       "      <td>1.0</td>\n",
       "    </tr>\n",
       "    <tr>\n",
       "      <th>9</th>\n",
       "      <td>20</td>\n",
       "      <td>1.0</td>\n",
       "      <td>1.0</td>\n",
       "    </tr>\n",
       "    <tr>\n",
       "      <th>10</th>\n",
       "      <td>22</td>\n",
       "      <td>1.0</td>\n",
       "      <td>1.0</td>\n",
       "    </tr>\n",
       "    <tr>\n",
       "      <th>11</th>\n",
       "      <td>24</td>\n",
       "      <td>1.0</td>\n",
       "      <td>1.0</td>\n",
       "    </tr>\n",
       "    <tr>\n",
       "      <th>12</th>\n",
       "      <td>26</td>\n",
       "      <td>1.0</td>\n",
       "      <td>1.0</td>\n",
       "    </tr>\n",
       "    <tr>\n",
       "      <th>13</th>\n",
       "      <td>28</td>\n",
       "      <td>1.0</td>\n",
       "      <td>1.0</td>\n",
       "    </tr>\n",
       "    <tr>\n",
       "      <th>14</th>\n",
       "      <td>30</td>\n",
       "      <td>1.0</td>\n",
       "      <td>1.0</td>\n",
       "    </tr>\n",
       "    <tr>\n",
       "      <th>15</th>\n",
       "      <td>32</td>\n",
       "      <td>1.0</td>\n",
       "      <td>1.0</td>\n",
       "    </tr>\n",
       "    <tr>\n",
       "      <th>16</th>\n",
       "      <td>34</td>\n",
       "      <td>1.0</td>\n",
       "      <td>1.0</td>\n",
       "    </tr>\n",
       "    <tr>\n",
       "      <th>17</th>\n",
       "      <td>36</td>\n",
       "      <td>1.0</td>\n",
       "      <td>1.0</td>\n",
       "    </tr>\n",
       "    <tr>\n",
       "      <th>18</th>\n",
       "      <td>38</td>\n",
       "      <td>1.0</td>\n",
       "      <td>1.0</td>\n",
       "    </tr>\n",
       "    <tr>\n",
       "      <th>19</th>\n",
       "      <td>40</td>\n",
       "      <td>1.0</td>\n",
       "      <td>1.0</td>\n",
       "    </tr>\n",
       "  </tbody>\n",
       "</table>\n",
       "</div>"
      ],
      "text/plain": [
       "    m_split  Train score  Test score\n",
       "0         2          1.0         1.0\n",
       "1         4          1.0         1.0\n",
       "2         6          1.0         1.0\n",
       "3         8          1.0         1.0\n",
       "4        10          1.0         1.0\n",
       "5        12          1.0         1.0\n",
       "6        14          1.0         1.0\n",
       "7        16          1.0         1.0\n",
       "8        18          1.0         1.0\n",
       "9        20          1.0         1.0\n",
       "10       22          1.0         1.0\n",
       "11       24          1.0         1.0\n",
       "12       26          1.0         1.0\n",
       "13       28          1.0         1.0\n",
       "14       30          1.0         1.0\n",
       "15       32          1.0         1.0\n",
       "16       34          1.0         1.0\n",
       "17       36          1.0         1.0\n",
       "18       38          1.0         1.0\n",
       "19       40          1.0         1.0"
      ]
     },
     "metadata": {},
     "output_type": "display_data"
    },
    {
     "data": {
      "text/plain": [
       "<matplotlib.legend.Legend at 0x7fe011ba3c70>"
      ]
     },
     "execution_count": 54,
     "metadata": {},
     "output_type": "execute_result"
    },
    {
     "data": {
      "image/png": "[encoded data removed]",
      "text/plain": [
       "<Figure size 640x480 with 1 Axes>"
      ]
     },
     "metadata": {},
     "output_type": "display_data"
    }
   ],
   "source": [
    "train_score = []\n",
    "test_score = []\n",
    "\n",
    "para_split = [n_split * 2 for n_split in range(1,21)]\n",
    "\n",
    "for split_ in para_split:\n",
    "    xgb_model = XGBClassifier(min_samples_split = split_,random_state = 2024)\n",
    "    xgb_model.fit(df_train_x, df_train_y)\n",
    "    train_score.append(xgb_model.score(df_train_x,df_train_y))\n",
    "    test_score.append(xgb_model.score(df_test_x,df_test_y))\n",
    "\n",
    "df_score_split = pd.DataFrame()    \n",
    "df_score_split['m_split'] = para_split\n",
    "df_score_split['Train score'] = train_score\n",
    "df_score_split['Test score'] = test_score\n",
    "\n",
    "display(df_score_split.round(3))\n",
    "\n",
    "plt.plot(para_split, train_score, linestyle = '-', label = 'Train Score')\n",
    "plt.plot(para_split, test_score, linestyle = '--', label = 'Test Score')\n",
    "plt.ylabel('score')\n",
    "plt.xlabel('min_samples_split')\n",
    "plt.legend()"
   ]
  },
  {
   "cell_type": "markdown",
   "id": "e0d2d9bd",
   "metadata": {},
   "source": [
    "- 잎사귀 노드 최소 자료수도 모델 성능에 영향을 주지 않는다. 디폴트 값으로 결정"
   ]
  },
  {
   "cell_type": "markdown",
   "id": "933cbe87",
   "metadata": {},
   "source": [
    "#### max_depth 튜닝"
   ]
  },
  {
   "cell_type": "code",
   "execution_count": 55,
   "id": "196359e4",
   "metadata": {},
   "outputs": [
    {
     "data": {
      "text/html": [
       "<div>\n",
       "<style scoped>\n",
       "    .dataframe tbody tr th:only-of-type {\n",
       "        vertical-align: middle;\n",
       "    }\n",
       "\n",
       "    .dataframe tbody tr th {\n",
       "        vertical-align: top;\n",
       "    }\n",
       "\n",
       "    .dataframe thead th {\n",
       "        text-align: right;\n",
       "    }\n",
       "</style>\n",
       "<table border=\"1\" class=\"dataframe\">\n",
       "  <thead>\n",
       "    <tr style=\"text-align: right;\">\n",
       "      <th></th>\n",
       "      <th>m_depth</th>\n",
       "      <th>Train score</th>\n",
       "      <th>Test score</th>\n",
       "    </tr>\n",
       "  </thead>\n",
       "  <tbody>\n",
       "    <tr>\n",
       "      <th>0</th>\n",
       "      <td>1</td>\n",
       "      <td>0.998</td>\n",
       "      <td>1.0</td>\n",
       "    </tr>\n",
       "    <tr>\n",
       "      <th>1</th>\n",
       "      <td>2</td>\n",
       "      <td>1.000</td>\n",
       "      <td>1.0</td>\n",
       "    </tr>\n",
       "    <tr>\n",
       "      <th>2</th>\n",
       "      <td>3</td>\n",
       "      <td>1.000</td>\n",
       "      <td>1.0</td>\n",
       "    </tr>\n",
       "    <tr>\n",
       "      <th>3</th>\n",
       "      <td>4</td>\n",
       "      <td>1.000</td>\n",
       "      <td>1.0</td>\n",
       "    </tr>\n",
       "    <tr>\n",
       "      <th>4</th>\n",
       "      <td>5</td>\n",
       "      <td>1.000</td>\n",
       "      <td>1.0</td>\n",
       "    </tr>\n",
       "    <tr>\n",
       "      <th>5</th>\n",
       "      <td>6</td>\n",
       "      <td>1.000</td>\n",
       "      <td>1.0</td>\n",
       "    </tr>\n",
       "    <tr>\n",
       "      <th>6</th>\n",
       "      <td>7</td>\n",
       "      <td>1.000</td>\n",
       "      <td>1.0</td>\n",
       "    </tr>\n",
       "    <tr>\n",
       "      <th>7</th>\n",
       "      <td>8</td>\n",
       "      <td>1.000</td>\n",
       "      <td>1.0</td>\n",
       "    </tr>\n",
       "    <tr>\n",
       "      <th>8</th>\n",
       "      <td>9</td>\n",
       "      <td>1.000</td>\n",
       "      <td>1.0</td>\n",
       "    </tr>\n",
       "    <tr>\n",
       "      <th>9</th>\n",
       "      <td>10</td>\n",
       "      <td>1.000</td>\n",
       "      <td>1.0</td>\n",
       "    </tr>\n",
       "  </tbody>\n",
       "</table>\n",
       "</div>"
      ],
      "text/plain": [
       "   m_depth  Train score  Test score\n",
       "0        1        0.998         1.0\n",
       "1        2        1.000         1.0\n",
       "2        3        1.000         1.0\n",
       "3        4        1.000         1.0\n",
       "4        5        1.000         1.0\n",
       "5        6        1.000         1.0\n",
       "6        7        1.000         1.0\n",
       "7        8        1.000         1.0\n",
       "8        9        1.000         1.0\n",
       "9       10        1.000         1.0"
      ]
     },
     "metadata": {},
     "output_type": "display_data"
    },
    {
     "data": {
      "text/plain": [
       "<matplotlib.legend.Legend at 0x7fe01285d210>"
      ]
     },
     "execution_count": 55,
     "metadata": {},
     "output_type": "execute_result"
    },
    {
     "data": {
      "image/png": "[encoded data removed]",
      "text/plain": [
       "<Figure size 640x480 with 1 Axes>"
      ]
     },
     "metadata": {},
     "output_type": "display_data"
    }
   ],
   "source": [
    "train_score = []\n",
    "test_score = []\n",
    "\n",
    "m_depth = [m for m in range(1,11)]\n",
    "\n",
    "for m in m_depth:\n",
    "    xgb_model = XGBClassifier(max_depth = m,random_state = 2024)\n",
    "    xgb_model.fit(df_train_x, df_train_y)\n",
    "    train_score.append(xgb_model.score(df_train_x,df_train_y))\n",
    "    test_score.append(xgb_model.score(df_test_x,df_test_y))\n",
    "\n",
    "df_score_depth = pd.DataFrame()    \n",
    "df_score_depth['m_depth'] = m_depth\n",
    "df_score_depth['Train score'] = train_score\n",
    "df_score_depth['Test score'] = test_score\n",
    "\n",
    "display(df_score_depth.round(3))\n",
    "\n",
    "plt.plot(m_depth, train_score, linestyle = '-', label = 'Train Score')\n",
    "plt.plot(m_depth, test_score, linestyle = '--', label = 'Test Score')\n",
    "plt.ylabel('score')\n",
    "plt.xlabel('max_depth')\n",
    "plt.legend()"
   ]
  },
  {
   "cell_type": "markdown",
   "id": "f52ccdc0",
   "metadata": {},
   "source": [
    "- max_depth = 3으로 결정"
   ]
  },
  {
   "cell_type": "markdown",
   "id": "9dadffae",
   "metadata": {},
   "source": [
    "#### 학습률 튜닝"
   ]
  },
  {
   "cell_type": "code",
   "execution_count": 56,
   "id": "ae327fba",
   "metadata": {},
   "outputs": [
    {
     "data": {
      "text/html": [
       "<div>\n",
       "<style scoped>\n",
       "    .dataframe tbody tr th:only-of-type {\n",
       "        vertical-align: middle;\n",
       "    }\n",
       "\n",
       "    .dataframe tbody tr th {\n",
       "        vertical-align: top;\n",
       "    }\n",
       "\n",
       "    .dataframe thead th {\n",
       "        text-align: right;\n",
       "    }\n",
       "</style>\n",
       "<table border=\"1\" class=\"dataframe\">\n",
       "  <thead>\n",
       "    <tr style=\"text-align: right;\">\n",
       "      <th></th>\n",
       "      <th>learning_rate</th>\n",
       "      <th>Train score</th>\n",
       "      <th>Test score</th>\n",
       "    </tr>\n",
       "  </thead>\n",
       "  <tbody>\n",
       "    <tr>\n",
       "      <th>0</th>\n",
       "      <td>0.005</td>\n",
       "      <td>0.955</td>\n",
       "      <td>0.958</td>\n",
       "    </tr>\n",
       "    <tr>\n",
       "      <th>1</th>\n",
       "      <td>0.010</td>\n",
       "      <td>0.955</td>\n",
       "      <td>0.958</td>\n",
       "    </tr>\n",
       "    <tr>\n",
       "      <th>2</th>\n",
       "      <td>0.015</td>\n",
       "      <td>0.955</td>\n",
       "      <td>0.958</td>\n",
       "    </tr>\n",
       "    <tr>\n",
       "      <th>3</th>\n",
       "      <td>0.020</td>\n",
       "      <td>0.955</td>\n",
       "      <td>0.958</td>\n",
       "    </tr>\n",
       "    <tr>\n",
       "      <th>4</th>\n",
       "      <td>0.025</td>\n",
       "      <td>0.955</td>\n",
       "      <td>0.958</td>\n",
       "    </tr>\n",
       "    <tr>\n",
       "      <th>5</th>\n",
       "      <td>0.030</td>\n",
       "      <td>0.990</td>\n",
       "      <td>0.979</td>\n",
       "    </tr>\n",
       "    <tr>\n",
       "      <th>6</th>\n",
       "      <td>0.035</td>\n",
       "      <td>0.991</td>\n",
       "      <td>0.979</td>\n",
       "    </tr>\n",
       "    <tr>\n",
       "      <th>7</th>\n",
       "      <td>0.040</td>\n",
       "      <td>0.998</td>\n",
       "      <td>1.000</td>\n",
       "    </tr>\n",
       "    <tr>\n",
       "      <th>8</th>\n",
       "      <td>0.045</td>\n",
       "      <td>0.998</td>\n",
       "      <td>1.000</td>\n",
       "    </tr>\n",
       "    <tr>\n",
       "      <th>9</th>\n",
       "      <td>0.050</td>\n",
       "      <td>0.998</td>\n",
       "      <td>1.000</td>\n",
       "    </tr>\n",
       "    <tr>\n",
       "      <th>10</th>\n",
       "      <td>0.055</td>\n",
       "      <td>0.998</td>\n",
       "      <td>1.000</td>\n",
       "    </tr>\n",
       "    <tr>\n",
       "      <th>11</th>\n",
       "      <td>0.060</td>\n",
       "      <td>0.998</td>\n",
       "      <td>1.000</td>\n",
       "    </tr>\n",
       "    <tr>\n",
       "      <th>12</th>\n",
       "      <td>0.065</td>\n",
       "      <td>0.998</td>\n",
       "      <td>1.000</td>\n",
       "    </tr>\n",
       "    <tr>\n",
       "      <th>13</th>\n",
       "      <td>0.070</td>\n",
       "      <td>0.998</td>\n",
       "      <td>1.000</td>\n",
       "    </tr>\n",
       "    <tr>\n",
       "      <th>14</th>\n",
       "      <td>0.075</td>\n",
       "      <td>0.998</td>\n",
       "      <td>1.000</td>\n",
       "    </tr>\n",
       "    <tr>\n",
       "      <th>15</th>\n",
       "      <td>0.080</td>\n",
       "      <td>0.998</td>\n",
       "      <td>1.000</td>\n",
       "    </tr>\n",
       "    <tr>\n",
       "      <th>16</th>\n",
       "      <td>0.085</td>\n",
       "      <td>0.998</td>\n",
       "      <td>1.000</td>\n",
       "    </tr>\n",
       "    <tr>\n",
       "      <th>17</th>\n",
       "      <td>0.090</td>\n",
       "      <td>1.000</td>\n",
       "      <td>1.000</td>\n",
       "    </tr>\n",
       "    <tr>\n",
       "      <th>18</th>\n",
       "      <td>0.095</td>\n",
       "      <td>1.000</td>\n",
       "      <td>1.000</td>\n",
       "    </tr>\n",
       "    <tr>\n",
       "      <th>19</th>\n",
       "      <td>0.100</td>\n",
       "      <td>1.000</td>\n",
       "      <td>1.000</td>\n",
       "    </tr>\n",
       "  </tbody>\n",
       "</table>\n",
       "</div>"
      ],
      "text/plain": [
       "    learning_rate  Train score  Test score\n",
       "0           0.005        0.955       0.958\n",
       "1           0.010        0.955       0.958\n",
       "2           0.015        0.955       0.958\n",
       "3           0.020        0.955       0.958\n",
       "4           0.025        0.955       0.958\n",
       "5           0.030        0.990       0.979\n",
       "6           0.035        0.991       0.979\n",
       "7           0.040        0.998       1.000\n",
       "8           0.045        0.998       1.000\n",
       "9           0.050        0.998       1.000\n",
       "10          0.055        0.998       1.000\n",
       "11          0.060        0.998       1.000\n",
       "12          0.065        0.998       1.000\n",
       "13          0.070        0.998       1.000\n",
       "14          0.075        0.998       1.000\n",
       "15          0.080        0.998       1.000\n",
       "16          0.085        0.998       1.000\n",
       "17          0.090        1.000       1.000\n",
       "18          0.095        1.000       1.000\n",
       "19          0.100        1.000       1.000"
      ]
     },
     "metadata": {},
     "output_type": "display_data"
    },
    {
     "data": {
      "text/plain": [
       "<matplotlib.legend.Legend at 0x7fe01292a020>"
      ]
     },
     "execution_count": 56,
     "metadata": {},
     "output_type": "execute_result"
    },
    {
     "data": {
      "image/png": "[encoded data removed]",
      "text/plain": [
       "<Figure size 640x480 with 1 Axes>"
      ]
     },
     "metadata": {},
     "output_type": "display_data"
    }
   ],
   "source": [
    "\n",
    "train_score = []\n",
    "test_score = []\n",
    "\n",
    "lrs = [l * 0.005 for l in range(1, 21)]\n",
    "\n",
    "for lr in lrs:\n",
    "    xgb_model = XGBClassifier(max_depth = 3,learning_rate = lr,random_state = 2024)\n",
    "    xgb_model.fit(df_train_x, df_train_y)\n",
    "    train_score.append(xgb_model.score(df_train_x,df_train_y))\n",
    "    test_score.append(xgb_model.score(df_test_x,df_test_y))\n",
    "\n",
    "df_score_lr = pd.DataFrame()    \n",
    "df_score_lr['learning_rate'] = lrs\n",
    "df_score_lr['Train score'] = train_score\n",
    "df_score_lr['Test score'] = test_score\n",
    "\n",
    "display(df_score_lr.round(3))\n",
    "\n",
    "plt.plot(lrs, train_score, linestyle = '-', label = 'Train Score')\n",
    "plt.plot(lrs, test_score, linestyle = '--', label = 'Test Score')\n",
    "plt.ylabel('score')\n",
    "plt.xlabel('learning_rate')\n",
    "plt.legend()"
   ]
  },
  {
   "cell_type": "markdown",
   "id": "17bdd00f",
   "metadata": {},
   "source": [
    "- 학습률 0.03으로 결정"
   ]
  },
  {
   "cell_type": "markdown",
   "id": "37c45242",
   "metadata": {},
   "source": [
    "## XGBoost 최종모델\n",
    "- learning_rate = 0.03\n",
    "- max_depth = 3\n"
   ]
  },
  {
   "cell_type": "code",
   "execution_count": 57,
   "id": "ea2b69c8",
   "metadata": {},
   "outputs": [
    {
     "name": "stdout",
     "output_type": "stream",
     "text": [
      "Score on train : 0.990\n",
      "score on test : 0.979\n"
     ]
    }
   ],
   "source": [
    "xgb_final = XGBClassifier(max_depth = 3,learning_rate = 0.03,random_state = 2024)\n",
    "xgb_final.fit(df_train_x, df_train_y)\n",
    "\n",
    "print('Score on train : {:.3f}'.format(xgb_final.score(df_train_x,df_train_y)))\n",
    "print('score on test : {:.3f}'.format(xgb_final.score(df_test_x,df_test_y)))"
   ]
  },
  {
   "cell_type": "code",
   "execution_count": 58,
   "id": "c311d37c",
   "metadata": {},
   "outputs": [
    {
     "data": {
      "text/plain": [
       "Text(0, 0.5, 'feature')"
      ]
     },
     "execution_count": 58,
     "metadata": {},
     "output_type": "execute_result"
    },
    {
     "data": {
      "image/png": "[encoded data removed]",
      "text/plain": [
       "<Figure size 640x480 with 1 Axes>"
      ]
     },
     "metadata": {},
     "output_type": "display_data"
    }
   ],
   "source": [
    "v_feature_name = df_train_x.columns\n",
    "\n",
    "df_importance = pd.DataFrame()\n",
    "df_importance['Feature'] = v_feature_name\n",
    "df_importance['Importance'] = xgb_final.feature_importances_\n",
    "df_importance = df_importance[:10]\n",
    "df_importance.sort_values('Importance',ascending = True, inplace = True)\n",
    "coordinates = range(len(df_importance))\n",
    "\n",
    "plt.barh(y = coordinates, width = df_importance['Importance'])\n",
    "plt.yticks(coordinates, df_importance['Feature'])\n",
    "plt.xlabel('feature importance')\n",
    "plt.ylabel('feature')"
   ]
  },
  {
   "cell_type": "markdown",
   "id": "dd343854",
   "metadata": {},
   "source": [
    "- xgboost 모델링 결과, 불량 여부에 영향을 미치는 요소는 압연 온도, 가열대 소재 온도, 지시 두께, 압연 횟수이다.\n",
    "- 의사결정나무, 랜덤포레스트의 결과와 동일하게 압연 온도가 가장 중요하다는 결과가 나왔고\n",
    "- 지시 두께, 압연횟수도 중요하다는 결과가 나왔다."
   ]
  },
  {
   "cell_type": "code",
   "execution_count": 59,
   "id": "ee154963",
   "metadata": {},
   "outputs": [
    {
     "name": "stdout",
     "output_type": "stream",
     "text": [
      "0.9411764705882353\n"
     ]
    }
   ],
   "source": [
    "y_test_pred = xgb_final.predict(df_test_x)\n",
    "cf_xgb = confusion_matrix(df_test_y,y_test_pred)\n",
    "\n",
    "tpr = cf_xgb[1][0] /(cf_xgb[1][0] + cf_xgb[1][1])\n",
    "tpr\n",
    "print(1-tpr)"
   ]
  },
  {
   "cell_type": "code",
   "execution_count": 60,
   "id": "163d4217",
   "metadata": {},
   "outputs": [
    {
     "name": "stdout",
     "output_type": "stream",
     "text": [
      "Train 성능\n",
      "혼돈행렬 : \n",
      "[[370   0]\n",
      " [  6 196]]\n",
      "accuracy : 0.9895\n",
      "precision : 1.0000\n",
      "recall : 0.9849\n",
      "f1 : 0.9849\n",
      "AUC : 0.9851\n",
      "None\n",
      "\n",
      "Test 성능\n",
      "혼돈행렬 : \n",
      "[[93  0]\n",
      " [ 3 48]]\n",
      "accuracy : 0.9792\n",
      "precision : 1.0000\n",
      "recall : 0.9697\n",
      "f1 : 0.9697\n",
      "AUC : 0.9706\n",
      "None\n"
     ]
    }
   ],
   "source": [
    "y_train_pred = xgb_final.predict(df_train_x)\n",
    "print('Train 성능')\n",
    "print(eval_class_model(df_train_y,y_train_pred))\n",
    "\n",
    "y_test_pred = xgb_final.predict(df_test_x)\n",
    "print('\\nTest 성능')\n",
    "print(eval_class_model(df_test_y,y_test_pred))"
   ]
  },
  {
   "cell_type": "markdown",
   "id": "639861d4-74ec-422c-bf36-fee21b059b5c",
   "metadata": {},
   "source": [
    "1. test의 accuracy _감소_\n",
    "2. test의 precision _유지_\n",
    "3. test의 reacll _감소_\n",
    "4. test의 F1-score _감소_\n",
    "5. test의 AUC _감소_\n",
    "\n",
    "소폭 감소로 모델 성능에 문제가 없는 것으로 판단된다"
   ]
  },
  {
   "cell_type": "code",
   "execution_count": 61,
   "id": "5ca85bc3",
   "metadata": {},
   "outputs": [],
   "source": [
    "xgb_pred = xgb_final.predict(df_test_x)\n",
    "\n",
    "accuracy.append(accuracy_score(df_test_y,xgb_pred))\n",
    "f1.append(f1_score(df_test_y,xgb_pred))\n",
    "recall.append(recall_score(df_test_y, xgb_pred))\n",
    "precision.append(precision_score(df_test_y,xgb_pred))\n",
    "speci.append(1-tpr)"
   ]
  },
  {
   "cell_type": "markdown",
   "id": "06208b6a",
   "metadata": {},
   "source": [
    "## 4. 로지스틱 회귀"
   ]
  },
  {
   "cell_type": "markdown",
   "id": "53e37247-e4b2-452e-b8a0-47e823d30eee",
   "metadata": {},
   "source": [
    "- 데이터 분리"
   ]
  },
  {
   "cell_type": "code",
   "execution_count": 62,
   "id": "fe3da191-d9d3-4d2c-a6f4-2028de4fac58",
   "metadata": {},
   "outputs": [
    {
     "name": "stdout",
     "output_type": "stream",
     "text": [
      "train data size : (572, 17)\n",
      "test data size : (144, 17)\n"
     ]
    }
   ],
   "source": [
    "df_train, df_test, df_train_y, df_test_y = train_test_split(df_r, df_r[[\"y\"]] ,\n",
    "                                      test_size = 0.2,random_state = 2024)\n",
    "\n",
    "print(f\"train data size : {df_train.shape}\")\n",
    "print(f\"test data size : {df_test.shape}\")"
   ]
  },
  {
   "cell_type": "markdown",
   "id": "7a8ee998-3646-44b6-91b4-a23986838b45",
   "metadata": {},
   "source": [
    "- 모델 생성<br>\n",
    "\n",
    "모델링 후 p-value가 높은 (유의하지 않은) 변수들은 제거"
   ]
  },
  {
   "cell_type": "code",
   "execution_count": 63,
   "id": "2148dea6-044e-48be-ab87-2b31aaf544b9",
   "metadata": {},
   "outputs": [
    {
     "name": "stdout",
     "output_type": "stream",
     "text": [
      "Optimization terminated successfully.\n",
      "         Current function value: 0.370557\n",
      "         Iterations 9\n",
      "                           Logit Regression Results                           \n",
      "==============================================================================\n",
      "Dep. Variable:                      y   No. Observations:                  572\n",
      "Model:                          Logit   Df Residuals:                      556\n",
      "Method:                           MLE   Df Model:                           15\n",
      "Date:                Tue, 12 Mar 2024   Pseudo R-squ.:                  0.4321\n",
      "Time:                        22:01:33   Log-Likelihood:                -211.96\n",
      "converged:                       True   LL-Null:                       -373.22\n",
      "Covariance Type:            nonrobust   LLR p-value:                 1.145e-59\n",
      "===================================================================================\n",
      "                      coef    std err          z      P>|z|      [0.025      0.975]\n",
      "-----------------------------------------------------------------------------------\n",
      "Intercept          -1.1301   1.78e+07  -6.33e-08      1.000    -3.5e+07     3.5e+07\n",
      "pt_thick           -0.2120      0.228     -0.929      0.353      -0.659       0.235\n",
      "pt_width           -0.4627      0.162     -2.858      0.004      -0.780      -0.145\n",
      "pt_length          -0.4607      0.184     -2.500      0.012      -0.822      -0.099\n",
      "fur_heat_temp       0.4391      0.263      1.668      0.095      -0.077       0.955\n",
      "fur_heat_time       0.6207      0.269      2.305      0.021       0.093       1.148\n",
      "fur_soak_temp       0.4766      0.317      1.506      0.132      -0.144       1.097\n",
      "fur_soak_time      -0.0212      0.207     -0.102      0.919      -0.427       0.385\n",
      "fur_total_time     -0.2585      0.293     -0.882      0.378      -0.833       0.316\n",
      "rolling_temp        1.5391      0.262      5.870      0.000       1.025       2.053\n",
      "descaling_count    -0.7161      0.181     -3.964      0.000      -1.070      -0.362\n",
      "프랑스                -1.0398   1.78e+07  -5.83e-08      1.000    -3.5e+07     3.5e+07\n",
      "미국                 -0.0238   1.78e+07  -1.34e-09      1.000    -3.5e+07     3.5e+07\n",
      "영국                  0.0766   1.78e+07   4.29e-09      1.000    -3.5e+07     3.5e+07\n",
      "일본                  0.0238   1.78e+07   1.33e-09      1.000    -3.5e+07     3.5e+07\n",
      "한국                 -0.4049   1.78e+07  -2.27e-08      1.000    -3.5e+07     3.5e+07\n",
      "독일                  0.2380   1.78e+07   1.33e-08      1.000    -3.5e+07     3.5e+07\n",
      "===================================================================================\n"
     ]
    }
   ],
   "source": [
    "fx = \"y ~ + \" + \"+\".join(df_train.columns[1:])\n",
    "fx = \"y ~ pt_thick+pt_width+pt_length+fur_heat_temp+fur_heat_time+fur_soak_temp+fur_soak_time+fur_total_time+rolling_temp+descaling_count+프랑스+미국+영국+일본+한국+독일\"\n",
    "log_model = Logit.from_formula(fx, df_train,random_state = 2024)\n",
    "log_result = log_model.fit()\n",
    "print(log_result.summary())"
   ]
  },
  {
   "cell_type": "markdown",
   "id": "e4039cf2-6dca-4aaa-a75a-117b4811c204",
   "metadata": {},
   "source": [
    "독일 삭제"
   ]
  },
  {
   "cell_type": "code",
   "execution_count": 64,
   "id": "4ed10f3f",
   "metadata": {},
   "outputs": [
    {
     "name": "stdout",
     "output_type": "stream",
     "text": [
      "Optimization terminated successfully.\n",
      "         Current function value: 0.370557\n",
      "         Iterations 8\n",
      "                           Logit Regression Results                           \n",
      "==============================================================================\n",
      "Dep. Variable:                      y   No. Observations:                  572\n",
      "Model:                          Logit   Df Residuals:                      556\n",
      "Method:                           MLE   Df Model:                           15\n",
      "Date:                Tue, 12 Mar 2024   Pseudo R-squ.:                  0.4321\n",
      "Time:                        22:01:33   Log-Likelihood:                -211.96\n",
      "converged:                       True   LL-Null:                       -373.22\n",
      "Covariance Type:            nonrobust   LLR p-value:                 1.145e-59\n",
      "===================================================================================\n",
      "                      coef    std err          z      P>|z|      [0.025      0.975]\n",
      "-----------------------------------------------------------------------------------\n",
      "Intercept          -0.8922      0.364     -2.451      0.014      -1.606      -0.179\n",
      "pt_thick           -0.2120      0.228     -0.929      0.353      -0.659       0.235\n",
      "pt_width           -0.4627      0.162     -2.858      0.004      -0.780      -0.145\n",
      "pt_length          -0.4607      0.184     -2.500      0.012      -0.822      -0.099\n",
      "fur_heat_temp       0.4391      0.263      1.668      0.095      -0.077       0.955\n",
      "fur_heat_time       0.6207      0.269      2.305      0.021       0.093       1.148\n",
      "fur_soak_temp       0.4766      0.317      1.506      0.132      -0.144       1.097\n",
      "fur_soak_time      -0.0212      0.207     -0.102      0.919      -0.427       0.385\n",
      "fur_total_time     -0.2585      0.293     -0.882      0.378      -0.833       0.316\n",
      "rolling_temp        1.5391      0.262      5.870      0.000       1.025       2.053\n",
      "descaling_count    -0.7161      0.181     -3.964      0.000      -1.070      -0.362\n",
      "프랑스                -1.2778      0.769     -1.661      0.097      -2.785       0.230\n",
      "미국                 -0.2618      0.469     -0.558      0.577      -1.182       0.658\n",
      "영국                 -0.1613      0.429     -0.376      0.707      -1.002       0.679\n",
      "일본                 -0.2142      0.442     -0.484      0.628      -1.081       0.653\n",
      "한국                 -0.6429      0.498     -1.292      0.196      -1.618       0.332\n",
      "===================================================================================\n"
     ]
    }
   ],
   "source": [
    "fx = \"y ~ pt_thick+pt_width+pt_length+fur_heat_temp+fur_heat_time+fur_soak_temp+fur_soak_time+fur_total_time+rolling_temp+descaling_count+프랑스+미국+영국+일본+한국\"\n",
    "log_model = Logit.from_formula(fx, df_train)\n",
    "log_result = log_model.fit()\n",
    "print(log_result.summary())"
   ]
  },
  {
   "cell_type": "markdown",
   "id": "b607aafd-54cd-4447-97cc-668cd7bd32da",
   "metadata": {},
   "source": [
    "_fur_soak_time_ 삭제"
   ]
  },
  {
   "cell_type": "code",
   "execution_count": 65,
   "id": "9e564468",
   "metadata": {},
   "outputs": [
    {
     "name": "stdout",
     "output_type": "stream",
     "text": [
      "Optimization terminated successfully.\n",
      "         Current function value: 0.370567\n",
      "         Iterations 7\n",
      "                           Logit Regression Results                           \n",
      "==============================================================================\n",
      "Dep. Variable:                      y   No. Observations:                  572\n",
      "Model:                          Logit   Df Residuals:                      557\n",
      "Method:                           MLE   Df Model:                           14\n",
      "Date:                Tue, 12 Mar 2024   Pseudo R-squ.:                  0.4321\n",
      "Time:                        22:01:33   Log-Likelihood:                -211.96\n",
      "converged:                       True   LL-Null:                       -373.22\n",
      "Covariance Type:            nonrobust   LLR p-value:                 2.347e-60\n",
      "===================================================================================\n",
      "                      coef    std err          z      P>|z|      [0.025      0.975]\n",
      "-----------------------------------------------------------------------------------\n",
      "Intercept          -0.8928      0.364     -2.452      0.014      -1.606      -0.179\n",
      "pt_thick           -0.2117      0.228     -0.928      0.353      -0.659       0.235\n",
      "pt_width           -0.4610      0.161     -2.863      0.004      -0.777      -0.145\n",
      "pt_length          -0.4596      0.184     -2.498      0.012      -0.820      -0.099\n",
      "fur_heat_temp       0.4406      0.263      1.677      0.094      -0.074       0.955\n",
      "fur_heat_time       0.6354      0.227      2.795      0.005       0.190       1.081\n",
      "fur_soak_temp       0.4776      0.316      1.511      0.131      -0.142       1.097\n",
      "fur_total_time     -0.2776      0.227     -1.225      0.221      -0.722       0.167\n",
      "rolling_temp        1.5413      0.261      5.897      0.000       1.029       2.054\n",
      "descaling_count    -0.7163      0.181     -3.966      0.000      -1.070      -0.362\n",
      "프랑스                -1.2721      0.767     -1.658      0.097      -2.776       0.231\n",
      "미국                 -0.2586      0.468     -0.552      0.581      -1.177       0.659\n",
      "영국                 -0.1580      0.428     -0.369      0.712      -0.997       0.681\n",
      "일본                 -0.2125      0.442     -0.481      0.631      -1.079       0.654\n",
      "한국                 -0.6440      0.497     -1.295      0.195      -1.619       0.331\n",
      "===================================================================================\n"
     ]
    }
   ],
   "source": [
    "fx = \"y ~ pt_thick+pt_width+pt_length+fur_heat_temp+fur_heat_time+fur_soak_temp+fur_total_time+rolling_temp+descaling_count+프랑스+미국+영국+일본+한국\"\n",
    "log_model = Logit.from_formula(fx, df_train)\n",
    "log_result = log_model.fit()\n",
    "print(log_result.summary())"
   ]
  },
  {
   "cell_type": "markdown",
   "id": "ec5583b4-9dfa-4957-95b3-3a9e695f98bc",
   "metadata": {},
   "source": [
    "_영국_ 삭제"
   ]
  },
  {
   "cell_type": "code",
   "execution_count": 66,
   "id": "22f86c57",
   "metadata": {},
   "outputs": [
    {
     "name": "stdout",
     "output_type": "stream",
     "text": [
      "Optimization terminated successfully.\n",
      "         Current function value: 0.370686\n",
      "         Iterations 7\n",
      "                           Logit Regression Results                           \n",
      "==============================================================================\n",
      "Dep. Variable:                      y   No. Observations:                  572\n",
      "Model:                          Logit   Df Residuals:                      558\n",
      "Method:                           MLE   Df Model:                           13\n",
      "Date:                Tue, 12 Mar 2024   Pseudo R-squ.:                  0.4319\n",
      "Time:                        22:01:33   Log-Likelihood:                -212.03\n",
      "converged:                       True   LL-Null:                       -373.22\n",
      "Covariance Type:            nonrobust   LLR p-value:                 4.921e-61\n",
      "===================================================================================\n",
      "                      coef    std err          z      P>|z|      [0.025      0.975]\n",
      "-----------------------------------------------------------------------------------\n",
      "Intercept          -1.0043      0.204     -4.921      0.000      -1.404      -0.604\n",
      "pt_thick           -0.2136      0.228     -0.935      0.350      -0.661       0.234\n",
      "pt_width           -0.4715      0.159     -2.972      0.003      -0.782      -0.161\n",
      "pt_length          -0.4588      0.184     -2.495      0.013      -0.819      -0.098\n",
      "fur_heat_temp       0.4378      0.262      1.668      0.095      -0.077       0.952\n",
      "fur_heat_time       0.6361      0.227      2.800      0.005       0.191       1.081\n",
      "fur_soak_temp       0.4813      0.316      1.523      0.128      -0.138       1.101\n",
      "fur_total_time     -0.2746      0.226     -1.213      0.225      -0.719       0.169\n",
      "rolling_temp        1.5364      0.262      5.871      0.000       1.023       2.049\n",
      "descaling_count    -0.7276      0.178     -4.080      0.000      -1.077      -0.378\n",
      "프랑스                -1.1662      0.712     -1.638      0.101      -2.562       0.229\n",
      "미국                 -0.1448      0.353     -0.410      0.682      -0.836       0.547\n",
      "일본                 -0.1064      0.335     -0.317      0.751      -0.763       0.551\n",
      "한국                 -0.5293      0.388     -1.363      0.173      -1.290       0.232\n",
      "===================================================================================\n"
     ]
    }
   ],
   "source": [
    "fx = \"y ~ pt_thick+pt_width+pt_length+fur_heat_temp+fur_heat_time+fur_soak_temp+fur_total_time+rolling_temp+descaling_count+프랑스+미국+일본+한국\"\n",
    "log_model = Logit.from_formula(fx, df_train)\n",
    "log_result = log_model.fit()\n",
    "print(log_result.summary())"
   ]
  },
  {
   "cell_type": "markdown",
   "id": "cd3ad859-bf00-4613-945b-7d87637fe0c0",
   "metadata": {},
   "source": [
    "_일본_ 삭제"
   ]
  },
  {
   "cell_type": "code",
   "execution_count": 67,
   "id": "24897a96",
   "metadata": {},
   "outputs": [
    {
     "name": "stdout",
     "output_type": "stream",
     "text": [
      "Optimization terminated successfully.\n",
      "         Current function value: 0.370774\n",
      "         Iterations 7\n",
      "                           Logit Regression Results                           \n",
      "==============================================================================\n",
      "Dep. Variable:                      y   No. Observations:                  572\n",
      "Model:                          Logit   Df Residuals:                      559\n",
      "Method:                           MLE   Df Model:                           12\n",
      "Date:                Tue, 12 Mar 2024   Pseudo R-squ.:                  0.4318\n",
      "Time:                        22:01:33   Log-Likelihood:                -212.08\n",
      "converged:                       True   LL-Null:                       -373.22\n",
      "Covariance Type:            nonrobust   LLR p-value:                 9.733e-62\n",
      "===================================================================================\n",
      "                      coef    std err          z      P>|z|      [0.025      0.975]\n",
      "-----------------------------------------------------------------------------------\n",
      "Intercept          -1.0380      0.175     -5.938      0.000      -1.381      -0.695\n",
      "pt_thick           -0.2156      0.230     -0.939      0.348      -0.666       0.234\n",
      "pt_width           -0.4644      0.157     -2.956      0.003      -0.772      -0.156\n",
      "pt_length          -0.4542      0.183     -2.478      0.013      -0.813      -0.095\n",
      "fur_heat_temp       0.4469      0.261      1.713      0.087      -0.064       0.958\n",
      "fur_heat_time       0.6276      0.226      2.783      0.005       0.186       1.070\n",
      "fur_soak_temp       0.4758      0.316      1.507      0.132      -0.143       1.094\n",
      "fur_total_time     -0.2729      0.226     -1.205      0.228      -0.717       0.171\n",
      "rolling_temp        1.5300      0.261      5.853      0.000       1.018       2.042\n",
      "descaling_count    -0.7308      0.178     -4.097      0.000      -1.080      -0.381\n",
      "프랑스                -1.1311      0.703     -1.609      0.108      -2.509       0.247\n",
      "미국                 -0.1128      0.338     -0.334      0.739      -0.775       0.549\n",
      "한국                 -0.4922      0.370     -1.331      0.183      -1.217       0.233\n",
      "===================================================================================\n"
     ]
    }
   ],
   "source": [
    "fx = \"y ~ pt_thick+pt_width+pt_length+fur_heat_temp+fur_heat_time+fur_soak_temp+fur_total_time+rolling_temp+descaling_count+프랑스+미국+한국\"\n",
    "log_model = Logit.from_formula(fx, df_train)\n",
    "log_result = log_model.fit()\n",
    "print(log_result.summary())"
   ]
  },
  {
   "cell_type": "markdown",
   "id": "b61217c6-a9ba-4180-8650-19898c324055",
   "metadata": {},
   "source": [
    "_미국_ 삭제"
   ]
  },
  {
   "cell_type": "code",
   "execution_count": 68,
   "id": "19770361",
   "metadata": {},
   "outputs": [
    {
     "name": "stdout",
     "output_type": "stream",
     "text": [
      "Optimization terminated successfully.\n",
      "         Current function value: 0.370872\n",
      "         Iterations 7\n",
      "                           Logit Regression Results                           \n",
      "==============================================================================\n",
      "Dep. Variable:                      y   No. Observations:                  572\n",
      "Model:                          Logit   Df Residuals:                      560\n",
      "Method:                           MLE   Df Model:                           11\n",
      "Date:                Tue, 12 Mar 2024   Pseudo R-squ.:                  0.4316\n",
      "Time:                        22:01:33   Log-Likelihood:                -212.14\n",
      "converged:                       True   LL-Null:                       -373.22\n",
      "Covariance Type:            nonrobust   LLR p-value:                 1.850e-62\n",
      "===================================================================================\n",
      "                      coef    std err          z      P>|z|      [0.025      0.975]\n",
      "-----------------------------------------------------------------------------------\n",
      "Intercept          -1.0613      0.161     -6.600      0.000      -1.376      -0.746\n",
      "pt_thick           -0.2094      0.230     -0.910      0.363      -0.660       0.242\n",
      "pt_width           -0.4646      0.157     -2.953      0.003      -0.773      -0.156\n",
      "pt_length          -0.4489      0.183     -2.459      0.014      -0.807      -0.091\n",
      "fur_heat_temp       0.4369      0.259      1.685      0.092      -0.071       0.945\n",
      "fur_heat_time       0.6321      0.225      2.812      0.005       0.192       1.073\n",
      "fur_soak_temp       0.4849      0.315      1.541      0.123      -0.132       1.101\n",
      "fur_total_time     -0.2731      0.226     -1.207      0.228      -0.717       0.171\n",
      "rolling_temp        1.5316      0.262      5.855      0.000       1.019       2.044\n",
      "descaling_count    -0.7303      0.178     -4.093      0.000      -1.080      -0.381\n",
      "프랑스                -1.1071      0.699     -1.583      0.113      -2.478       0.264\n",
      "한국                 -0.4689      0.363     -1.290      0.197      -1.181       0.243\n",
      "===================================================================================\n"
     ]
    }
   ],
   "source": [
    "fx = \"y ~ pt_thick+pt_width+pt_length+fur_heat_temp+fur_heat_time+fur_soak_temp+fur_total_time+rolling_temp+descaling_count+프랑스+한국\"\n",
    "log_model = Logit.from_formula(fx, df_train)\n",
    "log_result = log_model.fit()\n",
    "print(log_result.summary())"
   ]
  },
  {
   "cell_type": "markdown",
   "id": "44dfb3c7-7165-4036-a08d-2645998d5104",
   "metadata": {},
   "source": [
    "_fur_total_time_ 삭제"
   ]
  },
  {
   "cell_type": "code",
   "execution_count": 69,
   "id": "258d37a6",
   "metadata": {},
   "outputs": [
    {
     "name": "stdout",
     "output_type": "stream",
     "text": [
      "Optimization terminated successfully.\n",
      "         Current function value: 0.372155\n",
      "         Iterations 7\n",
      "                           Logit Regression Results                           \n",
      "==============================================================================\n",
      "Dep. Variable:                      y   No. Observations:                  572\n",
      "Model:                          Logit   Df Residuals:                      561\n",
      "Method:                           MLE   Df Model:                           10\n",
      "Date:                Tue, 12 Mar 2024   Pseudo R-squ.:                  0.4296\n",
      "Time:                        22:01:34   Log-Likelihood:                -212.87\n",
      "converged:                       True   LL-Null:                       -373.22\n",
      "Covariance Type:            nonrobust   LLR p-value:                 6.483e-63\n",
      "===================================================================================\n",
      "                      coef    std err          z      P>|z|      [0.025      0.975]\n",
      "-----------------------------------------------------------------------------------\n",
      "Intercept          -1.0379      0.157     -6.594      0.000      -1.346      -0.729\n",
      "pt_thick           -0.2119      0.222     -0.953      0.340      -0.648       0.224\n",
      "pt_width           -0.4558      0.157     -2.908      0.004      -0.763      -0.149\n",
      "pt_length          -0.4653      0.182     -2.560      0.010      -0.821      -0.109\n",
      "fur_heat_temp       0.4477      0.256      1.749      0.080      -0.054       0.950\n",
      "fur_heat_time       0.4388      0.155      2.829      0.005       0.135       0.743\n",
      "fur_soak_temp       0.4943      0.308      1.603      0.109      -0.110       1.099\n",
      "rolling_temp        1.5204      0.260      5.845      0.000       1.011       2.030\n",
      "descaling_count    -0.7167      0.177     -4.060      0.000      -1.063      -0.371\n",
      "프랑스                -1.1520      0.699     -1.649      0.099      -2.521       0.217\n",
      "한국                 -0.4628      0.363     -1.276      0.202      -1.174       0.248\n",
      "===================================================================================\n"
     ]
    }
   ],
   "source": [
    "fx = \"y ~ pt_thick+pt_width+pt_length+fur_heat_temp+fur_heat_time+fur_soak_temp+rolling_temp+descaling_count+프랑스+한국\"\n",
    "log_model = Logit.from_formula(fx, df_train)\n",
    "log_result = log_model.fit()\n",
    "print(log_result.summary())"
   ]
  },
  {
   "cell_type": "markdown",
   "id": "27583133-e625-49d2-b0c2-638e3479a0e5",
   "metadata": {},
   "source": [
    "_pt_thick_ 삭제"
   ]
  },
  {
   "cell_type": "code",
   "execution_count": 70,
   "id": "f8b08421",
   "metadata": {},
   "outputs": [
    {
     "name": "stdout",
     "output_type": "stream",
     "text": [
      "Optimization terminated successfully.\n",
      "         Current function value: 0.372784\n",
      "         Iterations 7\n",
      "                           Logit Regression Results                           \n",
      "==============================================================================\n",
      "Dep. Variable:                      y   No. Observations:                  572\n",
      "Model:                          Logit   Df Residuals:                      562\n",
      "Method:                           MLE   Df Model:                            9\n",
      "Date:                Tue, 12 Mar 2024   Pseudo R-squ.:                  0.4287\n",
      "Time:                        22:01:34   Log-Likelihood:                -213.23\n",
      "converged:                       True   LL-Null:                       -373.22\n",
      "Covariance Type:            nonrobust   LLR p-value:                 1.498e-63\n",
      "===================================================================================\n",
      "                      coef    std err          z      P>|z|      [0.025      0.975]\n",
      "-----------------------------------------------------------------------------------\n",
      "Intercept          -1.0266      0.157     -6.531      0.000      -1.335      -0.718\n",
      "pt_width           -0.4416      0.154     -2.859      0.004      -0.744      -0.139\n",
      "pt_length          -0.4090      0.170     -2.413      0.016      -0.741      -0.077\n",
      "fur_heat_temp       0.4375      0.256      1.711      0.087      -0.064       0.939\n",
      "fur_heat_time       0.4357      0.155      2.813      0.005       0.132       0.739\n",
      "fur_soak_temp       0.5126      0.308      1.663      0.096      -0.091       1.116\n",
      "rolling_temp        1.4709      0.253      5.822      0.000       0.976       1.966\n",
      "descaling_count    -0.6527      0.161     -4.057      0.000      -0.968      -0.337\n",
      "프랑스                -1.1107      0.694     -1.601      0.109      -2.470       0.249\n",
      "한국                 -0.4443      0.361     -1.230      0.219      -1.152       0.264\n",
      "===================================================================================\n"
     ]
    }
   ],
   "source": [
    "fx = \"y ~ pt_width+pt_length+fur_heat_temp+fur_heat_time+fur_soak_temp+rolling_temp+descaling_count+프랑스+한국\"\n",
    "log_model = Logit.from_formula(fx, df_train)\n",
    "log_result = log_model.fit()\n",
    "print(log_result.summary())"
   ]
  },
  {
   "cell_type": "markdown",
   "id": "bd272c26",
   "metadata": {},
   "source": [
    "_한국_ 삭제"
   ]
  },
  {
   "cell_type": "code",
   "execution_count": 71,
   "id": "2690571f",
   "metadata": {},
   "outputs": [
    {
     "name": "stdout",
     "output_type": "stream",
     "text": [
      "Optimization terminated successfully.\n",
      "         Current function value: 0.374132\n",
      "         Iterations 7\n",
      "                           Logit Regression Results                           \n",
      "==============================================================================\n",
      "Dep. Variable:                      y   No. Observations:                  572\n",
      "Model:                          Logit   Df Residuals:                      563\n",
      "Method:                           MLE   Df Model:                            8\n",
      "Date:                Tue, 12 Mar 2024   Pseudo R-squ.:                  0.4266\n",
      "Time:                        22:01:34   Log-Likelihood:                -214.00\n",
      "converged:                       True   LL-Null:                       -373.22\n",
      "Covariance Type:            nonrobust   LLR p-value:                 4.875e-64\n",
      "===================================================================================\n",
      "                      coef    std err          z      P>|z|      [0.025      0.975]\n",
      "-----------------------------------------------------------------------------------\n",
      "Intercept          -1.0842      0.151     -7.187      0.000      -1.380      -0.789\n",
      "pt_width           -0.4610      0.153     -3.005      0.003      -0.762      -0.160\n",
      "pt_length          -0.4115      0.169     -2.440      0.015      -0.742      -0.081\n",
      "fur_heat_temp       0.4425      0.255      1.732      0.083      -0.058       0.943\n",
      "fur_heat_time       0.4391      0.155      2.829      0.005       0.135       0.743\n",
      "fur_soak_temp       0.5194      0.307      1.692      0.091      -0.082       1.121\n",
      "rolling_temp        1.4299      0.249      5.737      0.000       0.941       1.918\n",
      "descaling_count    -0.6770      0.160     -4.241      0.000      -0.990      -0.364\n",
      "프랑스                -1.0529      0.693     -1.519      0.129      -2.412       0.306\n",
      "===================================================================================\n"
     ]
    }
   ],
   "source": [
    "fx = \"y ~ pt_width+pt_length+fur_heat_temp+fur_heat_time+fur_soak_temp+rolling_temp+descaling_count+프랑스\"\n",
    "log_model = Logit.from_formula(fx, df_train)\n",
    "log_result = log_model.fit()\n",
    "print(log_result.summary())"
   ]
  },
  {
   "cell_type": "markdown",
   "id": "03b5ee2f",
   "metadata": {},
   "source": [
    "_프랑스_삭제"
   ]
  },
  {
   "cell_type": "code",
   "execution_count": 72,
   "id": "ab540be0",
   "metadata": {},
   "outputs": [
    {
     "name": "stdout",
     "output_type": "stream",
     "text": [
      "Optimization terminated successfully.\n",
      "         Current function value: 0.376467\n",
      "         Iterations 7\n",
      "                           Logit Regression Results                           \n",
      "==============================================================================\n",
      "Dep. Variable:                      y   No. Observations:                  572\n",
      "Model:                          Logit   Df Residuals:                      564\n",
      "Method:                           MLE   Df Model:                            7\n",
      "Date:                Tue, 12 Mar 2024   Pseudo R-squ.:                  0.4230\n",
      "Time:                        22:01:34   Log-Likelihood:                -215.34\n",
      "converged:                       True   LL-Null:                       -373.22\n",
      "Covariance Type:            nonrobust   LLR p-value:                 2.589e-64\n",
      "===================================================================================\n",
      "                      coef    std err          z      P>|z|      [0.025      0.975]\n",
      "-----------------------------------------------------------------------------------\n",
      "Intercept          -1.1354      0.149     -7.626      0.000      -1.427      -0.844\n",
      "pt_width           -0.4554      0.153     -2.973      0.003      -0.756      -0.155\n",
      "pt_length          -0.4362      0.168     -2.595      0.009      -0.766      -0.107\n",
      "fur_heat_temp       0.4275      0.256      1.668      0.095      -0.075       0.930\n",
      "fur_heat_time       0.4509      0.154      2.920      0.003       0.148       0.754\n",
      "fur_soak_temp       0.5496      0.308      1.783      0.075      -0.055       1.154\n",
      "rolling_temp        1.4344      0.250      5.745      0.000       0.945       1.924\n",
      "descaling_count    -0.6731      0.159     -4.230      0.000      -0.985      -0.361\n",
      "===================================================================================\n"
     ]
    }
   ],
   "source": [
    "fx = \"y ~ pt_width+pt_length+fur_heat_temp+fur_heat_time+fur_soak_temp+rolling_temp+descaling_count\"\n",
    "log_model = Logit.from_formula(fx, df_train)\n",
    "log_result = log_model.fit()\n",
    "print(log_result.summary())"
   ]
  },
  {
   "cell_type": "markdown",
   "id": "1134d4e2",
   "metadata": {},
   "source": [
    "_fur_heat_temp_ 제거"
   ]
  },
  {
   "cell_type": "code",
   "execution_count": 73,
   "id": "a8b40bda",
   "metadata": {},
   "outputs": [
    {
     "name": "stdout",
     "output_type": "stream",
     "text": [
      "Optimization terminated successfully.\n",
      "         Current function value: 0.378930\n",
      "         Iterations 7\n",
      "                           Logit Regression Results                           \n",
      "==============================================================================\n",
      "Dep. Variable:                      y   No. Observations:                  572\n",
      "Model:                          Logit   Df Residuals:                      565\n",
      "Method:                           MLE   Df Model:                            6\n",
      "Date:                Tue, 12 Mar 2024   Pseudo R-squ.:                  0.4193\n",
      "Time:                        22:01:34   Log-Likelihood:                -216.75\n",
      "converged:                       True   LL-Null:                       -373.22\n",
      "Covariance Type:            nonrobust   LLR p-value:                 1.372e-64\n",
      "===================================================================================\n",
      "                      coef    std err          z      P>|z|      [0.025      0.975]\n",
      "-----------------------------------------------------------------------------------\n",
      "Intercept          -1.1728      0.150     -7.800      0.000      -1.468      -0.878\n",
      "pt_width           -0.4672      0.152     -3.072      0.002      -0.765      -0.169\n",
      "pt_length          -0.3853      0.164     -2.346      0.019      -0.707      -0.063\n",
      "fur_heat_time       0.4541      0.156      2.911      0.004       0.148       0.760\n",
      "fur_soak_temp       0.9851      0.174      5.649      0.000       0.643       1.327\n",
      "rolling_temp        1.4311      0.251      5.711      0.000       0.940       1.922\n",
      "descaling_count    -0.6301      0.155     -4.060      0.000      -0.934      -0.326\n",
      "===================================================================================\n"
     ]
    }
   ],
   "source": [
    "fx = \"y ~ pt_width+pt_length+fur_heat_time+fur_soak_temp+rolling_temp+descaling_count\"\n",
    "log_model = Logit.from_formula(fx, df_train)\n",
    "log_result = log_model.fit()\n",
    "print(log_result.summary())"
   ]
  },
  {
   "cell_type": "markdown",
   "id": "45848d23-6e93-408a-aacb-c70033ff1fa4",
   "metadata": {},
   "source": [
    "#### 최종모델"
   ]
  },
  {
   "cell_type": "code",
   "execution_count": 74,
   "id": "36b99f35",
   "metadata": {},
   "outputs": [
    {
     "name": "stdout",
     "output_type": "stream",
     "text": [
      "Optimization terminated successfully.\n",
      "         Current function value: 0.328851\n",
      "         Iterations 8\n",
      "                           Logit Regression Results                           \n",
      "==============================================================================\n",
      "Dep. Variable:                      y   No. Observations:                  144\n",
      "Model:                          Logit   Df Residuals:                      137\n",
      "Method:                           MLE   Df Model:                            6\n",
      "Date:                Tue, 12 Mar 2024   Pseudo R-squ.:                  0.4834\n",
      "Time:                        22:01:34   Log-Likelihood:                -47.355\n",
      "converged:                       True   LL-Null:                       -91.658\n",
      "Covariance Type:            nonrobust   LLR p-value:                 5.898e-17\n",
      "===================================================================================\n",
      "                      coef    std err          z      P>|z|      [0.025      0.975]\n",
      "-----------------------------------------------------------------------------------\n",
      "Intercept          -1.8137      0.405     -4.482      0.000      -2.607      -1.021\n",
      "pt_width           -0.7694      0.365     -2.106      0.035      -1.485      -0.053\n",
      "pt_length          -0.4302      0.366     -1.176      0.240      -1.147       0.287\n",
      "fur_heat_time       0.5227      0.319      1.637      0.102      -0.103       1.148\n",
      "fur_soak_temp       1.5911      0.480      3.312      0.001       0.649       2.533\n",
      "rolling_temp        1.3481      0.576      2.342      0.019       0.220       2.476\n",
      "descaling_count    -0.6708      0.319     -2.106      0.035      -1.295      -0.046\n",
      "===================================================================================\n"
     ]
    }
   ],
   "source": [
    "fx = \"y ~ pt_width+pt_length+fur_heat_time+fur_soak_temp+rolling_temp+descaling_count\"\n",
    "log_model = Logit.from_formula(fx, df_test)\n",
    "log_result = log_model.fit()\n",
    "print(log_result.summary())"
   ]
  },
  {
   "cell_type": "markdown",
   "id": "c27aed59",
   "metadata": {},
   "source": [
    "### 최종 회귀식<br>\n",
    "#### log(p/(1-p)) = -1.8137 -0.7694 * pt_width -0.4302 * pt_length + 0.5227 * fur_heat_time + 1.5911 * fur_soak_temp + 1.3481 * rolling_temp -0.6708 * descaling_countount\n"
   ]
  },
  {
   "cell_type": "code",
   "execution_count": 75,
   "id": "52533b68",
   "metadata": {},
   "outputs": [],
   "source": [
    "# 실제 불량을 불량으로 잘 예측할 확률\n",
    "lr_pred = log_result.predict(df_test)\n",
    "y_pred_class = (lr_pred > 0.5).astype(int)\n",
    "\n",
    "cf_lr = confusion_matrix(df_test['y'],y_pred_class)\n",
    "tpr = cf_lr[1][0] /(cf_lr[1][0] + cf_lr[1][1])\n",
    "1-tpr\n",
    "\n",
    "accuracy.append(accuracy_score(df_test['y'],y_pred_class))\n",
    "f1.append(f1_score(df_test['y'],y_pred_class))\n",
    "recall.append(recall_score(df_test['y'],y_pred_class))\n",
    "precision.append(precision_score(df_test['y'],y_pred_class))\n",
    "speci.append(1-tpr)\n"
   ]
  },
  {
   "cell_type": "code",
   "execution_count": 76,
   "id": "a54de7f4",
   "metadata": {
    "scrolled": true
   },
   "outputs": [
    {
     "name": "stdout",
     "output_type": "stream",
     "text": [
      "혼돈행렬 : \n",
      "[[86 10]\n",
      " [11 37]]\n",
      "accuracy : 0.8542\n",
      "precision : 0.7872\n",
      "recall : 0.7789\n",
      "f1 : 0.7789\n",
      "AUC : 0.8333\n"
     ]
    }
   ],
   "source": [
    "# 테스트 종합 성능 프린트\n",
    "eval_class_model(df_test['y'],y_pred_class)"
   ]
  },
  {
   "cell_type": "code",
   "execution_count": 77,
   "id": "4e67f8b6",
   "metadata": {},
   "outputs": [
    {
     "data": {
      "image/png": "[encoded data removed]",
      "text/plain": [
       "<Figure size 2000x2000 with 4 Axes>"
      ]
     },
     "metadata": {},
     "output_type": "display_data"
    }
   ],
   "source": [
    "models = ['DecisionTree','RandomForest','XGBOOST','LogisticRegression']\n",
    "\n",
    "fig,ax = plt.subplots(nrows = 2, ncols =2 , figsize = (20,20))\n",
    "ax[0,0].bar(models, accuracy)\n",
    "ax[0,0].set_title('ACCURACY').set_fontsize(15)\n",
    "\n",
    "ax[0,1].bar(models,f1)\n",
    "ax[0,1].set_title('F1_score').set_fontsize(15)\n",
    "\n",
    "ax[1,0].bar(models,recall)\n",
    "ax[1,0].set_title('RECALL').set_fontsize(15)\n",
    "\n",
    "ax[1,1].bar(models,precision)\n",
    "ax[1,1].set_title('PRECISION').set_fontsize(15)"
   ]
  },
  {
   "cell_type": "markdown",
   "id": "b52430d1",
   "metadata": {},
   "source": [
    "- 정확도 : xgboost가 가장 우수\n",
    "- f1스코어 : xgboost가 가장 우수\n",
    "- 재현율 : 의사결정나무가 가장 우수\n",
    "- 정밀도 : 랜덤포레스트와 xgboost가 우수"
   ]
  },
  {
   "cell_type": "code",
   "execution_count": 78,
   "id": "329f18a0",
   "metadata": {},
   "outputs": [
    {
     "data": {
      "text/plain": [
       "Text(0.5, 1.0, 'SPECIFICITY')"
      ]
     },
     "execution_count": 78,
     "metadata": {},
     "output_type": "execute_result"
    },
    {
     "data": {
      "image/png": "[encoded data removed]",
      "text/plain": [
       "<Figure size 640x480 with 1 Axes>"
      ]
     },
     "metadata": {},
     "output_type": "display_data"
    }
   ],
   "source": [
    "# 특이도\n",
    "\n",
    "plt.bar(models,speci)\n",
    "plt.title('SPECIFICITY',fontsize = 15)"
   ]
  },
  {
   "cell_type": "markdown",
   "id": "4200542f",
   "metadata": {},
   "source": [
    "### 결론"
   ]
  },
  {
   "cell_type": "markdown",
   "id": "ae9a4f28",
   "metadata": {},
   "source": [
    "- xgboost와 의사결정나무가 실제 불량인 제품을 불량으로 잘 예측한다.\n",
    "- 기업 입장에서 불량인 제품을 양품으로 판단해 출고하는 것은 여러모로 손실이 크기 때문에\n",
    "- 특이도가 뛰어난 의사결정나무와 xgboost를 후판공정 스케일 불량을 예측하고 분석하는 모델로 활용한다."
   ]
  },
  {
   "cell_type": "code",
   "execution_count": null,
   "id": "373fac41",
   "metadata": {},
   "outputs": [],
   "source": []
  }
 ],
 "metadata": {
  "kernelspec": {
   "display_name": "Python 3 (ipykernel)",
   "language": "python",
   "name": "python3"
  },
  "language_info": {
   "codemirror_mode": {
    "name": "ipython",
    "version": 3
   },
   "file_extension": ".py",
   "mimetype": "text/x-python",
   "name": "python",
   "nbconvert_exporter": "python",
   "pygments_lexer": "ipython3",
   "version": "3.10.9"
  }
 },
 "nbformat": 4,
 "nbformat_minor": 5
}

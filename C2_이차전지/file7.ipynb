{
 "cells": [
  {
   "cell_type": "code",
   "execution_count": 1,
   "metadata": {
    "id": "Jk4Q0IxAeBPe"
   },
   "outputs": [
    {
     "name": "stdout",
     "output_type": "stream",
     "text": [
      "rta2_tat 이상치 제거 전 :  1797\n",
      "rta2_tat 이상치 제거 후 :  1736 \n",
      "\n",
      "ocv1_tat 이상치 제거 전 :  1736\n",
      "ocv1_tat 이상치 제거 후 :  1735 \n",
      "\n",
      "c1_tat 이상치 제거 전 :  1735\n",
      "c1_tat 이상치 제거 후 :  1688 \n",
      "\n",
      "c2_tat 이상치 제거 전 :  1688\n",
      "c2_tat 이상치 제거 후 :  1687 \n",
      "\n",
      "dc2_tat 이상치 제거 전 :  1687\n",
      "dc2_tat 이상치 제거 후 :  1686 \n",
      "\n",
      "c3_tat 이상치 제거 전 :  1686\n",
      "c3_tat 이상치 제거 후 :  1686 \n",
      "\n",
      "dc3_tat 이상치 제거 전 :  1686\n",
      "dc3_tat 이상치 제거 후 :  1686 \n",
      "\n",
      "c4_tat 이상치 제거 전 :  1686\n",
      "c4_tat 이상치 제거 후 :  1686 \n",
      "\n",
      "pg1_tat 이상치 제거 전 :  1686\n",
      "pg1_tat 이상치 제거 후 :  1685 \n",
      "\n",
      "sa1_tat 이상치 제거 전 :  1685\n",
      "sa1_tat 이상치 제거 후 :  1685 \n",
      "\n",
      "sa2_tat 이상치 제거 전 :  1685\n",
      "sa2_tat 이상치 제거 후 :  1678 \n",
      "\n",
      "sa3_tat 이상치 제거 전 :  1678\n",
      "sa3_tat 이상치 제거 후 :  1676 \n",
      "\n"
     ]
    }
   ],
   "source": [
    "import pandas as pd\n",
    "import numpy as np\n",
    "import matplotlib.pyplot as plt\n",
    "import matplotlib\n",
    "import seaborn as sns\n",
    "import datetime\n",
    "\n",
    "from sklearn.model_selection import train_test_split\n",
    "from sklearn.metrics import accuracy_score, f1_score, precision_score, recall_score, roc_auc_score,confusion_matrix\n",
    "from sklearn.tree import export_graphviz\n",
    "import graphviz\n",
    "from sklearn.preprocessing import OneHotEncoder, StandardScaler\n",
    "from sklearn.ensemble import RandomForestClassifier\n",
    "from xgboost import XGBClassifier\n",
    "from scipy.stats import shapiro\n",
    "import scipy.stats as stats\n",
    "from sklearn.tree import DecisionTreeRegressor\n",
    "\n",
    "from statsmodels.api import Logit\n",
    "from sklearn.metrics import accuracy_score, f1_score\n",
    "from sklearn.metrics import confusion_matrix, classification_report\n",
    "from sklearn.linear_model import LogisticRegression\n",
    "from sklearn.metrics import accuracy_score, classification_report\n",
    "from scipy.stats import chi2_contingency\n",
    "\n",
    "import warnings\n",
    "warnings.filterwarnings(\"ignore\")\n",
    "\n",
    "# path = \"C:/Users/cokr3/OneDrive/바탕 화면/이차전지 프로젝트/\"\n",
    "\n",
    "def eval_class_model(y_test, y_pred):\n",
    "    confusion = confusion_matrix(y_test,y_pred)\n",
    "    accuracy = accuracy_score(y_test, y_pred)\n",
    "    precision = precision_score(y_test,y_pred)\n",
    "    recall = f1_score(y_test, y_pred)\n",
    "    f1 = f1_score(y_test,y_pred)\n",
    "    AUC = roc_auc_score(y_test,y_pred)\n",
    "    print('혼돈행렬 : \\n{}'.format(confusion))\n",
    "    print('accuracy : {:.4f}'.format(accuracy))\n",
    "    print('precision : {:.4f}'.format(precision))\n",
    "    print('recall : {:.4f}'.format(recall))\n",
    "    print('f1 : {:.4f}'.format(f1))\n",
    "    print('AUC : {:.4f}'.format(AUC))\n",
    "\n",
    "#%% RAW data\n",
    "df_raw_tat = pd.read_csv(\"bat_tat.csv\")\n",
    "df_raw_process = pd.read_csv(\"bat_process.csv\", encoding = 'cp949')\n",
    "\n",
    "#%% 데이터 전처리 ----------------\n",
    "#%% Drop_duplicated\n",
    "\n",
    "\"\"\"\n",
    "lot_id, tray_id의 중복 값이 존재하나, cell_id 단위로 보았을 때 데이터가 달랐던 점을 생각하여,\n",
    "해당 부분에 대해선 중복제거를 진행하지 않는다\n",
    "\"\"\"\n",
    "\n",
    "#%% DropNa\n",
    "\"\"\"\n",
    "tat : 결측치 없음\n",
    "process : 결측치 존재 -> 행삭제\n",
    "\"\"\"\n",
    "\n",
    "df_process_na = df_raw_process[df_raw_process.isna().any(axis=1)]\n",
    "df_process = df_raw_process.drop(df_process_na[ df_process_na[\"judge\"] == \"양품\"].index, axis = 0).reset_index(drop = True)\n",
    "\n",
    "#%% 이상치 제거\n",
    "\n",
    "df_tat = df_raw_tat.copy()\n",
    "\n",
    "#1. rta2_tat\n",
    "print(\"rta2_tat 이상치 제거 전 : \", df_tat.shape[0])\n",
    "df_tat= df_tat[ df_tat[\"rta2_tat\"] >= 6000 ].reset_index(drop = True)\n",
    "print(\"rta2_tat 이상치 제거 후 : \", df_tat.shape[0], '\\n')\n",
    "\n",
    "#2. ocv1_tat\n",
    "print(\"ocv1_tat 이상치 제거 전 : \", df_tat.shape[0])\n",
    "df_tat = df_tat[ df_tat[\"ocv1_tat\"] <= 140 ].reset_index(drop = True)\n",
    "print(\"ocv1_tat 이상치 제거 후 : \", df_tat.shape[0], '\\n')\n",
    "\n",
    "#3. c1_tat\n",
    "print(\"c1_tat 이상치 제거 전 : \", df_tat.shape[0])\n",
    "df_tat = df_tat[ df_tat[\"c1_tat\"] <= 6000 ].reset_index(drop = True)\n",
    "print(\"c1_tat 이상치 제거 후 : \", df_tat.shape[0], '\\n')\n",
    "\n",
    "#4. c2_tat\n",
    "print(\"c2_tat 이상치 제거 전 : \", df_tat.shape[0])\n",
    "df_tat = df_tat[ df_tat[\"c2_tat\"] <= 1000 ].reset_index(drop = True)\n",
    "print(\"c2_tat 이상치 제거 후 : \", df_tat.shape[0], '\\n')\n",
    "\n",
    "#5. dc2_tat\n",
    "print(\"dc2_tat 이상치 제거 전 : \", df_tat.shape[0])\n",
    "df_tat = df_tat[ df_tat[\"dc2_tat\"] <= 460 ].reset_index(drop = True)\n",
    "print(\"dc2_tat 이상치 제거 후 : \", df_tat.shape[0], '\\n')\n",
    "\n",
    "#6. c3_tat\n",
    "print(\"c3_tat 이상치 제거 전 : \", df_tat.shape[0])\n",
    "df_tat = df_tat[ df_tat[\"c3_tat\"] <= 10000 ].reset_index(drop = True)\n",
    "print(\"c3_tat 이상치 제거 후 : \", df_tat.shape[0], '\\n')\n",
    "\n",
    "#7. dc3_tat\n",
    "print(\"dc3_tat 이상치 제거 전 : \", df_tat.shape[0])\n",
    "df_tat = df_tat[ df_tat[\"dc3_tat\"] <= 7000 ].reset_index(drop = True)\n",
    "print(\"dc3_tat 이상치 제거 후 : \", df_tat.shape[0], '\\n')\n",
    "\n",
    "#8. c4_tat\n",
    "print(\"c4_tat 이상치 제거 전 : \", df_tat.shape[0])\n",
    "df_tat = df_tat[ df_tat[\"c4_tat\"] <= 14000 ].reset_index(drop = True)\n",
    "print(\"c4_tat 이상치 제거 후 : \", df_tat.shape[0], '\\n')\n",
    "\n",
    "#9. pg1_tat\n",
    "print(\"pg1_tat 이상치 제거 전 : \", df_tat.shape[0])\n",
    "df_tat = df_tat[ df_tat[\"pg1_tat\"] <= 800 ].reset_index(drop = True)\n",
    "df_tat = df_tat[ df_tat[\"pg1_tat\"] >= 200 ].reset_index(drop = True)\n",
    "print(\"pg1_tat 이상치 제거 후 : \", df_tat.shape[0], '\\n')\n",
    "\n",
    "#10. sa1_tat\n",
    "print(\"sa1_tat 이상치 제거 전 : \", df_tat.shape[0])\n",
    "df_tat = df_tat[ df_tat[\"sa1_tat\"] >= 2000 ].reset_index(drop = True)\n",
    "print(\"sa1_tat 이상치 제거 후 : \", df_tat.shape[0], '\\n')\n",
    "\n",
    "#11. sa2_tat\n",
    "print(\"sa2_tat 이상치 제거 전 : \", df_tat.shape[0])\n",
    "df_tat = df_tat[ df_tat[\"sa2_tat\"] >= 250000 ].reset_index(drop = True)\n",
    "print(\"sa2_tat 이상치 제거 후 : \", df_tat.shape[0], '\\n')\n",
    "\n",
    "#12. sa3_tat\n",
    "print(\"sa3_tat 이상치 제거 전 : \", df_tat.shape[0])\n",
    "df_tat = df_tat[ df_tat[\"sa3_tat\"] >= 190000 ].reset_index(drop = True)\n",
    "print(\"sa3_tat 이상치 제거 후 : \", df_tat.shape[0], '\\n')\n",
    "\n",
    "\n",
    "\"\"\"\n",
    "01. rta2_tat 이상치 제거 : 61개\n",
    "02. ocv1_tat 이상치 제거 : 1개\n",
    "03. c1_tat 이상치 제거 : 47개\n",
    "04. c2_tat 이상치 제거 : 1개\n",
    "05. dc2_tat 이상치 제거 : 1개\n",
    "06. c3_tat 이상치 제거 : 0개 (이전 단계에서 삭제됨)\n",
    "07. dc3_tat 이상치 제거 : 0개 (이전 단계에서 삭제됨)\n",
    "08. c4_tat 이상치 제거 : 0개 (이전 단계에서 삭제됨)\n",
    "09. pg1_tat 이상치 제거 : 1개\n",
    "10. sa1_tat 이상치 제거 : 0개 (이전 단계에서 삭제됨)\n",
    "11. sa2_tat 이상치 제거 : 7개\n",
    "12. sa3_tat 이상치 제거 : 2개\n",
    "\n",
    "total 제거 : 121개 (전체 6%)\n",
    "\"\"\"\n",
    "#%% error_rate\n",
    "\n",
    "\"\"\"\n",
    "tray엔 총 25cell이 있어야 하는 것을 생각하여, 25이 안되는 경우 어떻게 해야하나? 논란\n",
    "-> 교수님 피드백 : 꼭 tray에 25개가 있을 필요는 없다고 판단하여\n",
    "\n",
    "총 불량 개수/총 tray당 cell 개수를 count해 불량률 생성\n",
    "다만 불량률 차이를 위해 0.01정도 차이나는 cell count 20 미만 제거\n",
    "\"\"\"\n",
    "\n",
    "tray_list = pd.merge( df_tat[[\"lot_id\",'tray_id']], pd.DataFrame( df_raw_process.groupby([\"lot_id\",\"tray_id\"])['cell_id'].count()).reset_index(drop = False) )\n",
    "tray_list = pd.merge( tray_list, df_raw_process[ df_raw_process[\"judge\"] == \"불량\" ].groupby([\"lot_id\",\"tray_id\"])['cell_id'].count().reset_index(drop = False) ,\n",
    "                     on = [\"lot_id\",\"tray_id\"], how = \"outer\")\n",
    "tray_list.fillna(0, inplace = True)\n",
    "\n",
    "tray_list[\"error_rate\"] = tray_list[tray_list.columns[3]] / tray_list[tray_list.columns[2]] # 브로드 캐스팅\n",
    "tray_list_cut = tray_list[ tray_list[\"cell_id_x\"] >= 20 ]\n",
    "\n",
    "\n",
    "df_tat = pd.merge( df_tat, tray_list_cut[[\"lot_id\",\"tray_id\", \"error_rate\"]], on = [\"lot_id\",\"tray_id\"], how = \"inner\")\n",
    "df_tat = df_tat[ df_raw_tat.columns.insert(2, \"error_rate\").to_list() ] # y = 불량률(파생변수)"
   ]
  },
  {
   "cell_type": "markdown",
   "metadata": {},
   "source": [
    "# 카이제곱검정"
   ]
  },
  {
   "cell_type": "markdown",
   "metadata": {},
   "source": [
    "# Aging 단계 상온1"
   ]
  },
  {
   "cell_type": "code",
   "execution_count": 3,
   "metadata": {},
   "outputs": [
    {
     "name": "stdout",
     "output_type": "stream",
     "text": [
      "Chi-Squared Value: 9.5268\n",
      "P-value: 0.217\n"
     ]
    }
   ],
   "source": [
    "import pandas as pd\n",
    "from scipy.stats import chi2_contingency\n",
    "\n",
    "#'c1_box_col' 변수와 'judge' 변수 간의 교차 테이블 생성\n",
    "contingency_table = pd.crosstab(df_process['rta1_box_col'], df_process['judge'])\n",
    "\n",
    "# 카이제곱 검정 수행\n",
    "chi2, p, dof, expected = chi2_contingency(contingency_table)\n",
    "\n",
    "print(\"Chi-Squared Value:\", chi2.round(4))\n",
    "print(\"P-value:\", p.round(4))"
   ]
  },
  {
   "cell_type": "code",
   "execution_count": 4,
   "metadata": {},
   "outputs": [
    {
     "name": "stdout",
     "output_type": "stream",
     "text": [
      "Chi-Squared Value: 659.0818\n",
      "P-value: 0.0\n"
     ]
    }
   ],
   "source": [
    "import pandas as pd\n",
    "from scipy.stats import chi2_contingency\n",
    "\n",
    "#'c1_box_col' 변수와 'judge' 변수 간의 교차 테이블 생성\n",
    "contingency_table = pd.crosstab(df_process['rta1_box_row'], df_process['judge'])\n",
    "\n",
    "# 카이제곱 검정 수행\n",
    "chi2, p, dof, expected = chi2_contingency(contingency_table)\n",
    "\n",
    "print(\"Chi-Squared Value:\", chi2.round(4))\n",
    "print(\"P-value:\", p.round(4))"
   ]
  },
  {
   "cell_type": "code",
   "execution_count": 5,
   "metadata": {},
   "outputs": [
    {
     "name": "stdout",
     "output_type": "stream",
     "text": [
      "Chi-Squared Value: 74.4553\n",
      "P-value: 0.0\n"
     ]
    }
   ],
   "source": [
    "import pandas as pd\n",
    "from scipy.stats import chi2_contingency\n",
    "\n",
    "#'c1_box_col' 변수와 'judge' 변수 간의 교차 테이블 생성\n",
    "contingency_table = pd.crosstab(df_process['rta1_box_dan'], df_process['judge'])\n",
    "\n",
    "# 카이제곱 검정 수행\n",
    "chi2, p, dof, expected = chi2_contingency(contingency_table)\n",
    "\n",
    "print(\"Chi-Squared Value:\", chi2.round(4))\n",
    "print(\"P-value:\", p.round(4))"
   ]
  },
  {
   "cell_type": "markdown",
   "metadata": {},
   "source": [
    "# 고온 aging 단계1"
   ]
  },
  {
   "cell_type": "code",
   "execution_count": 6,
   "metadata": {},
   "outputs": [
    {
     "name": "stdout",
     "output_type": "stream",
     "text": [
      "Chi-Squared Value: 9.2857\n",
      "P-value: 0.0096\n"
     ]
    }
   ],
   "source": [
    "import pandas as pd\n",
    "from scipy.stats import chi2_contingency\n",
    "\n",
    "#'c1_box_col' 변수와 'judge' 변수 간의 교차 테이블 생성\n",
    "contingency_table = pd.crosstab(df_process['hta1_box_col'], df_process['judge'])\n",
    "\n",
    "# 카이제곱 검정 수행\n",
    "chi2, p, dof, expected = chi2_contingency(contingency_table)\n",
    "\n",
    "print(\"Chi-Squared Value:\", chi2.round(4))\n",
    "print(\"P-value:\", p.round(4))"
   ]
  },
  {
   "cell_type": "code",
   "execution_count": 7,
   "metadata": {},
   "outputs": [
    {
     "name": "stdout",
     "output_type": "stream",
     "text": [
      "Chi-Squared Value: 486.7929\n",
      "P-value: 0.0\n"
     ]
    }
   ],
   "source": [
    "import pandas as pd\n",
    "from scipy.stats import chi2_contingency\n",
    "\n",
    "#'c1_box_col' 변수와 'judge' 변수 간의 교차 테이블 생성\n",
    "contingency_table = pd.crosstab(df_process['hta1_box_row'], df_process['judge'])\n",
    "\n",
    "# 카이제곱 검정 수행\n",
    "chi2, p, dof, expected = chi2_contingency(contingency_table)\n",
    "\n",
    "print(\"Chi-Squared Value:\", chi2.round(4))\n",
    "print(\"P-value:\", p.round(4))"
   ]
  },
  {
   "cell_type": "code",
   "execution_count": 8,
   "metadata": {},
   "outputs": [
    {
     "name": "stdout",
     "output_type": "stream",
     "text": [
      "Chi-Squared Value: 75.1714\n",
      "P-value: 0.0\n"
     ]
    }
   ],
   "source": [
    "import pandas as pd\n",
    "from scipy.stats import chi2_contingency\n",
    "\n",
    "#'c1_box_col' 변수와 'judge' 변수 간의 교차 테이블 생성\n",
    "contingency_table = pd.crosstab(df_process['hta1_box_dan'], df_process['judge'])\n",
    "\n",
    "# 카이제곱 검정 수행\n",
    "chi2, p, dof, expected = chi2_contingency(contingency_table)\n",
    "\n",
    "print(\"Chi-Squared Value:\", chi2.round(4))\n",
    "print(\"P-value:\", p.round(4))"
   ]
  },
  {
   "cell_type": "markdown",
   "metadata": {},
   "source": [
    "# 상온 aging 단계2"
   ]
  },
  {
   "cell_type": "code",
   "execution_count": 9,
   "metadata": {},
   "outputs": [
    {
     "name": "stdout",
     "output_type": "stream",
     "text": [
      "Chi-Squared Value: 59.1017\n",
      "P-value: 0.0\n"
     ]
    }
   ],
   "source": [
    "import pandas as pd\n",
    "from scipy.stats import chi2_contingency\n",
    "\n",
    "#'c1_box_col' 변수와 'judge' 변수 간의 교차 테이블 생성\n",
    "contingency_table = pd.crosstab(df_process['rta2_box_col'], df_process['judge'])\n",
    "\n",
    "# 카이제곱 검정 수행\n",
    "chi2, p, dof, expected = chi2_contingency(contingency_table)\n",
    "\n",
    "print(\"Chi-Squared Value:\", chi2.round(4))\n",
    "print(\"P-value:\", p.round(4))"
   ]
  },
  {
   "cell_type": "code",
   "execution_count": 10,
   "metadata": {},
   "outputs": [
    {
     "name": "stdout",
     "output_type": "stream",
     "text": [
      "Chi-Squared Value: 672.5357\n",
      "P-value: 0.0\n"
     ]
    }
   ],
   "source": [
    "import pandas as pd\n",
    "from scipy.stats import chi2_contingency\n",
    "\n",
    "#'c1_box_col' 변수와 'judge' 변수 간의 교차 테이블 생성\n",
    "contingency_table = pd.crosstab(df_process['rta2_box_row'], df_process['judge'])\n",
    "\n",
    "# 카이제곱 검정 수행\n",
    "chi2, p, dof, expected = chi2_contingency(contingency_table)\n",
    "\n",
    "print(\"Chi-Squared Value:\", chi2.round(4))\n",
    "print(\"P-value:\", p.round(4))"
   ]
  },
  {
   "cell_type": "code",
   "execution_count": 11,
   "metadata": {},
   "outputs": [
    {
     "name": "stdout",
     "output_type": "stream",
     "text": [
      "Chi-Squared Value: 71.66\n",
      "P-value: 0.0\n"
     ]
    }
   ],
   "source": [
    "import pandas as pd\n",
    "from scipy.stats import chi2_contingency\n",
    "\n",
    "#'c1_box_col' 변수와 'judge' 변수 간의 교차 테이블 생성\n",
    "contingency_table = pd.crosstab(df_process['rta2_box_dan'], df_process['judge'])\n",
    "\n",
    "# 카이제곱 검정 수행\n",
    "chi2, p, dof, expected = chi2_contingency(contingency_table)\n",
    "\n",
    "print(\"Chi-Squared Value:\", chi2.round(4))\n",
    "print(\"P-value:\", p.round(4))"
   ]
  },
  {
   "cell_type": "markdown",
   "metadata": {},
   "source": [
    "# charge1단계"
   ]
  },
  {
   "cell_type": "code",
   "execution_count": 78,
   "metadata": {
    "scrolled": true
   },
   "outputs": [
    {
     "data": {
      "text/plain": [
       "0         \n",
       "1         \n",
       "2         \n",
       "3         \n",
       "4         \n",
       "        ..\n",
       "38590     \n",
       "38591     \n",
       "38592     \n",
       "38593     \n",
       "38594     \n",
       "Name: judge, Length: 38595, dtype: object"
      ]
     },
     "execution_count": 78,
     "metadata": {},
     "output_type": "execute_result"
    }
   ],
   "source": [
    "df_process['judge']"
   ]
  },
  {
   "cell_type": "code",
   "execution_count": 77,
   "metadata": {
    "scrolled": true
   },
   "outputs": [
    {
     "name": "stdout",
     "output_type": "stream",
     "text": [
      "Chi-Squared Value: 0.0\n",
      "P-value: 1.0\n"
     ]
    }
   ],
   "source": [
    "import pandas as pd\n",
    "from scipy.stats import chi2_contingency\n",
    "\n",
    "#'c1_box_col' 변수와 'judge' 변수 간의 교차 테이블 생성\n",
    "cross = pd.crosstab(index = df_process['c1_box_col'], columns = df_process['judge'])\n",
    "#contingency_table = pd.crosstab()\n",
    "\n",
    "# 카이제곱 검정 수행\n",
    "chi2, p, dof, expected = chi2_contingency(cross)\n",
    "\n",
    "print(\"Chi-Squared Value:\", chi2)\n",
    "print(\"P-value:\", p)"
   ]
  },
  {
   "cell_type": "code",
   "execution_count": 74,
   "metadata": {},
   "outputs": [
    {
     "name": "stdout",
     "output_type": "stream",
     "text": [
      "Chi-Squared Value: 0.0\n",
      "P-value: 1.0\n"
     ]
    }
   ],
   "source": [
    "import pandas as pd\n",
    "from scipy.stats import chi2_contingency\n",
    "\n",
    "#'c1_box_col' 변수와 'judge' 변수 간의 교차 테이블 생성\n",
    "contingency_table = pd.crosstab(df_process['c1_box_col'], df_process['judge'])\n",
    "\n",
    "# 카이제곱 검정 수행\n",
    "chi2, p, dof, expected = chi2_contingency(contingency_table)\n",
    "\n",
    "print(\"Chi-Squared Value:\", chi2)\n",
    "print(\"P-value:\", p)"
   ]
  },
  {
   "cell_type": "code",
   "execution_count": 76,
   "metadata": {},
   "outputs": [
    {
     "name": "stdout",
     "output_type": "stream",
     "text": [
      "Chi-Squared Value: 0.0\n",
      "P-value: 1.0\n"
     ]
    }
   ],
   "source": [
    "import pandas as pd\n",
    "from scipy.stats import chi2_contingency\n",
    "\n",
    "#'c1_box_dan' 변수와 'judge' 변수 간의 교차 테이블 생성\n",
    "contingency_table = pd.crosstab(df_process['c1_box_dan'], df_process['judge'])\n",
    "\n",
    "# 카이제곱 검정 수행\n",
    "chi2, p, dof, expected = chi2_contingency(contingency_table)\n",
    "\n",
    "print(\"Chi-Squared Value:\", chi2)\n",
    "print(\"P-value:\", p)"
   ]
  },
  {
   "cell_type": "code",
   "execution_count": 15,
   "metadata": {},
   "outputs": [
    {
     "name": "stdout",
     "output_type": "stream",
     "text": [
      "Chi-Squared Value: 52.8108\n",
      "P-value: 0.0\n"
     ]
    }
   ],
   "source": [
    "import pandas as pd\n",
    "from scipy.stats import chi2_contingency\n",
    "\n",
    "#'c1_box_col' 변수와 'judge' 변수 간의 교차 테이블 생성\n",
    "contingency_table = pd.crosstab(df_process['c1_curr_end'], df_process['judge'])\n",
    "\n",
    "# 카이제곱 검정 수행\n",
    "chi2, p, dof, expected = chi2_contingency(contingency_table)\n",
    "\n",
    "print(\"Chi-Squared Value:\", chi2.round(4))\n",
    "print(\"P-value:\", p.round(4))"
   ]
  },
  {
   "cell_type": "code",
   "execution_count": 16,
   "metadata": {},
   "outputs": [
    {
     "name": "stdout",
     "output_type": "stream",
     "text": [
      "Chi-Squared Value: 122.7481\n",
      "P-value: 0.0\n"
     ]
    }
   ],
   "source": [
    "import pandas as pd\n",
    "from scipy.stats import chi2_contingency\n",
    "\n",
    "#'c1_box_col' 변수와 'judge' 변수 간의 교차 테이블 생성\n",
    "contingency_table = pd.crosstab(df_process['c1_voltage_avg'], df_process['judge'])\n",
    "\n",
    "# 카이제곱 검정 수행\n",
    "chi2, p, dof, expected = chi2_contingency(contingency_table)\n",
    "\n",
    "print(\"Chi-Squared Value:\", chi2.round(4))\n",
    "print(\"P-value:\", p.round(4))"
   ]
  },
  {
   "cell_type": "code",
   "execution_count": 17,
   "metadata": {},
   "outputs": [
    {
     "name": "stdout",
     "output_type": "stream",
     "text": [
      "Chi-Squared Value: 720.9624\n",
      "P-value: 0.0\n"
     ]
    }
   ],
   "source": [
    "import pandas as pd\n",
    "from scipy.stats import chi2_contingency\n",
    "\n",
    "#'c1_box_col' 변수와 'judge' 변수 간의 교차 테이블 생성\n",
    "contingency_table = pd.crosstab(df_process['c1_capa'], df_process['judge'])\n",
    "\n",
    "# 카이제곱 검정 수행\n",
    "chi2, p, dof, expected = chi2_contingency(contingency_table)\n",
    "\n",
    "print(\"Chi-Squared Value:\", chi2.round(4))\n",
    "print(\"P-value:\", p.round(4))"
   ]
  },
  {
   "cell_type": "code",
   "execution_count": 18,
   "metadata": {},
   "outputs": [
    {
     "name": "stdout",
     "output_type": "stream",
     "text": [
      "Chi-Squared Value: 617.7249\n",
      "P-value: 0.0\n"
     ]
    }
   ],
   "source": [
    "import pandas as pd\n",
    "from scipy.stats import chi2_contingency\n",
    "\n",
    "#'c1_box_col' 변수와 'judge' 변수 간의 교차 테이블 생성\n",
    "contingency_table = pd.crosstab(df_process['c1_time_cc'], df_process['judge'])\n",
    "\n",
    "# 카이제곱 검정 수행\n",
    "chi2, p, dof, expected = chi2_contingency(contingency_table)\n",
    "\n",
    "print(\"Chi-Squared Value:\", chi2.round(4))\n",
    "print(\"P-value:\", p.round(4))"
   ]
  },
  {
   "cell_type": "code",
   "execution_count": 19,
   "metadata": {},
   "outputs": [
    {
     "name": "stdout",
     "output_type": "stream",
     "text": [
      "Chi-Squared Value: 720.9624\n",
      "P-value: 0.0\n"
     ]
    }
   ],
   "source": [
    "import pandas as pd\n",
    "from scipy.stats import chi2_contingency\n",
    "\n",
    "#'c1_box_col' 변수와 'judge' 변수 간의 교차 테이블 생성\n",
    "contingency_table = pd.crosstab(df_process['c1_ccval'], df_process['judge'])\n",
    "\n",
    "# 카이제곱 검정 수행\n",
    "chi2, p, dof, expected = chi2_contingency(contingency_table)\n",
    "\n",
    "print(\"Chi-Squared Value:\", chi2.round(4))\n",
    "print(\"P-value:\", p.round(4))"
   ]
  },
  {
   "cell_type": "code",
   "execution_count": 20,
   "metadata": {},
   "outputs": [
    {
     "name": "stdout",
     "output_type": "stream",
     "text": [
      "Chi-Squared Value: 3357.1693\n",
      "P-value: 0.0\n"
     ]
    }
   ],
   "source": [
    "import pandas as pd\n",
    "from scipy.stats import chi2_contingency\n",
    "\n",
    "#'c1_box_col' 변수와 'judge' 변수 간의 교차 테이블 생성\n",
    "contingency_table = pd.crosstab(df_process['c1_temp_avg'], df_process['judge'])\n",
    "\n",
    "# 카이제곱 검정 수행\n",
    "chi2, p, dof, expected = chi2_contingency(contingency_table)\n",
    "\n",
    "print(\"Chi-Squared Value:\", chi2.round(4))\n",
    "print(\"P-value:\", p.round(4))"
   ]
  },
  {
   "cell_type": "markdown",
   "metadata": {},
   "source": [
    "# Discharge 1 단계"
   ]
  },
  {
   "cell_type": "code",
   "execution_count": 21,
   "metadata": {},
   "outputs": [
    {
     "name": "stdout",
     "output_type": "stream",
     "text": [
      "Chi-Squared Value: 105.8148\n",
      "P-value: 0.0\n"
     ]
    }
   ],
   "source": [
    "import pandas as pd\n",
    "from scipy.stats import chi2_contingency\n",
    "\n",
    "#'c1_box_col' 변수와 'judge' 변수 간의 교차 테이블 생성\n",
    "contingency_table = pd.crosstab(df_process['dc1_curr_end'], df_process['judge'])\n",
    "\n",
    "# 카이제곱 검정 수행\n",
    "chi2, p, dof, expected = chi2_contingency(contingency_table)\n",
    "\n",
    "print(\"Chi-Squared Value:\", chi2.round(4))\n",
    "print(\"P-value:\", p.round(4))"
   ]
  },
  {
   "cell_type": "code",
   "execution_count": 22,
   "metadata": {},
   "outputs": [
    {
     "name": "stdout",
     "output_type": "stream",
     "text": [
      "Chi-Squared Value: 0.4969\n",
      "P-value: 0.4809\n"
     ]
    }
   ],
   "source": [
    "import pandas as pd\n",
    "from scipy.stats import chi2_contingency\n",
    "\n",
    "#'c1_box_col' 변수와 'judge' 변수 간의 교차 테이블 생성\n",
    "contingency_table = pd.crosstab(df_process['dc1_capa'], df_process['judge'])\n",
    "\n",
    "# 카이제곱 검정 수행\n",
    "chi2, p, dof, expected = chi2_contingency(contingency_table)\n",
    "\n",
    "print(\"Chi-Squared Value:\", chi2.round(4))\n",
    "print(\"P-value:\", p.round(4))"
   ]
  },
  {
   "cell_type": "code",
   "execution_count": 23,
   "metadata": {},
   "outputs": [
    {
     "name": "stdout",
     "output_type": "stream",
     "text": [
      "Chi-Squared Value: 279.8424\n",
      "P-value: 0.0\n"
     ]
    }
   ],
   "source": [
    "import pandas as pd\n",
    "from scipy.stats import chi2_contingency\n",
    "\n",
    "#'c1_box_col' 변수와 'judge' 변수 간의 교차 테이블 생성\n",
    "contingency_table = pd.crosstab(df_process['c2_ccval'], df_process['judge'])\n",
    "\n",
    "# 카이제곱 검정 수행\n",
    "chi2, p, dof, expected = chi2_contingency(contingency_table)\n",
    "\n",
    "print(\"Chi-Squared Value:\", chi2.round(4))\n",
    "print(\"P-value:\", p.round(4))"
   ]
  },
  {
   "cell_type": "code",
   "execution_count": 24,
   "metadata": {},
   "outputs": [
    {
     "name": "stdout",
     "output_type": "stream",
     "text": [
      "Chi-Squared Value: 682.396\n",
      "P-value: 0.0\n"
     ]
    }
   ],
   "source": [
    "import pandas as pd\n",
    "from scipy.stats import chi2_contingency\n",
    "\n",
    "#'c1_box_col' 변수와 'judge' 변수 간의 교차 테이블 생성\n",
    "contingency_table = pd.crosstab(df_process['dc1_box_col'], df_process['judge'])\n",
    "\n",
    "# 카이제곱 검정 수행\n",
    "chi2, p, dof, expected = chi2_contingency(contingency_table)\n",
    "\n",
    "print(\"Chi-Squared Value:\", chi2.round(4))\n",
    "print(\"P-value:\", p.round(4))"
   ]
  },
  {
   "cell_type": "code",
   "execution_count": 25,
   "metadata": {},
   "outputs": [
    {
     "name": "stdout",
     "output_type": "stream",
     "text": [
      "Chi-Squared Value: 241.3546\n",
      "P-value: 0.0\n"
     ]
    }
   ],
   "source": [
    "import pandas as pd\n",
    "from scipy.stats import chi2_contingency\n",
    "\n",
    "#'c1_box_col' 변수와 'judge' 변수 간의 교차 테이블 생성\n",
    "contingency_table = pd.crosstab(df_process['dc1_box_dan'], df_process['judge'])\n",
    "\n",
    "# 카이제곱 검정 수행\n",
    "chi2, p, dof, expected = chi2_contingency(contingency_table)\n",
    "\n",
    "print(\"Chi-Squared Value:\", chi2.round(4))\n",
    "print(\"P-value:\", p.round(4))"
   ]
  },
  {
   "cell_type": "code",
   "execution_count": 26,
   "metadata": {},
   "outputs": [
    {
     "name": "stdout",
     "output_type": "stream",
     "text": [
      "Chi-Squared Value: 3477.9231\n",
      "P-value: 0.0\n"
     ]
    }
   ],
   "source": [
    "import pandas as pd\n",
    "from scipy.stats import chi2_contingency\n",
    "\n",
    "#'c1_box_col' 변수와 'judge' 변수 간의 교차 테이블 생성\n",
    "contingency_table = pd.crosstab(df_process['dc1_temp_avg'], df_process['judge'])\n",
    "\n",
    "# 카이제곱 검정 수행\n",
    "chi2, p, dof, expected = chi2_contingency(contingency_table)\n",
    "\n",
    "print(\"Chi-Squared Value:\", chi2.round(4))\n",
    "print(\"P-value:\", p.round(4))"
   ]
  },
  {
   "cell_type": "code",
   "execution_count": 27,
   "metadata": {},
   "outputs": [
    {
     "name": "stdout",
     "output_type": "stream",
     "text": [
      "Chi-Squared Value: 3134.8199\n",
      "P-value: 0.0\n"
     ]
    }
   ],
   "source": [
    "import pandas as pd\n",
    "from scipy.stats import chi2_contingency\n",
    "\n",
    "#'c1_box_col' 변수와 'judge' 변수 간의 교차 테이블 생성\n",
    "contingency_table = pd.crosstab(df_process['dc1_capafit'], df_process['judge'])\n",
    "\n",
    "# 카이제곱 검정 수행\n",
    "chi2, p, dof, expected = chi2_contingency(contingency_table)\n",
    "\n",
    "print(\"Chi-Squared Value:\", chi2.round(4))\n",
    "print(\"P-value:\", p.round(4))"
   ]
  },
  {
   "cell_type": "markdown",
   "metadata": {},
   "source": [
    "# charge2단계"
   ]
  },
  {
   "cell_type": "code",
   "execution_count": 28,
   "metadata": {},
   "outputs": [
    {
     "name": "stdout",
     "output_type": "stream",
     "text": [
      "Chi-Squared Value: 682.396\n",
      "P-value: 0.0\n"
     ]
    }
   ],
   "source": [
    "import pandas as pd\n",
    "from scipy.stats import chi2_contingency\n",
    "\n",
    "#'c1_box_col' 변수와 'judge' 변수 간의 교차 테이블 생성\n",
    "contingency_table = pd.crosstab(df_process['c2_box_col'], df_process['judge'])\n",
    "\n",
    "# 카이제곱 검정 수행\n",
    "chi2, p, dof, expected = chi2_contingency(contingency_table)\n",
    "\n",
    "print(\"Chi-Squared Value:\", chi2.round(4))\n",
    "print(\"P-value:\", p.round(4))"
   ]
  },
  {
   "cell_type": "code",
   "execution_count": 29,
   "metadata": {},
   "outputs": [
    {
     "name": "stdout",
     "output_type": "stream",
     "text": [
      "Chi-Squared Value: 241.3546\n",
      "P-value: 0.0\n"
     ]
    }
   ],
   "source": [
    "import pandas as pd\n",
    "from scipy.stats import chi2_contingency\n",
    "\n",
    "#'c1_box_col' 변수와 'judge' 변수 간의 교차 테이블 생성\n",
    "contingency_table = pd.crosstab(df_process['c2_box_dan'], df_process['judge'])\n",
    "\n",
    "# 카이제곱 검정 수행\n",
    "chi2, p, dof, expected = chi2_contingency(contingency_table)\n",
    "\n",
    "print(\"Chi-Squared Value:\", chi2.round(4))\n",
    "print(\"P-value:\", p.round(4))"
   ]
  },
  {
   "cell_type": "code",
   "execution_count": 30,
   "metadata": {},
   "outputs": [
    {
     "name": "stdout",
     "output_type": "stream",
     "text": [
      "Chi-Squared Value: 1272.3151\n",
      "P-value: 0.0\n"
     ]
    }
   ],
   "source": [
    "import pandas as pd\n",
    "from scipy.stats import chi2_contingency\n",
    "\n",
    "#'c1_box_col' 변수와 'judge' 변수 간의 교차 테이블 생성\n",
    "contingency_table = pd.crosstab(df_process['c2_curr_end'], df_process['judge'])\n",
    "\n",
    "# 카이제곱 검정 수행\n",
    "chi2, p, dof, expected = chi2_contingency(contingency_table)\n",
    "\n",
    "print(\"Chi-Squared Value:\", chi2.round(4))\n",
    "print(\"P-value:\", p.round(4))"
   ]
  },
  {
   "cell_type": "code",
   "execution_count": 31,
   "metadata": {},
   "outputs": [
    {
     "name": "stdout",
     "output_type": "stream",
     "text": [
      "Chi-Squared Value: 222.4093\n",
      "P-value: 0.0\n"
     ]
    }
   ],
   "source": [
    "import pandas as pd\n",
    "from scipy.stats import chi2_contingency\n",
    "\n",
    "#'c1_box_col' 변수와 'judge' 변수 간의 교차 테이블 생성\n",
    "contingency_table = pd.crosstab(df_process['c2_voltage_avg'], df_process['judge'])\n",
    "\n",
    "# 카이제곱 검정 수행\n",
    "chi2, p, dof, expected = chi2_contingency(contingency_table)\n",
    "\n",
    "print(\"Chi-Squared Value:\", chi2.round(4))\n",
    "print(\"P-value:\", p.round(4))"
   ]
  },
  {
   "cell_type": "code",
   "execution_count": 32,
   "metadata": {},
   "outputs": [
    {
     "name": "stdout",
     "output_type": "stream",
     "text": [
      "Chi-Squared Value: 279.8424\n",
      "P-value: 0.0\n"
     ]
    }
   ],
   "source": [
    "import pandas as pd\n",
    "from scipy.stats import chi2_contingency\n",
    "\n",
    "#'c1_box_col' 변수와 'judge' 변수 간의 교차 테이블 생성\n",
    "contingency_table = pd.crosstab(df_process['c2_capa'], df_process['judge'])\n",
    "\n",
    "# 카이제곱 검정 수행\n",
    "chi2, p, dof, expected = chi2_contingency(contingency_table)\n",
    "\n",
    "print(\"Chi-Squared Value:\", chi2.round(4))\n",
    "print(\"P-value:\", p.round(4))"
   ]
  },
  {
   "cell_type": "code",
   "execution_count": 33,
   "metadata": {},
   "outputs": [
    {
     "name": "stdout",
     "output_type": "stream",
     "text": [
      "Chi-Squared Value: 279.8424\n",
      "P-value: 0.0\n"
     ]
    }
   ],
   "source": [
    "import pandas as pd\n",
    "from scipy.stats import chi2_contingency\n",
    "\n",
    "#'c1_box_col' 변수와 'judge' 변수 간의 교차 테이블 생성\n",
    "contingency_table = pd.crosstab(df_process['c2_ccval'], df_process['judge'])\n",
    "\n",
    "# 카이제곱 검정 수행\n",
    "chi2, p, dof, expected = chi2_contingency(contingency_table)\n",
    "\n",
    "print(\"Chi-Squared Value:\", chi2.round(4))\n",
    "print(\"P-value:\", p.round(4))"
   ]
  },
  {
   "cell_type": "code",
   "execution_count": 34,
   "metadata": {},
   "outputs": [
    {
     "name": "stdout",
     "output_type": "stream",
     "text": [
      "Chi-Squared Value: 216.7892\n",
      "P-value: 0.0\n"
     ]
    }
   ],
   "source": [
    "import pandas as pd\n",
    "from scipy.stats import chi2_contingency\n",
    "\n",
    "#'c1_box_col' 변수와 'judge' 변수 간의 교차 테이블 생성\n",
    "contingency_table = pd.crosstab(df_process['c2_time_cc'], df_process['judge'])\n",
    "\n",
    "# 카이제곱 검정 수행\n",
    "chi2, p, dof, expected = chi2_contingency(contingency_table)\n",
    "\n",
    "print(\"Chi-Squared Value:\", chi2.round(4))\n",
    "print(\"P-value:\", p.round(4))"
   ]
  },
  {
   "cell_type": "code",
   "execution_count": 35,
   "metadata": {},
   "outputs": [
    {
     "name": "stdout",
     "output_type": "stream",
     "text": [
      "Chi-Squared Value: 3627.2479\n",
      "P-value: 0.0\n"
     ]
    }
   ],
   "source": [
    "import pandas as pd\n",
    "from scipy.stats import chi2_contingency\n",
    "\n",
    "#'c1_box_col' 변수와 'judge' 변수 간의 교차 테이블 생성\n",
    "contingency_table = pd.crosstab(df_process['c2_temp_avg'], df_process['judge'])\n",
    "\n",
    "# 카이제곱 검정 수행\n",
    "chi2, p, dof, expected = chi2_contingency(contingency_table)\n",
    "\n",
    "print(\"Chi-Squared Value:\", chi2.round(4))\n",
    "print(\"P-value:\", p.round(4))"
   ]
  },
  {
   "cell_type": "markdown",
   "metadata": {},
   "source": [
    "# discharge2단계"
   ]
  },
  {
   "cell_type": "code",
   "execution_count": 36,
   "metadata": {},
   "outputs": [
    {
     "name": "stdout",
     "output_type": "stream",
     "text": [
      "Chi-Squared Value: 113.8512\n",
      "P-value: 0.0\n"
     ]
    }
   ],
   "source": [
    "import pandas as pd\n",
    "from scipy.stats import chi2_contingency\n",
    "\n",
    "#'c1_box_col' 변수와 'judge' 변수 간의 교차 테이블 생성\n",
    "contingency_table = pd.crosstab(df_process['dc2_curr_end'], df_process['judge'])\n",
    "\n",
    "# 카이제곱 검정 수행\n",
    "chi2, p, dof, expected = chi2_contingency(contingency_table)\n",
    "\n",
    "print(\"Chi-Squared Value:\", chi2.round(4))\n",
    "print(\"P-value:\", p.round(4))"
   ]
  },
  {
   "cell_type": "code",
   "execution_count": 37,
   "metadata": {},
   "outputs": [
    {
     "name": "stdout",
     "output_type": "stream",
     "text": [
      "Chi-Squared Value: 1555.3603\n",
      "P-value: 0.0\n"
     ]
    }
   ],
   "source": [
    "import pandas as pd\n",
    "from scipy.stats import chi2_contingency\n",
    "\n",
    "#'c1_box_col' 변수와 'judge' 변수 간의 교차 테이블 생성\n",
    "contingency_table = pd.crosstab(df_process['dc2_voltage_avg'], df_process['judge'])\n",
    "\n",
    "# 카이제곱 검정 수행\n",
    "chi2, p, dof, expected = chi2_contingency(contingency_table)\n",
    "\n",
    "print(\"Chi-Squared Value:\", chi2.round(4))\n",
    "print(\"P-value:\", p.round(4))"
   ]
  },
  {
   "cell_type": "code",
   "execution_count": 38,
   "metadata": {},
   "outputs": [
    {
     "name": "stdout",
     "output_type": "stream",
     "text": [
      "Chi-Squared Value: 0.1038\n",
      "P-value: 0.7473\n"
     ]
    }
   ],
   "source": [
    "import pandas as pd\n",
    "from scipy.stats import chi2_contingency\n",
    "\n",
    "#'c1_box_col' 변수와 'judge' 변수 간의 교차 테이블 생성\n",
    "contingency_table = pd.crosstab(df_process['dc2_capa'], df_process['judge'])\n",
    "\n",
    "# 카이제곱 검정 수행\n",
    "chi2, p, dof, expected = chi2_contingency(contingency_table)\n",
    "\n",
    "print(\"Chi-Squared Value:\", chi2.round(4))\n",
    "print(\"P-value:\", p.round(4))"
   ]
  },
  {
   "cell_type": "code",
   "execution_count": 39,
   "metadata": {},
   "outputs": [
    {
     "name": "stdout",
     "output_type": "stream",
     "text": [
      "Chi-Squared Value: 682.396\n",
      "P-value: 0.0\n"
     ]
    }
   ],
   "source": [
    "import pandas as pd\n",
    "from scipy.stats import chi2_contingency\n",
    "\n",
    "#'c1_box_col' 변수와 'judge' 변수 간의 교차 테이블 생성\n",
    "contingency_table = pd.crosstab(df_process['dc2_box_col'], df_process['judge'])\n",
    "\n",
    "# 카이제곱 검정 수행\n",
    "chi2, p, dof, expected = chi2_contingency(contingency_table)\n",
    "\n",
    "print(\"Chi-Squared Value:\", chi2.round(4))\n",
    "print(\"P-value:\", p.round(4))"
   ]
  },
  {
   "cell_type": "code",
   "execution_count": 40,
   "metadata": {},
   "outputs": [
    {
     "name": "stdout",
     "output_type": "stream",
     "text": [
      "Chi-Squared Value: 241.3546\n",
      "P-value: 0.0\n"
     ]
    }
   ],
   "source": [
    "import pandas as pd\n",
    "from scipy.stats import chi2_contingency\n",
    "\n",
    "#'c1_box_col' 변수와 'judge' 변수 간의 교차 테이블 생성\n",
    "contingency_table = pd.crosstab(df_process['dc2_box_dan'], df_process['judge'])\n",
    "\n",
    "# 카이제곱 검정 수행\n",
    "chi2, p, dof, expected = chi2_contingency(contingency_table)\n",
    "\n",
    "print(\"Chi-Squared Value:\", chi2.round(4))\n",
    "print(\"P-value:\", p.round(4))"
   ]
  },
  {
   "cell_type": "code",
   "execution_count": 41,
   "metadata": {},
   "outputs": [
    {
     "name": "stdout",
     "output_type": "stream",
     "text": [
      "Chi-Squared Value: 3344.1658\n",
      "P-value: 0.0\n"
     ]
    }
   ],
   "source": [
    "import pandas as pd\n",
    "from scipy.stats import chi2_contingency\n",
    "\n",
    "#'c1_box_col' 변수와 'judge' 변수 간의 교차 테이블 생성\n",
    "contingency_table = pd.crosstab(df_process['dc2_temp_avg'], df_process['judge'])\n",
    "\n",
    "# 카이제곱 검정 수행\n",
    "chi2, p, dof, expected = chi2_contingency(contingency_table)\n",
    "\n",
    "print(\"Chi-Squared Value:\", chi2.round(4))\n",
    "print(\"P-value:\", p.round(4))"
   ]
  },
  {
   "cell_type": "code",
   "execution_count": 42,
   "metadata": {},
   "outputs": [
    {
     "name": "stdout",
     "output_type": "stream",
     "text": [
      "Chi-Squared Value: 2623.7876\n",
      "P-value: 0.0\n"
     ]
    }
   ],
   "source": [
    "import pandas as pd\n",
    "from scipy.stats import chi2_contingency\n",
    "\n",
    "#'c1_box_col' 변수와 'judge' 변수 간의 교차 테이블 생성\n",
    "contingency_table = pd.crosstab(df_process['dc2_capafit'], df_process['judge'])\n",
    "\n",
    "# 카이제곱 검정 수행\n",
    "chi2, p, dof, expected = chi2_contingency(contingency_table)\n",
    "\n",
    "print(\"Chi-Squared Value:\", chi2.round(4))\n",
    "print(\"P-value:\", p.round(4))"
   ]
  },
  {
   "cell_type": "markdown",
   "metadata": {},
   "source": [
    "# charge3 단계"
   ]
  },
  {
   "cell_type": "code",
   "execution_count": 43,
   "metadata": {},
   "outputs": [
    {
     "name": "stdout",
     "output_type": "stream",
     "text": [
      "Chi-Squared Value: 682.396\n",
      "P-value: 0.0\n"
     ]
    }
   ],
   "source": [
    "import pandas as pd\n",
    "from scipy.stats import chi2_contingency\n",
    "\n",
    "#'c1_box_col' 변수와 'judge' 변수 간의 교차 테이블 생성\n",
    "contingency_table = pd.crosstab(df_process['c3_box_col'], df_process['judge'])\n",
    "\n",
    "# 카이제곱 검정 수행\n",
    "chi2, p, dof, expected = chi2_contingency(contingency_table)\n",
    "\n",
    "print(\"Chi-Squared Value:\", chi2.round(4))\n",
    "print(\"P-value:\", p.round(4))"
   ]
  },
  {
   "cell_type": "code",
   "execution_count": 44,
   "metadata": {
    "scrolled": true
   },
   "outputs": [
    {
     "name": "stdout",
     "output_type": "stream",
     "text": [
      "Chi-Squared Value: 241.3546\n",
      "P-value: 0.0\n"
     ]
    }
   ],
   "source": [
    "import pandas as pd\n",
    "from scipy.stats import chi2_contingency\n",
    "\n",
    "#'c1_box_col' 변수와 'judge' 변수 간의 교차 테이블 생성\n",
    "contingency_table = pd.crosstab(df_process['c3_box_dan'], df_process['judge'])\n",
    "\n",
    "# 카이제곱 검정 수행\n",
    "chi2, p, dof, expected = chi2_contingency(contingency_table)\n",
    "\n",
    "print(\"Chi-Squared Value:\", chi2.round(4))\n",
    "print(\"P-value:\", p.round(4))"
   ]
  },
  {
   "cell_type": "code",
   "execution_count": 45,
   "metadata": {},
   "outputs": [
    {
     "name": "stdout",
     "output_type": "stream",
     "text": [
      "Chi-Squared Value: 1.5068\n",
      "P-value: 0.2196\n"
     ]
    }
   ],
   "source": [
    "import pandas as pd\n",
    "from scipy.stats import chi2_contingency\n",
    "\n",
    "#'c1_box_col' 변수와 'judge' 변수 간의 교차 테이블 생성\n",
    "contingency_table = pd.crosstab(df_process['c3_curr_end'], df_process['judge'])\n",
    "\n",
    "# 카이제곱 검정 수행\n",
    "chi2, p, dof, expected = chi2_contingency(contingency_table)\n",
    "\n",
    "print(\"Chi-Squared Value:\", chi2.round(4))\n",
    "print(\"P-value:\", p.round(4))"
   ]
  },
  {
   "cell_type": "code",
   "execution_count": 46,
   "metadata": {},
   "outputs": [
    {
     "name": "stdout",
     "output_type": "stream",
     "text": [
      "Chi-Squared Value: 160.7349\n",
      "P-value: 0.0\n"
     ]
    }
   ],
   "source": [
    "import pandas as pd\n",
    "from scipy.stats import chi2_contingency\n",
    "\n",
    "#'c1_box_col' 변수와 'judge' 변수 간의 교차 테이블 생성\n",
    "contingency_table = pd.crosstab(df_process['c3_ccval'], df_process['judge'])\n",
    "\n",
    "# 카이제곱 검정 수행\n",
    "chi2, p, dof, expected = chi2_contingency(contingency_table)\n",
    "\n",
    "print(\"Chi-Squared Value:\", chi2.round(4))\n",
    "print(\"P-value:\", p.round(4))"
   ]
  },
  {
   "cell_type": "code",
   "execution_count": 47,
   "metadata": {},
   "outputs": [
    {
     "name": "stdout",
     "output_type": "stream",
     "text": [
      "Chi-Squared Value: 1053.024\n",
      "P-value: 0.0\n"
     ]
    }
   ],
   "source": [
    "import pandas as pd\n",
    "from scipy.stats import chi2_contingency\n",
    "\n",
    "#'c1_box_col' 변수와 'judge' 변수 간의 교차 테이블 생성\n",
    "contingency_table = pd.crosstab(df_process['c3_capa'], df_process['judge'])\n",
    "\n",
    "# 카이제곱 검정 수행\n",
    "chi2, p, dof, expected = chi2_contingency(contingency_table)\n",
    "\n",
    "print(\"Chi-Squared Value:\", chi2.round(4))\n",
    "print(\"P-value:\", p.round(4))"
   ]
  },
  {
   "cell_type": "code",
   "execution_count": 48,
   "metadata": {},
   "outputs": [
    {
     "name": "stdout",
     "output_type": "stream",
     "text": [
      "Chi-Squared Value: 306.0135\n",
      "P-value: 0.0\n"
     ]
    }
   ],
   "source": [
    "import pandas as pd\n",
    "from scipy.stats import chi2_contingency\n",
    "\n",
    "#'c1_box_col' 변수와 'judge' 변수 간의 교차 테이블 생성\n",
    "contingency_table = pd.crosstab(df_process['c3_voltage_avg'], df_process['judge'])\n",
    "\n",
    "# 카이제곱 검정 수행\n",
    "chi2, p, dof, expected = chi2_contingency(contingency_table)\n",
    "\n",
    "print(\"Chi-Squared Value:\", chi2.round(4))\n",
    "print(\"P-value:\", p.round(4))"
   ]
  },
  {
   "cell_type": "code",
   "execution_count": 49,
   "metadata": {},
   "outputs": [
    {
     "name": "stdout",
     "output_type": "stream",
     "text": [
      "Chi-Squared Value: 139.3361\n",
      "P-value: 0.0\n"
     ]
    }
   ],
   "source": [
    "import pandas as pd\n",
    "from scipy.stats import chi2_contingency\n",
    "\n",
    "#'c1_box_col' 변수와 'judge' 변수 간의 교차 테이블 생성\n",
    "contingency_table = pd.crosstab(df_process['c3_time_cc'], df_process['judge'])\n",
    "\n",
    "# 카이제곱 검정 수행\n",
    "chi2, p, dof, expected = chi2_contingency(contingency_table)\n",
    "\n",
    "print(\"Chi-Squared Value:\", chi2.round(4))\n",
    "print(\"P-value:\", p.round(4))"
   ]
  },
  {
   "cell_type": "code",
   "execution_count": 50,
   "metadata": {},
   "outputs": [
    {
     "name": "stdout",
     "output_type": "stream",
     "text": [
      "Chi-Squared Value: 3346.8962\n",
      "P-value: 0.0\n"
     ]
    }
   ],
   "source": [
    "import pandas as pd\n",
    "from scipy.stats import chi2_contingency\n",
    "\n",
    "#'c1_box_col' 변수와 'judge' 변수 간의 교차 테이블 생성\n",
    "contingency_table = pd.crosstab(df_process['c3_temp_avg'], df_process['judge'])\n",
    "\n",
    "# 카이제곱 검정 수행\n",
    "chi2, p, dof, expected = chi2_contingency(contingency_table)\n",
    "\n",
    "print(\"Chi-Squared Value:\", chi2.round(4))\n",
    "print(\"P-value:\", p.round(4))"
   ]
  },
  {
   "cell_type": "markdown",
   "metadata": {},
   "source": [
    "# discharge 3단계"
   ]
  },
  {
   "cell_type": "code",
   "execution_count": 51,
   "metadata": {},
   "outputs": [
    {
     "name": "stdout",
     "output_type": "stream",
     "text": [
      "Chi-Squared Value: 19.4196\n",
      "P-value: 0.2475\n"
     ]
    }
   ],
   "source": [
    "import pandas as pd\n",
    "from scipy.stats import chi2_contingency\n",
    "\n",
    "#'c1_box_col' 변수와 'judge' 변수 간의 교차 테이블 생성\n",
    "contingency_table = pd.crosstab(df_process['dc3_curr_end'], df_process['judge'])\n",
    "\n",
    "# 카이제곱 검정 수행\n",
    "chi2, p, dof, expected = chi2_contingency(contingency_table)\n",
    "\n",
    "print(\"Chi-Squared Value:\", chi2.round(4))\n",
    "print(\"P-value:\", p.round(4))"
   ]
  },
  {
   "cell_type": "code",
   "execution_count": 52,
   "metadata": {},
   "outputs": [
    {
     "name": "stdout",
     "output_type": "stream",
     "text": [
      "Chi-Squared Value: 363.7364\n",
      "P-value: 0.0\n"
     ]
    }
   ],
   "source": [
    "import pandas as pd\n",
    "from scipy.stats import chi2_contingency\n",
    "\n",
    "#'c1_box_col' 변수와 'judge' 변수 간의 교차 테이블 생성\n",
    "contingency_table = pd.crosstab(df_process['dc3_voltage_avg'], df_process['judge'])\n",
    "\n",
    "# 카이제곱 검정 수행\n",
    "chi2, p, dof, expected = chi2_contingency(contingency_table)\n",
    "\n",
    "print(\"Chi-Squared Value:\", chi2.round(4))\n",
    "print(\"P-value:\", p.round(4))"
   ]
  },
  {
   "cell_type": "code",
   "execution_count": 53,
   "metadata": {},
   "outputs": [
    {
     "name": "stdout",
     "output_type": "stream",
     "text": [
      "Chi-Squared Value: 458.7546\n",
      "P-value: 0.0\n"
     ]
    }
   ],
   "source": [
    "import pandas as pd\n",
    "from scipy.stats import chi2_contingency\n",
    "\n",
    "#'c1_box_col' 변수와 'judge' 변수 간의 교차 테이블 생성\n",
    "contingency_table = pd.crosstab(df_process['dc3_capa'], df_process['judge'])\n",
    "\n",
    "# 카이제곱 검정 수행\n",
    "chi2, p, dof, expected = chi2_contingency(contingency_table)\n",
    "\n",
    "print(\"Chi-Squared Value:\", chi2.round(4))\n",
    "print(\"P-value:\", p.round(4))"
   ]
  },
  {
   "cell_type": "code",
   "execution_count": 54,
   "metadata": {},
   "outputs": [
    {
     "name": "stdout",
     "output_type": "stream",
     "text": [
      "Chi-Squared Value: 682.396\n",
      "P-value: 0.0\n"
     ]
    }
   ],
   "source": [
    "import pandas as pd\n",
    "from scipy.stats import chi2_contingency\n",
    "\n",
    "#'c1_box_col' 변수와 'judge' 변수 간의 교차 테이블 생성\n",
    "contingency_table = pd.crosstab(df_process['dc3_box_col'], df_process['judge'])\n",
    "\n",
    "# 카이제곱 검정 수행\n",
    "chi2, p, dof, expected = chi2_contingency(contingency_table)\n",
    "\n",
    "print(\"Chi-Squared Value:\", chi2.round(4))\n",
    "print(\"P-value:\", p.round(4))"
   ]
  },
  {
   "cell_type": "code",
   "execution_count": 55,
   "metadata": {},
   "outputs": [
    {
     "name": "stdout",
     "output_type": "stream",
     "text": [
      "Chi-Squared Value: 241.3546\n",
      "P-value: 0.0\n"
     ]
    }
   ],
   "source": [
    "import pandas as pd\n",
    "from scipy.stats import chi2_contingency\n",
    "\n",
    "#'c1_box_col' 변수와 'judge' 변수 간의 교차 테이블 생성\n",
    "contingency_table = pd.crosstab(df_process['dc3_box_dan'], df_process['judge'])\n",
    "\n",
    "# 카이제곱 검정 수행\n",
    "chi2, p, dof, expected = chi2_contingency(contingency_table)\n",
    "\n",
    "print(\"Chi-Squared Value:\", chi2.round(4))\n",
    "print(\"P-value:\", p.round(4))"
   ]
  },
  {
   "cell_type": "code",
   "execution_count": 56,
   "metadata": {},
   "outputs": [
    {
     "name": "stdout",
     "output_type": "stream",
     "text": [
      "Chi-Squared Value: 3103.1731\n",
      "P-value: 0.0\n"
     ]
    }
   ],
   "source": [
    "import pandas as pd\n",
    "from scipy.stats import chi2_contingency\n",
    "\n",
    "#'c1_box_col' 변수와 'judge' 변수 간의 교차 테이블 생성\n",
    "contingency_table = pd.crosstab(df_process['dc3_temp_avg'], df_process['judge'])\n",
    "\n",
    "# 카이제곱 검정 수행\n",
    "chi2, p, dof, expected = chi2_contingency(contingency_table)\n",
    "\n",
    "print(\"Chi-Squared Value:\", chi2.round(4))\n",
    "print(\"P-value:\", p.round(4))"
   ]
  },
  {
   "cell_type": "code",
   "execution_count": 57,
   "metadata": {},
   "outputs": [
    {
     "name": "stdout",
     "output_type": "stream",
     "text": [
      "Chi-Squared Value: 307.4222\n",
      "P-value: 0.0\n"
     ]
    }
   ],
   "source": [
    "import pandas as pd\n",
    "from scipy.stats import chi2_contingency\n",
    "\n",
    "#'c1_box_col' 변수와 'judge' 변수 간의 교차 테이블 생성\n",
    "contingency_table = pd.crosstab(df_process['dc3_capafit'], df_process['judge'])\n",
    "\n",
    "# 카이제곱 검정 수행\n",
    "chi2, p, dof, expected = chi2_contingency(contingency_table)\n",
    "\n",
    "print(\"Chi-Squared Value:\", chi2.round(4))\n",
    "print(\"P-value:\", p.round(4))"
   ]
  },
  {
   "cell_type": "markdown",
   "metadata": {},
   "source": [
    "# charge 4단계"
   ]
  },
  {
   "cell_type": "code",
   "execution_count": 58,
   "metadata": {},
   "outputs": [
    {
     "name": "stdout",
     "output_type": "stream",
     "text": [
      "Chi-Squared Value: 682.396\n",
      "P-value: 0.0\n"
     ]
    }
   ],
   "source": [
    "import pandas as pd\n",
    "from scipy.stats import chi2_contingency\n",
    "\n",
    "#'c1_box_col' 변수와 'judge' 변수 간의 교차 테이블 생성\n",
    "contingency_table = pd.crosstab(df_process['c4_box_col'], df_process['judge'])\n",
    "\n",
    "# 카이제곱 검정 수행\n",
    "chi2, p, dof, expected = chi2_contingency(contingency_table)\n",
    "\n",
    "print(\"Chi-Squared Value:\", chi2.round(4))\n",
    "print(\"P-value:\", p.round(4))"
   ]
  },
  {
   "cell_type": "code",
   "execution_count": 59,
   "metadata": {},
   "outputs": [
    {
     "name": "stdout",
     "output_type": "stream",
     "text": [
      "Chi-Squared Value: 241.35455107910906\n",
      "P-value: 3.559014190487565e-46\n"
     ]
    }
   ],
   "source": [
    "import pandas as pd\n",
    "from scipy.stats import chi2_contingency\n",
    "\n",
    "#'c1_box_col' 변수와 'judge' 변수 간의 교차 테이블 생성\n",
    "contingency_table = pd.crosstab(df_process['c4_box_dan'], df_process['judge'])\n",
    "\n",
    "# 카이제곱 검정 수행\n",
    "chi2, p, dof, expected = chi2_contingency(contingency_table)\n",
    "\n",
    "print(\"Chi-Squared Value:\", chi2)\n",
    "print(\"P-value:\", p)"
   ]
  },
  {
   "cell_type": "code",
   "execution_count": 60,
   "metadata": {},
   "outputs": [
    {
     "name": "stdout",
     "output_type": "stream",
     "text": [
      "Chi-Squared Value: 0.0008\n",
      "P-value: 0.9774\n"
     ]
    }
   ],
   "source": [
    "import pandas as pd\n",
    "from scipy.stats import chi2_contingency\n",
    "\n",
    "#'c1_box_col' 변수와 'judge' 변수 간의 교차 테이블 생성\n",
    "contingency_table = pd.crosstab(df_process['c4_curr_end'], df_process['judge'])\n",
    "\n",
    "# 카이제곱 검정 수행\n",
    "chi2, p, dof, expected = chi2_contingency(contingency_table)\n",
    "\n",
    "print(\"Chi-Squared Value:\", chi2.round(4))\n",
    "print(\"P-value:\", p.round(4))"
   ]
  },
  {
   "cell_type": "code",
   "execution_count": 61,
   "metadata": {},
   "outputs": [
    {
     "name": "stdout",
     "output_type": "stream",
     "text": [
      "Chi-Squared Value: 365.3459\n",
      "P-value: 0.0\n"
     ]
    }
   ],
   "source": [
    "import pandas as pd\n",
    "from scipy.stats import chi2_contingency\n",
    "\n",
    "#'c1_box_col' 변수와 'judge' 변수 간의 교차 테이블 생성\n",
    "contingency_table = pd.crosstab(df_process['c4_voltage_avg'], df_process['judge'])\n",
    "\n",
    "# 카이제곱 검정 수행\n",
    "chi2, p, dof, expected = chi2_contingency(contingency_table)\n",
    "\n",
    "print(\"Chi-Squared Value:\", chi2.round(4))\n",
    "print(\"P-value:\", p.round(4))"
   ]
  },
  {
   "cell_type": "code",
   "execution_count": 62,
   "metadata": {},
   "outputs": [
    {
     "name": "stdout",
     "output_type": "stream",
     "text": [
      "Chi-Squared Value: 193.5058\n",
      "P-value: 0.1738\n"
     ]
    }
   ],
   "source": [
    "import pandas as pd\n",
    "from scipy.stats import chi2_contingency\n",
    "\n",
    "#'c1_box_col' 변수와 'judge' 변수 간의 교차 테이블 생성\n",
    "contingency_table = pd.crosstab(df_process['c4_capa'], df_process['judge'])\n",
    "\n",
    "# 카이제곱 검정 수행\n",
    "chi2, p, dof, expected = chi2_contingency(contingency_table)\n",
    "\n",
    "print(\"Chi-Squared Value:\", chi2.round(4))\n",
    "print(\"P-value:\", p.round(4))"
   ]
  },
  {
   "cell_type": "code",
   "execution_count": 63,
   "metadata": {},
   "outputs": [
    {
     "name": "stdout",
     "output_type": "stream",
     "text": [
      "Chi-Squared Value: 612.6281\n",
      "P-value: 0.0\n"
     ]
    }
   ],
   "source": [
    "import pandas as pd\n",
    "from scipy.stats import chi2_contingency\n",
    "\n",
    "#'c1_box_col' 변수와 'judge' 변수 간의 교차 테이블 생성\n",
    "contingency_table = pd.crosstab(df_process['c4_ccval'], df_process['judge'])\n",
    "\n",
    "# 카이제곱 검정 수행\n",
    "chi2, p, dof, expected = chi2_contingency(contingency_table)\n",
    "\n",
    "print(\"Chi-Squared Value:\", chi2.round(4))\n",
    "print(\"P-value:\", p.round(4))"
   ]
  },
  {
   "cell_type": "code",
   "execution_count": 64,
   "metadata": {},
   "outputs": [
    {
     "name": "stdout",
     "output_type": "stream",
     "text": [
      "Chi-Squared Value: 1064.3583\n",
      "P-value: 0.0\n"
     ]
    }
   ],
   "source": [
    "import pandas as pd\n",
    "from scipy.stats import chi2_contingency\n",
    "\n",
    "#'c1_box_col' 변수와 'judge' 변수 간의 교차 테이블 생성\n",
    "contingency_table = pd.crosstab(df_process['c4_time_cv'], df_process['judge'])\n",
    "\n",
    "# 카이제곱 검정 수행\n",
    "chi2, p, dof, expected = chi2_contingency(contingency_table)\n",
    "\n",
    "print(\"Chi-Squared Value:\", chi2.round(4))\n",
    "print(\"P-value:\", p.round(4))"
   ]
  },
  {
   "cell_type": "code",
   "execution_count": 65,
   "metadata": {},
   "outputs": [
    {
     "name": "stdout",
     "output_type": "stream",
     "text": [
      "Chi-Squared Value: 976.5527\n",
      "P-value: 0.0\n"
     ]
    }
   ],
   "source": [
    "import pandas as pd\n",
    "from scipy.stats import chi2_contingency\n",
    "\n",
    "#'c1_box_col' 변수와 'judge' 변수 간의 교차 테이블 생성\n",
    "contingency_table = pd.crosstab(df_process['c4_cvval'], df_process['judge'])\n",
    "\n",
    "# 카이제곱 검정 수행\n",
    "chi2, p, dof, expected = chi2_contingency(contingency_table)\n",
    "\n",
    "print(\"Chi-Squared Value:\", chi2.round(4))\n",
    "print(\"P-value:\", p.round(4))"
   ]
  },
  {
   "cell_type": "code",
   "execution_count": 66,
   "metadata": {},
   "outputs": [
    {
     "name": "stdout",
     "output_type": "stream",
     "text": [
      "Chi-Squared Value: 3273.637\n",
      "P-value: 0.0\n"
     ]
    }
   ],
   "source": [
    "import pandas as pd\n",
    "from scipy.stats import chi2_contingency\n",
    "\n",
    "#'c1_box_col' 변수와 'judge' 변수 간의 교차 테이블 생성\n",
    "contingency_table = pd.crosstab(df_process['c4_temp_avg'], df_process['judge'])\n",
    "\n",
    "# 카이제곱 검정 수행\n",
    "chi2, p, dof, expected = chi2_contingency(contingency_table)\n",
    "\n",
    "print(\"Chi-Squared Value:\", chi2.round(4))\n",
    "print(\"P-value:\", p.round(4))"
   ]
  },
  {
   "cell_type": "markdown",
   "metadata": {},
   "source": [
    "# DT"
   ]
  },
  {
   "cell_type": "code",
   "execution_count": 67,
   "metadata": {},
   "outputs": [
    {
     "name": "stdout",
     "output_type": "stream",
     "text": [
      "0.031244500878199053\n"
     ]
    }
   ],
   "source": [
    "import pandas as pd\n",
    "import seaborn as sns\n",
    "\n",
    "#%% 데이터 불러오기\n",
    "df_tat = pd.read_csv(\"bat_tat.csv\")\n",
    "df_process = pd.read_csv(\"bat_process.csv\", encoding = 'cp949')\n",
    "\n",
    "#%% 불량률\n",
    "tray_list = pd.merge( df_tat[['tray_id']], pd.DataFrame( df_process.groupby(\"tray_id\")['cell_id'].count()).reset_index(drop = False) )\n",
    "tray_list = pd.merge( tray_list, df_process[ df_process[\"judge\"] == \"불량\" ].groupby(\"tray_id\")['cell_id'].count().reset_index(drop = False) ,\n",
    "                     on = \"tray_id\", how = \"outer\")\n",
    "tray_list.fillna(0, inplace = True)\n",
    "tray_list[\"odds_ratio\"] = tray_list[tray_list.columns[2]] / tray_list[tray_list.columns[1]] # 브로드 캐스팅\n",
    "#%%\n",
    "\n",
    "\"\"\"\n",
    "내가 접근을 잘못했나 불량률 어떻게 하는거지...\n",
    "내가 뭔가 잘못하고 있는거 같은데 내가 뭘 잘못하고 있는지 잘 모르겠다\n",
    "\"\"\"\n",
    "print(tray_list[\"odds_ratio\"].mean()) # 불량률이 어떻게 될까\n",
    "#%%"
   ]
  },
  {
   "cell_type": "code",
   "execution_count": 68,
   "metadata": {},
   "outputs": [],
   "source": [
    "tray_list = pd.merge( df_tat[[\"lot_id\",'tray_id']], pd.DataFrame( df_process.groupby([\"lot_id\",\"tray_id\"])['cell_id'].count()).reset_index(drop = False) )\n",
    "tray_list = pd.merge( tray_list, df_process[df_process[\"judge\"] == \"불량\" ].groupby([\"lot_id\",\"tray_id\"])['cell_id'].count().reset_index(drop = False) ,\n",
    "                     on = [\"lot_id\",\"tray_id\"], how = \"inner\")\n",
    "\n",
    "tray_list.fillna(0, inplace = True)\n",
    "tray_list[\"odds_ratio\"] = tray_list[tray_list.columns[3]] / tray_list[tray_list.columns[2]] # 브로드 캐스팅\n",
    "tray_list_cut = tray_list[ tray_list[\"cell_id_x\"] >= 20 ]\n",
    "df_tat = pd.merge( df_tat, tray_list_cut[[\"lot_id\",\"tray_id\", \"odds_ratio\"]], on = [\"lot_id\",\"tray_id\"], how = \"inner\")\n",
    "df_tat = df_tat[ df_tat.columns.insert(2, \"odds_ratio\").to_list() ] # y = 불량률(파생변수)\n",
    "\n",
    "# 한글 제거\n",
    "for column in df_process.columns:\n",
    "    if df_process[column].dtype == 'object' and df_process[column].str.contains('[가-힣]').any():\n",
    "        df_process[column] = df_process[column].str.replace('[가-힣]', '', regex=True)\n",
    "\n",
    "# 설비간 불량률 C구역 데이터프레임 생성\n",
    "df_rcd = df_process.select_dtypes(include=\"object\")\n",
    "df_rcd.drop_duplicates(['lot_id', 'tray_id'], keep='first', inplace=True)\n",
    "\n",
    "# 'c1_box_col'과 'c1_box_dan' 컬럼에서 한글이 제거되었으므로, 이제 정수 변환을 시도해 볼 수 있습니다.\n",
    "df_rcd['c1_box_col'] = df_rcd['c1_box_col'].str.extract('(\\d+)').astype(int)\n",
    "df_rcd['c1_box_dan'] = df_rcd['c1_box_dan'].str.extract('(\\d+)').astype(int)\n"
   ]
  },
  {
   "cell_type": "code",
   "execution_count": 69,
   "metadata": {},
   "outputs": [
    {
     "data": {
      "text/html": [
       "<div>\n",
       "<style scoped>\n",
       "    .dataframe tbody tr th:only-of-type {\n",
       "        vertical-align: middle;\n",
       "    }\n",
       "\n",
       "    .dataframe tbody tr th {\n",
       "        vertical-align: top;\n",
       "    }\n",
       "\n",
       "    .dataframe thead th {\n",
       "        text-align: right;\n",
       "    }\n",
       "</style>\n",
       "<table border=\"1\" class=\"dataframe\">\n",
       "  <thead>\n",
       "    <tr style=\"text-align: right;\">\n",
       "      <th></th>\n",
       "      <th>lot_id</th>\n",
       "      <th>tray_id</th>\n",
       "      <th>cell_id</th>\n",
       "      <th>judge</th>\n",
       "      <th>dt_start</th>\n",
       "      <th>rta1_box_col</th>\n",
       "      <th>rta1_box_row</th>\n",
       "      <th>rta1_box_dan</th>\n",
       "      <th>hta1_box_col</th>\n",
       "      <th>hta1_box_row</th>\n",
       "      <th>...</th>\n",
       "      <th>pc1_box_dan</th>\n",
       "      <th>sa1_box_col</th>\n",
       "      <th>sa1_box_row</th>\n",
       "      <th>sa1_box_dan</th>\n",
       "      <th>sa2_box_col</th>\n",
       "      <th>sa2_box_row</th>\n",
       "      <th>sa2_box_dan</th>\n",
       "      <th>sa3_box_col</th>\n",
       "      <th>sa3_box_row</th>\n",
       "      <th>sa3_box_dan</th>\n",
       "    </tr>\n",
       "  </thead>\n",
       "  <tbody>\n",
       "    <tr>\n",
       "      <th>0</th>\n",
       "      <td>LOT-100</td>\n",
       "      <td>TRAY-1002</td>\n",
       "      <td>CELL-10300</td>\n",
       "      <td></td>\n",
       "      <td>25NOV2023:05:17:55</td>\n",
       "      <td>04</td>\n",
       "      <td>08</td>\n",
       "      <td>04</td>\n",
       "      <td>03</td>\n",
       "      <td>20</td>\n",
       "      <td>...</td>\n",
       "      <td>01</td>\n",
       "      <td>16</td>\n",
       "      <td>09</td>\n",
       "      <td>04</td>\n",
       "      <td>11</td>\n",
       "      <td>31</td>\n",
       "      <td>04</td>\n",
       "      <td>16</td>\n",
       "      <td>54</td>\n",
       "      <td>10</td>\n",
       "    </tr>\n",
       "    <tr>\n",
       "      <th>25</th>\n",
       "      <td>LOT-100</td>\n",
       "      <td>TRAY-1004</td>\n",
       "      <td>CELL-10003</td>\n",
       "      <td></td>\n",
       "      <td>25NOV2023:05:45:20</td>\n",
       "      <td>07</td>\n",
       "      <td>40</td>\n",
       "      <td>01</td>\n",
       "      <td>02</td>\n",
       "      <td>03</td>\n",
       "      <td>...</td>\n",
       "      <td>01</td>\n",
       "      <td>10</td>\n",
       "      <td>17</td>\n",
       "      <td>02</td>\n",
       "      <td>10</td>\n",
       "      <td>63</td>\n",
       "      <td>06</td>\n",
       "      <td>06</td>\n",
       "      <td>59</td>\n",
       "      <td>08</td>\n",
       "    </tr>\n",
       "    <tr>\n",
       "      <th>50</th>\n",
       "      <td>LOT-100</td>\n",
       "      <td>TRAY-1005</td>\n",
       "      <td>CELL-10001</td>\n",
       "      <td></td>\n",
       "      <td>25NOV2023:06:00:55</td>\n",
       "      <td>01</td>\n",
       "      <td>13</td>\n",
       "      <td>01</td>\n",
       "      <td>01</td>\n",
       "      <td>02</td>\n",
       "      <td>...</td>\n",
       "      <td>01</td>\n",
       "      <td>01</td>\n",
       "      <td>64</td>\n",
       "      <td>08</td>\n",
       "      <td>06</td>\n",
       "      <td>59</td>\n",
       "      <td>08</td>\n",
       "      <td>09</td>\n",
       "      <td>50</td>\n",
       "      <td>08</td>\n",
       "    </tr>\n",
       "    <tr>\n",
       "      <th>75</th>\n",
       "      <td>LOT-100</td>\n",
       "      <td>TRAY-1007</td>\n",
       "      <td>CELL-10076</td>\n",
       "      <td></td>\n",
       "      <td>25NOV2023:06:19:50</td>\n",
       "      <td>07</td>\n",
       "      <td>05</td>\n",
       "      <td>01</td>\n",
       "      <td>01</td>\n",
       "      <td>24</td>\n",
       "      <td>...</td>\n",
       "      <td>01</td>\n",
       "      <td>08</td>\n",
       "      <td>37</td>\n",
       "      <td>12</td>\n",
       "      <td>14</td>\n",
       "      <td>44</td>\n",
       "      <td>02</td>\n",
       "      <td>10</td>\n",
       "      <td>48</td>\n",
       "      <td>05</td>\n",
       "    </tr>\n",
       "    <tr>\n",
       "      <th>100</th>\n",
       "      <td>LOT-100</td>\n",
       "      <td>TRAY-1008</td>\n",
       "      <td>CELL-10175</td>\n",
       "      <td></td>\n",
       "      <td>25NOV2023:06:36:25</td>\n",
       "      <td>07</td>\n",
       "      <td>05</td>\n",
       "      <td>01</td>\n",
       "      <td>01</td>\n",
       "      <td>24</td>\n",
       "      <td>...</td>\n",
       "      <td>01</td>\n",
       "      <td>08</td>\n",
       "      <td>37</td>\n",
       "      <td>12</td>\n",
       "      <td>14</td>\n",
       "      <td>44</td>\n",
       "      <td>02</td>\n",
       "      <td>10</td>\n",
       "      <td>48</td>\n",
       "      <td>05</td>\n",
       "    </tr>\n",
       "    <tr>\n",
       "      <th>...</th>\n",
       "      <td>...</td>\n",
       "      <td>...</td>\n",
       "      <td>...</td>\n",
       "      <td>...</td>\n",
       "      <td>...</td>\n",
       "      <td>...</td>\n",
       "      <td>...</td>\n",
       "      <td>...</td>\n",
       "      <td>...</td>\n",
       "      <td>...</td>\n",
       "      <td>...</td>\n",
       "      <td>...</td>\n",
       "      <td>...</td>\n",
       "      <td>...</td>\n",
       "      <td>...</td>\n",
       "      <td>...</td>\n",
       "      <td>...</td>\n",
       "      <td>...</td>\n",
       "      <td>...</td>\n",
       "      <td>...</td>\n",
       "      <td>...</td>\n",
       "    </tr>\n",
       "    <tr>\n",
       "      <th>38474</th>\n",
       "      <td>LOT-144</td>\n",
       "      <td>TRAY-2786</td>\n",
       "      <td>CELL-53783</td>\n",
       "      <td></td>\n",
       "      <td>11DEC2023:17:33:20</td>\n",
       "      <td>07</td>\n",
       "      <td>17</td>\n",
       "      <td>01</td>\n",
       "      <td>01</td>\n",
       "      <td>23</td>\n",
       "      <td>...</td>\n",
       "      <td>01</td>\n",
       "      <td>11</td>\n",
       "      <td>54</td>\n",
       "      <td>08</td>\n",
       "      <td>14</td>\n",
       "      <td>05</td>\n",
       "      <td>08</td>\n",
       "      <td>11</td>\n",
       "      <td>16</td>\n",
       "      <td>13</td>\n",
       "    </tr>\n",
       "    <tr>\n",
       "      <th>38497</th>\n",
       "      <td>LOT-144</td>\n",
       "      <td>TRAY-2788</td>\n",
       "      <td>CELL-53506</td>\n",
       "      <td></td>\n",
       "      <td>11DEC2023:17:59:00</td>\n",
       "      <td>03</td>\n",
       "      <td>08</td>\n",
       "      <td>02</td>\n",
       "      <td>02</td>\n",
       "      <td>23</td>\n",
       "      <td>...</td>\n",
       "      <td>01</td>\n",
       "      <td>16</td>\n",
       "      <td>08</td>\n",
       "      <td>04</td>\n",
       "      <td>16</td>\n",
       "      <td>55</td>\n",
       "      <td>11</td>\n",
       "      <td>13</td>\n",
       "      <td>29</td>\n",
       "      <td>03</td>\n",
       "    </tr>\n",
       "    <tr>\n",
       "      <th>38521</th>\n",
       "      <td>LOT-144</td>\n",
       "      <td>TRAY-2789</td>\n",
       "      <td>CELL-53508</td>\n",
       "      <td></td>\n",
       "      <td>11DEC2023:18:14:50</td>\n",
       "      <td>03</td>\n",
       "      <td>08</td>\n",
       "      <td>02</td>\n",
       "      <td>02</td>\n",
       "      <td>23</td>\n",
       "      <td>...</td>\n",
       "      <td>01</td>\n",
       "      <td>15</td>\n",
       "      <td>39</td>\n",
       "      <td>13</td>\n",
       "      <td>10</td>\n",
       "      <td>23</td>\n",
       "      <td>09</td>\n",
       "      <td>01</td>\n",
       "      <td>60</td>\n",
       "      <td>06</td>\n",
       "    </tr>\n",
       "    <tr>\n",
       "      <th>38546</th>\n",
       "      <td>LOT-144</td>\n",
       "      <td>TRAY-2790</td>\n",
       "      <td>CELL-53654</td>\n",
       "      <td></td>\n",
       "      <td>11DEC2023:18:23:55</td>\n",
       "      <td>08</td>\n",
       "      <td>21</td>\n",
       "      <td>03</td>\n",
       "      <td>02</td>\n",
       "      <td>23</td>\n",
       "      <td>...</td>\n",
       "      <td>01</td>\n",
       "      <td>05</td>\n",
       "      <td>43</td>\n",
       "      <td>09</td>\n",
       "      <td>07</td>\n",
       "      <td>04</td>\n",
       "      <td>05</td>\n",
       "      <td>04</td>\n",
       "      <td>55</td>\n",
       "      <td>13</td>\n",
       "    </tr>\n",
       "    <tr>\n",
       "      <th>38570</th>\n",
       "      <td>LOT-144</td>\n",
       "      <td>TRAY-2791</td>\n",
       "      <td>CELL-53530</td>\n",
       "      <td></td>\n",
       "      <td>11DEC2023:18:33:15</td>\n",
       "      <td>08</td>\n",
       "      <td>21</td>\n",
       "      <td>03</td>\n",
       "      <td>02</td>\n",
       "      <td>23</td>\n",
       "      <td>...</td>\n",
       "      <td>01</td>\n",
       "      <td>11</td>\n",
       "      <td>54</td>\n",
       "      <td>08</td>\n",
       "      <td>14</td>\n",
       "      <td>05</td>\n",
       "      <td>08</td>\n",
       "      <td>11</td>\n",
       "      <td>16</td>\n",
       "      <td>13</td>\n",
       "    </tr>\n",
       "  </tbody>\n",
       "</table>\n",
       "<p>1797 rows × 45 columns</p>\n",
       "</div>"
      ],
      "text/plain": [
       "        lot_id    tray_id     cell_id judge            dt_start rta1_box_col  \\\n",
       "0      LOT-100  TRAY-1002  CELL-10300        25NOV2023:05:17:55           04   \n",
       "25     LOT-100  TRAY-1004  CELL-10003        25NOV2023:05:45:20           07   \n",
       "50     LOT-100  TRAY-1005  CELL-10001        25NOV2023:06:00:55           01   \n",
       "75     LOT-100  TRAY-1007  CELL-10076        25NOV2023:06:19:50           07   \n",
       "100    LOT-100  TRAY-1008  CELL-10175        25NOV2023:06:36:25           07   \n",
       "...        ...        ...         ...   ...                 ...          ...   \n",
       "38474  LOT-144  TRAY-2786  CELL-53783        11DEC2023:17:33:20           07   \n",
       "38497  LOT-144  TRAY-2788  CELL-53506        11DEC2023:17:59:00           03   \n",
       "38521  LOT-144  TRAY-2789  CELL-53508        11DEC2023:18:14:50           03   \n",
       "38546  LOT-144  TRAY-2790  CELL-53654        11DEC2023:18:23:55           08   \n",
       "38570  LOT-144  TRAY-2791  CELL-53530        11DEC2023:18:33:15           08   \n",
       "\n",
       "      rta1_box_row rta1_box_dan hta1_box_col hta1_box_row  ... pc1_box_dan  \\\n",
       "0               08           04           03           20  ...          01   \n",
       "25              40           01           02           03  ...          01   \n",
       "50              13           01           01           02  ...          01   \n",
       "75              05           01           01           24  ...          01   \n",
       "100             05           01           01           24  ...          01   \n",
       "...            ...          ...          ...          ...  ...         ...   \n",
       "38474           17           01           01           23  ...          01   \n",
       "38497           08           02           02           23  ...          01   \n",
       "38521           08           02           02           23  ...          01   \n",
       "38546           21           03           02           23  ...          01   \n",
       "38570           21           03           02           23  ...          01   \n",
       "\n",
       "      sa1_box_col sa1_box_row sa1_box_dan sa2_box_col sa2_box_row  \\\n",
       "0              16          09          04          11          31   \n",
       "25             10          17          02          10          63   \n",
       "50             01          64          08          06          59   \n",
       "75             08          37          12          14          44   \n",
       "100            08          37          12          14          44   \n",
       "...           ...         ...         ...         ...         ...   \n",
       "38474          11          54          08          14          05   \n",
       "38497          16          08          04          16          55   \n",
       "38521          15          39          13          10          23   \n",
       "38546          05          43          09          07          04   \n",
       "38570          11          54          08          14          05   \n",
       "\n",
       "       sa2_box_dan  sa3_box_col sa3_box_row sa3_box_dan  \n",
       "0               04           16          54          10  \n",
       "25              06           06          59          08  \n",
       "50              08           09          50          08  \n",
       "75              02           10          48          05  \n",
       "100             02           10          48          05  \n",
       "...            ...          ...         ...         ...  \n",
       "38474           08           11          16          13  \n",
       "38497           11           13          29          03  \n",
       "38521           09           01          60          06  \n",
       "38546           05           04          55          13  \n",
       "38570           08           11          16          13  \n",
       "\n",
       "[1797 rows x 45 columns]"
      ]
     },
     "execution_count": 69,
     "metadata": {},
     "output_type": "execute_result"
    }
   ],
   "source": [
    "df_rcd"
   ]
  },
  {
   "cell_type": "code",
   "execution_count": 70,
   "metadata": {
    "scrolled": true
   },
   "outputs": [
    {
     "ename": "NameError",
     "evalue": "name 'df_rcd_c' is not defined",
     "output_type": "error",
     "traceback": [
      "\u001b[1;31m---------------------------------------------------------------------------\u001b[0m",
      "\u001b[1;31mNameError\u001b[0m                                 Traceback (most recent call last)",
      "Cell \u001b[1;32mIn[70], line 2\u001b[0m\n\u001b[0;32m      1\u001b[0m \u001b[38;5;66;03m# df_rcd_c 데이터프레임의 'c1_box_dan'과 'c1_box_col' 컬럼 값 확인\u001b[39;00m\n\u001b[1;32m----> 2\u001b[0m \u001b[38;5;28mprint\u001b[39m(\u001b[43mdf_rcd_c\u001b[49m[[\u001b[38;5;124m'\u001b[39m\u001b[38;5;124mc1_box_dan\u001b[39m\u001b[38;5;124m'\u001b[39m, \u001b[38;5;124m'\u001b[39m\u001b[38;5;124mc1_box_col\u001b[39m\u001b[38;5;124m'\u001b[39m]]\u001b[38;5;241m.\u001b[39mdrop_duplicates())\n\u001b[0;32m      4\u001b[0m \u001b[38;5;66;03m# 필터링 조건에 맞는 데이터가 있는지 확인\u001b[39;00m\n\u001b[0;32m      5\u001b[0m filtered_data \u001b[38;5;241m=\u001b[39m df_rcd_c\u001b[38;5;241m.\u001b[39mloc[df_rcd_c[\u001b[38;5;124m\"\u001b[39m\u001b[38;5;124mc1_box_dan\u001b[39m\u001b[38;5;124m\"\u001b[39m]\u001b[38;5;241m.\u001b[39misin([\u001b[38;5;241m1\u001b[39m, \u001b[38;5;241m2\u001b[39m, \u001b[38;5;241m3\u001b[39m, \u001b[38;5;241m4\u001b[39m]) \u001b[38;5;241m&\u001b[39m df_rcd_c[\u001b[38;5;124m\"\u001b[39m\u001b[38;5;124mc1_box_col\u001b[39m\u001b[38;5;124m\"\u001b[39m]\u001b[38;5;241m.\u001b[39misin([\u001b[38;5;241m22\u001b[39m, \u001b[38;5;241m21\u001b[39m, \u001b[38;5;241m23\u001b[39m])]\n",
      "\u001b[1;31mNameError\u001b[0m: name 'df_rcd_c' is not defined"
     ]
    }
   ],
   "source": [
    "# df_rcd_c 데이터프레임의 'c1_box_dan'과 'c1_box_col' 컬럼 값 확인\n",
    "print(df_rcd_c[['c1_box_dan', 'c1_box_col']].drop_duplicates())\n",
    "\n",
    "# 필터링 조건에 맞는 데이터가 있는지 확인\n",
    "filtered_data = df_rcd_c.loc[df_rcd_c[\"c1_box_dan\"].isin([1, 2, 3, 4]) & df_rcd_c[\"c1_box_col\"].isin([22, 21, 23])]\n",
    "print(\"필터링된 데이터 수:\", len(filtered_data))"
   ]
  },
  {
   "cell_type": "markdown",
   "metadata": {},
   "source": [
    "# df_sel => C그룹"
   ]
  },
  {
   "cell_type": "code",
   "execution_count": null,
   "metadata": {},
   "outputs": [],
   "source": [
    "df_process[\"c1_box_dan\"] = df_process[\"c1_box_dan\"].astype(int)\n",
    "df_process[\"c1_box_col\"] = df_process[\"c1_box_col\"].astype(int)"
   ]
  },
  {
   "cell_type": "code",
   "execution_count": null,
   "metadata": {},
   "outputs": [],
   "source": [
    "df_sel = df_process.query(\"c1_box_dan <= 4 and c1_box_col >= 20\")"
   ]
  },
  {
   "cell_type": "code",
   "execution_count": null,
   "metadata": {},
   "outputs": [],
   "source": [
    "df_sel['judge']"
   ]
  },
  {
   "cell_type": "code",
   "execution_count": null,
   "metadata": {},
   "outputs": [],
   "source": [
    "# #%% 설비간 불량률 C구역\n",
    "# df_rcd = df_process.select_dtypes(include = \"object\")\n",
    "# df_rcd.drop_duplicates(['lot_id', \"tray_id\"], keep=\"first\", inplace = True)\n",
    "# df_rcd_c = df_rcd[[\"lot_id\", \"tray_id\", \"c1_box_col\", \"c1_box_dan\"]]\n",
    "# df_rcd_c = pd.merge( tray_list_cut , df_rcd_c, on = [\"lot_id\", \"tray_id\"], how = \"inner\")\n",
    "# df_rcd_bad = df_rcd_c.loc[ df_rcd_c[\"c1_box_dan\"].isin([1, 2, 3, 4])]\n",
    "# df_rcd_bad = df_rcd_bad.loc[ df_rcd_bad[\"c1_box_col\"].isin([22, 21, 23])]\n",
    "\n",
    "# # #%% A열\n",
    "# # df_rcd_good = df_rcd_c.loc[ df_rcd_c[\"c1_box_dan\"].isin([\"08단\", \"09단\", \"10단\", \"11단\"])]\n",
    "# # df_rcd_good = df_rcd_good.loc[ df_rcd_good[\"c1_box_col\"].isin([\"14열\", \"13열\", \"12열\"])]\n",
    "# # print(df_rcd_good[\"odds_ratio\"].mean())\n",
    "\n",
    "# # #%% B 구역\n",
    "# # df_rcd_b = df_rcd_c.loc[ df_rcd_c[\"c1_box_dan\"].isin([\"04단\", \"05단\", \"06단\", \"07단\"])]\n",
    "# # df_rcd_b = df_rcd_b.loc[ df_rcd_b[\"c1_box_col\"].isin([\"10열\", \"12열\", \"11열\"])]\n",
    "# # print(df_rcd_b[\"odds_ratio\"].mean())"
   ]
  },
  {
   "cell_type": "code",
   "execution_count": null,
   "metadata": {},
   "outputs": [],
   "source": [
    "# df_rcd_bad"
   ]
  },
  {
   "cell_type": "markdown",
   "metadata": {},
   "source": [
    "## C구역과 B구역만 의사결정나무 돌리기"
   ]
  },
  {
   "cell_type": "code",
   "execution_count": null,
   "metadata": {},
   "outputs": [],
   "source": [
    "from sklearn.tree import DecisionTreeClassifier\n",
    "from sklearn.model_selection import train_test_split\n",
    "from sklearn.metrics import accuracy_score\n",
    "\n",
    "# 타겟 변수('judge')와 특성 변수 분리\n",
    "X = df_sel.drop(columns=['judge'])  # 'judge' 컬럼을 제외한 모든 컬럼을 특성 변수로 사용\n",
    "y = df_sel['judge']  # 'judge' 컬럼을 타겟 변수로 사용\n",
    "\n",
    "# 데이터 분할: train, test\n",
    "X_train, X_test, y_train, y_test = train_test_split(X, y, test_size=0.3, random_state=1234)\n",
    "\n",
    "# 의사결정트리 분류 모델 생성 및 훈련\n",
    "decision_tree = DecisionTreeClassifier(random_state=1234)\n",
    "decision_tree.fit(X_train, y_train)"
   ]
  },
  {
   "cell_type": "code",
   "execution_count": null,
   "metadata": {},
   "outputs": [],
   "source": [
    "# from sklearn.tree import DecisionTreeRegressor\n",
    "# from sklearn.model_selection import train_test_split\n",
    "# from sklearn.metrics import mean_squared_error\n",
    "\n",
    "# # C 구역 데이터 필터링\n",
    "# df_rcd_bad = df_rcd_c.loc[df_rcd_c[\"c1_box_dan\"].isin([\"01단\", \"02단\", \"03단\", \"04단\"]) & df_rcd_c[\"c1_box_col\"].isin([\"22열\", \"21열\", \"20열\"])]\n",
    "\n",
    "# # 데이터 분할: X(특성)와 y(타겟)\n",
    "# X = df_rcd_bad.drop(columns=['odds_ratio', 'lot_id', 'tray_id', 'c1_box_col', 'c1_box_dan'])  # 'odds_ratio'는 타겟 변수이므로 제외, 다른 범주형 컬럼도 제외\n",
    "# y = df_rcd_bad['odds_ratio']  # 'odds_ratio'를 타겟 변수로 사용\n",
    "\n",
    "# # 데이터 분할: train, test\n",
    "# X_train, X_test, y_train, y_test = train_test_split(X, y, test_size=0.3, random_state=1234)\n",
    "\n",
    "# print(\"분할 전 설명변수 데이터 :\", X.shape)\n",
    "# print(\"분할 후 설명변수 데이터 :Train\", X_train.shape, \"  Test\",X_test.shape)\n",
    "\n",
    "# # # 의사결정트리 모델 생성 및 훈련\n",
    "# # dt_reg = DecisionTreeRegressor(random_state=42)\n",
    "# # dt_reg.fit(X_train, y_train)\n",
    "\n",
    "# # # 모델 성능 평가\n",
    "# # y_pred = dt_reg.predict(X_test)\n",
    "# # mse = mean_squared_error(y_test, y_pred)\n",
    "# # print(\"MSE:\", mse)"
   ]
  },
  {
   "cell_type": "markdown",
   "metadata": {},
   "source": [
    "df_rcd_c에서 C 구역의 데이터를 필터링하고, 이 데이터를 사용하여 odds_ratio에 대한 의사결정트리 모델을 훈련하고 평가. X에 사용된 특성 데이터는 수정이 필요할 수 있으며, 실제 사용 가능한 수치형 특성을 기반으로 선택해야 합니다. 또한, 범주형 변수를 포함시키고 싶은 경우, 적절한 인코딩 방법(예: 원-핫 인코딩)을 적용"
   ]
  },
  {
   "cell_type": "markdown",
   "metadata": {},
   "source": [
    "## Default option Model"
   ]
  },
  {
   "cell_type": "code",
   "execution_count": null,
   "metadata": {},
   "outputs": [],
   "source": [
    "# 의사 결정 나무 모델 초기화 및 훈련\n",
    "decision_tree = DecisionTreeClassifier(random_state=1234)\n",
    "decision_tree.fit(X_train, y_train)\n",
    "\n",
    "# train 데이터 정확도\n",
    "print(\"Accuracy on training set: {:.3f}\".format(decision_tree.score(X_train, y_train)))\n",
    "# test 데이터 정확도\n",
    "print(\"Accuracy on test set: {:.3f}\".format(decision_tree.score(X_test, y_test)))"
   ]
  },
  {
   "cell_type": "code",
   "execution_count": null,
   "metadata": {},
   "outputs": [],
   "source": []
  }
 ],
 "metadata": {
  "colab": {
   "authorship_tag": "ABX9TyM80lQFB6/Er4U8jxYsqP/q",
   "provenance": []
  },
  "kernelspec": {
   "display_name": "Python 3 (ipykernel)",
   "language": "python",
   "name": "python3"
  },
  "language_info": {
   "codemirror_mode": {
    "name": "ipython",
    "version": 3
   },
   "file_extension": ".py",
   "mimetype": "text/x-python",
   "name": "python",
   "nbconvert_exporter": "python",
   "pygments_lexer": "ipython3",
   "version": "3.10.9"
  }
 },
 "nbformat": 4,
 "nbformat_minor": 1
}
